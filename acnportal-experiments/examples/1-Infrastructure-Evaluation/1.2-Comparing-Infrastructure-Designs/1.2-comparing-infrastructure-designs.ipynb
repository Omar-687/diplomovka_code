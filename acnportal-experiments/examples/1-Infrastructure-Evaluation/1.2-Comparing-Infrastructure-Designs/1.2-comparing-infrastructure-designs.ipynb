{
 "cells": [
  {
   "cell_type": "markdown",
   "metadata": {},
   "source": [
    "*If running in Colab run this first to install ACN-Portal.*"
   ]
  },
  {
   "cell_type": "code",
   "metadata": {
    "collapsed": false,
    "pycharm": {
     "name": "#%%\n"
    },
    "ExecuteTime": {
     "end_time": "2024-04-07T11:29:09.968865Z",
     "start_time": "2024-04-07T11:29:09.931569Z"
    }
   },
   "source": [
    "import subprocess\n",
    "import sys\n",
    "\n",
    "# if 'google.colab' in str(get_ipython()):\n",
    "#     print('Running on CoLab')\n",
    "#     subprocess.check_call([sys.executable, \"-m\", \"pip\", \"install\", \"acnportal\"])\n",
    "#     subprocess.check_call([sys.executable, \"-m\", \"pip\", \"install\", \"git+https://github.com/caltech-netlab/adacharge\"])"
   ],
   "outputs": [],
   "execution_count": 51
  },
  {
   "cell_type": "code",
   "metadata": {
    "collapsed": false,
    "pycharm": {
     "name": "#%%\n"
    },
    "ExecuteTime": {
     "end_time": "2024-04-07T11:29:10.061930Z",
     "start_time": "2024-04-07T11:29:10.056001Z"
    }
   },
   "source": [
    "import os\n",
    "import subprocess\n",
    "\n",
    "\n",
    "# if not os.path.exists(\"data/jpl_weekeday_40.pkl\"):\n",
    "#     if not os.path.exists(\"data\"):\n",
    "#         subprocess.run([\"mkdir\", \"data\"])\n",
    "#     subprocess.run([\"wget\", \"-P\", \"./data\", \"https://ev.caltech.edu/assets/data/gmm/jpl_weekday_40.pkl\"])"
   ],
   "outputs": [],
   "execution_count": 52
  },
  {
   "cell_type": "markdown",
   "metadata": {},
   "source": [
    "\n",
    "# Comparing Infrastructure Designs using ACN-Sim\n",
    "### by Zachary Lee\n",
    "#### Last updated: 4/16/2020\n",
    "\n",
    "\n",
    "In this case study, we demonstrate how ACN-Data and ACN-Sim can be used to evaluate infrastructure configurations and algorithms. We consider the case of a site host who expects to charge approximately 100 EVs per day with a demand pattern similar to that of JPL.\n",
    "\n",
    "The site host has several options, including\n",
    "*   102 Uncontrolled Level-1 EVSEs with a 200 kW Transformer\n",
    "*   30 Uncontrolled Level-2 EVSEs with a 200 kW Transformer\n",
    "*   102 Uncontrolled Level-2 EVSEs with a 670 kW Transformer\n",
    "*   102 Smart Level-2 EVSEs running LLF with a 200 kW Transformer\n",
    "\n",
    "We evaluate the scenarios on the number of times drivers would have to swap parking places to allow other drivers to charge, the percentage of total demand met, and the operating costs (calculated using ACN-Sim's integration with utility tariffs). This demonstrates the significant benefits of developing smart EV charging systems in terms of reducing both capital costs (transformer capacity) and operating costs.\n"
   ]
  },
  {
   "cell_type": "code",
   "metadata": {
    "collapsed": false,
    "pycharm": {
     "name": "#%%\n"
    },
    "ExecuteTime": {
     "end_time": "2024-04-07T11:29:10.093491Z",
     "start_time": "2024-04-07T11:29:10.065440Z"
    }
   },
   "source": [
    "import acnportal\n",
    "\n",
    "from copy import deepcopy\n",
    "import warnings\n",
    "import pytz\n",
    "import numpy as np\n",
    "import pandas as pd\n",
    "import pickle\n",
    "from datetime import datetime\n",
    "from acnportal import acnsim\n",
    "from acnportal import algorithms\n",
    "from acnportal.signals.tariffs.tou_tariff import TimeOfUseTariff\n",
    "from acnportal.acnsim.events import GaussianMixtureEvents\n",
    "from acnportal.contrib.acnsim import StochasticNetwork\n",
    "import adacharge"
   ],
   "outputs": [],
   "execution_count": 53
  },
  {
   "cell_type": "markdown",
   "metadata": {},
   "source": [
    "## Charging Network Designs\n",
    "\n",
    "To define our charging network options, we will use two functions which generate a StochasticNetwork object. The StochasticNetwork assigns users to spaces dynamically based on available spaces. In this example, we will assume each driver has equal preference for all spots.\n",
    "\n",
    "If all spaces are taken, drivers join a queue which is drained as drivers finish charging and move their vehicle (the early departure option specifies that drivers move their vehicle when it is done charging rather than their normal departure time). We record each time that the user leave and is replaced with someone from the queue as a swap. Swaps are undesirable as they waste time and are frustrating for users. Despite this, swapping is a common practice in many charging facilities where the number of users exceeds the number of EVSEs."
   ]
  },
  {
   "cell_type": "code",
   "metadata": {
    "collapsed": false,
    "pycharm": {
     "name": "#%%\n"
    },
    "ExecuteTime": {
     "end_time": "2024-04-07T11:29:10.140449Z",
     "start_time": "2024-04-07T11:29:10.097044Z"
    }
   },
   "source": [
    "def level_1_network(transformer_cap=200, evse_per_phase=34):\n",
    "    \"\"\" Configurable charging network for level-1 EVSEs connected line to ground\n",
    "        at 120 V.\n",
    "\n",
    "    Args:\n",
    "        transformer_cap (float): Capacity of the transformer feeding the network\n",
    "          [kW]\n",
    "        evse_per_phase (int): Number of EVSEs on each phase. Total number of\n",
    "          EVSEs will be 3 * evse_per_phase.\n",
    "\n",
    "    Returns:\n",
    "        ChargingNetwork: Configured ChargingNetwork.\n",
    "    \"\"\"\n",
    "    network = StochasticNetwork(early_departure=True)\n",
    "    voltage = 120\n",
    "\n",
    "    # Define the sets of EVSEs in the Caltech ACN.\n",
    "    A_ids = ['A-{0}'.format(i) for i in range(evse_per_phase)]\n",
    "    B_ids = ['B-{0}'.format(i) for i in range(evse_per_phase)]\n",
    "    C_ids = ['C-{0}'.format(i) for i in range(evse_per_phase)]\n",
    "\n",
    "    # Add Caltech EVSEs\n",
    "    for evse_id in A_ids:\n",
    "        network.register_evse(acnsim.FiniteRatesEVSE(evse_id, [0, 16]), voltage, 0)\n",
    "    for evse_id in B_ids:\n",
    "        network.register_evse(acnsim.FiniteRatesEVSE(evse_id, [0, 16]), voltage, 120)\n",
    "    for evse_id in C_ids:\n",
    "        network.register_evse(acnsim.FiniteRatesEVSE(evse_id, [0, 16]), voltage, -120)\n",
    "\n",
    "    # Add Caltech Constraint Set\n",
    "    I3a = acnsim.Current(A_ids)\n",
    "    I3b = acnsim.Current(B_ids)\n",
    "    I3c = acnsim.Current(C_ids)\n",
    "\n",
    "    # Define intermediate currents\n",
    "    I2a = (1 / 4) * (I3a - I3c)\n",
    "    I2b = (1 / 4) * (I3b - I3a)\n",
    "    I2c = (1 / 4) * (I3c - I3b)\n",
    "\n",
    "    # Build constraint set\n",
    "    primary_side_constr = transformer_cap * 1000 / 3 / 277\n",
    "    secondary_side_constr = transformer_cap * 1000 / 3 / 120\n",
    "    network.add_constraint(I3a, secondary_side_constr, name='Secondary A')\n",
    "    network.add_constraint(I3b, secondary_side_constr, name='Secondary B')\n",
    "    network.add_constraint(I3c, secondary_side_constr, name='Secondary C')\n",
    "    network.add_constraint(I2a, primary_side_constr, name='Primary A')\n",
    "    network.add_constraint(I2b, primary_side_constr, name='Primary B')\n",
    "    network.add_constraint(I2c, primary_side_constr, name='Primary C')\n",
    "\n",
    "    return network\n",
    "\n",
    "\n",
    "def level_2_network(transformer_cap=200, evse_per_phase=34):\n",
    "    \"\"\" Configurable charging network for level-2 EVSEs connected line to line\n",
    "        at 208 V.\n",
    "\n",
    "    Args:\n",
    "        transformer_cap (float): Capacity of the transformer feeding the network\n",
    "          [kW]\n",
    "        evse_per_phase (int): Number of EVSEs on each phase. Total number of\n",
    "          EVSEs will be 3 * evse_per_phase.\n",
    "\n",
    "    Returns:\n",
    "        ChargingNetwork: Configured ChargingNetwork.\n",
    "    \"\"\"\n",
    "    network = StochasticNetwork(early_departure=True)\n",
    "    voltage = 208\n",
    "    evse_type = 'AeroVironment'\n",
    "\n",
    "    # Define the sets of EVSEs in the Caltech ACN.\n",
    "    AB_ids = ['AB-{0}'.format(i) for i in range(evse_per_phase)]\n",
    "    BC_ids = ['BC-{0}'.format(i) for i in range(evse_per_phase)]\n",
    "    CA_ids = ['CA-{0}'.format(i) for i in range(evse_per_phase)]\n",
    "\n",
    "    # Add Caltech EVSEs\n",
    "    for evse_id in AB_ids:\n",
    "        network.register_evse(acnsim.get_evse_by_type(evse_id, evse_type), voltage, 30)\n",
    "    for evse_id in BC_ids:\n",
    "        network.register_evse(acnsim.get_evse_by_type(evse_id, evse_type), voltage, -90)\n",
    "    for evse_id in CA_ids:\n",
    "        network.register_evse(acnsim.get_evse_by_type(evse_id, evse_type), voltage, 150)\n",
    "\n",
    "    # Add Caltech Constraint Set\n",
    "    AB = acnsim.Current(AB_ids)\n",
    "    BC = acnsim.Current(BC_ids)\n",
    "    CA = acnsim.Current(CA_ids)\n",
    "\n",
    "    # Define intermediate currents\n",
    "    I3a = AB - CA\n",
    "    I3b = BC - AB\n",
    "    I3c = CA - BC\n",
    "    I2a = (1 / 4) * (I3a - I3c)\n",
    "    I2b = (1 / 4) * (I3b - I3a)\n",
    "    I2c = (1 / 4) * (I3c - I3b)\n",
    "\n",
    "    # Build constraint set\n",
    "    primary_side_constr = transformer_cap * 1000 / 3 / 277\n",
    "    secondary_side_constr = transformer_cap * 1000 / 3 / 120\n",
    "    network.add_constraint(I3a, secondary_side_constr, name='Secondary A')\n",
    "    network.add_constraint(I3b, secondary_side_constr, name='Secondary B')\n",
    "    network.add_constraint(I3c, secondary_side_constr, name='Secondary C')\n",
    "    network.add_constraint(I2a, primary_side_constr, name='Primary A')\n",
    "    network.add_constraint(I2b, primary_side_constr, name='Primary B')\n",
    "    network.add_constraint(I2c, primary_side_constr, name='Primary C')\n",
    "\n",
    "    return network\n"
   ],
   "outputs": [],
   "execution_count": 54
  },
  {
   "cell_type": "markdown",
   "metadata": {},
   "source": [
    "## Experiments\n",
    "\n",
    "In these experiments we will run a simulation for each system configuration can compare the results on key metrics."
   ]
  },
  {
   "cell_type": "code",
   "metadata": {
    "collapsed": false,
    "pycharm": {
     "name": "#%%\n"
    },
    "ExecuteTime": {
     "end_time": "2024-04-07T11:29:10.155211Z",
     "start_time": "2024-04-07T11:29:10.142638Z"
    }
   },
   "source": [
    "# How long each time discrete time interval in the simulation should be.\n",
    "PERIOD = 5  # minutes\n",
    "\n",
    "# Voltage of the network.\n",
    "VOLTAGE = 208  # volts\n",
    "\n",
    "# Default maximum charging rate for each EV battery.\n",
    "DEFAULT_BATTERY_POWER = 6.6 # kW"
   ],
   "outputs": [],
   "execution_count": 55
  },
  {
   "cell_type": "markdown",
   "metadata": {},
   "source": [
    "**Network Options**\n",
    "\n",
    "We consider five infrastrucuture configurations."
   ]
  },
  {
   "cell_type": "code",
   "metadata": {
    "collapsed": false,
    "pycharm": {
     "name": "#%%\n"
    },
    "ExecuteTime": {
     "end_time": "2024-04-07T11:29:10.557285Z",
     "start_time": "2024-04-07T11:29:10.156717Z"
    }
   },
   "source": [
    "# Network of 102 Level-1 EVSEs with a 200 kW Transformer\n",
    "level_1 = level_1_network(transformer_cap=200, evse_per_phase=34)\n",
    "\n",
    "# Network of 30 Level-2 EVSEs with a 200 kW Transformer\n",
    "level_2_200kW_30 = level_2_network(transformer_cap=200, evse_per_phase=10)\n",
    "\n",
    "# Network of 102 Level-2 EVSEs with a 200 kW Transformer\n",
    "level_2_200kW_102 = level_2_network(transformer_cap=200, evse_per_phase=34)\n",
    "\n",
    "# Network of 102 Level-2 EVSEs with a 680 kW Transformer\n",
    "level_2_680kW_102 = level_2_network(transformer_cap=680, evse_per_phase=34)\n",
    "\n",
    "# Network of 201 Level-2 EVSEs with a 200 kW Transformer\n",
    "level_2_200kW_201 = level_2_network(transformer_cap=200, evse_per_phase=67)"
   ],
   "outputs": [],
   "execution_count": 56
  },
  {
   "cell_type": "markdown",
   "metadata": {},
   "source": [
    "**Events**\n",
    "\n",
    "We assume that our site will have a usage profile similar to JPL, so we use a Gaussian Mixture Model trained on data from weekdays at JPL to generate events for this experiment. We assume that the site will be closed on weekends, so no charging will occur."
   ]
  },
  {
   "cell_type": "code",
   "metadata": {
    "collapsed": false,
    "pycharm": {
     "name": "#%%\n"
    },
    "ExecuteTime": {
     "end_time": "2024-04-07T11:29:10.572738Z",
     "start_time": "2024-04-07T11:29:10.560283Z"
    }
   },
   "source": [
    "# # The custom unpicklers is due to SO user Pankaj Saini's answer:  https://stackoverflow.com/a/51397373/3896008\n",
    "# class CustomUnpicklerJPLdata(pickle.Unpickler):\n",
    "#     def find_class(self, module, name):\n",
    "#         if name == \"sklearn.mixture.gaussian_mixture\":\n",
    "#             return sklearn.mixture.GaussianMixture\n",
    "#         if name == \"GaussianMixture\":\n",
    "#             return sklearn.mixture.GaussianMixture\n",
    "#         return super().find_class(module, name)\n",
    "# \n",
    "# def get_synth_events(sessions_per_day):\n",
    "#     gmm = CustomUnpicklerJPLdata(open('./data/jpl_weekday_40.pkl', \"rb\")).load()\n",
    "# \n",
    "# \n",
    "#     # Generate a list of the number of sessions to draw for each day.\n",
    "#     # This generates 30 days of charging demands.\n",
    "#     num_evs = [0]*2 + [sessions_per_day]*5 + [0]*2 + [sessions_per_day]*5 + [0]*2 + \\\n",
    "#               [sessions_per_day]*5 + [0]*2 + [sessions_per_day]*5 + [0]*2\n",
    "# \n",
    "#     # Note that because we are drawing from a distribution, some sessions will be\n",
    "#     # invalid, we ignore these sessions and remove the corresponding plugin events.\n",
    "#     gen = GaussianMixtureEvents(pretrained_model=gmm, duration_min=0.08334)\n",
    "# \n",
    "#     synth_events = gen.generate_events(num_evs, PERIOD, VOLTAGE, DEFAULT_BATTERY_POWER)\n",
    "#     return synth_events\n"
   ],
   "outputs": [],
   "execution_count": 57
  },
  {
   "cell_type": "code",
   "metadata": {
    "collapsed": false,
    "pycharm": {
     "name": "#%%\n"
    },
    "ExecuteTime": {
     "end_time": "2024-04-07T11:29:10.588360Z",
     "start_time": "2024-04-07T11:29:10.573823Z"
    }
   },
   "source": [
    "# Events with 100 EVs per weekday\n",
    "sessions_100 = None"
   ],
   "outputs": [],
   "execution_count": 58
  },
  {
   "cell_type": "code",
   "metadata": {
    "collapsed": false,
    "pycharm": {
     "name": "#%%\n"
    },
    "ExecuteTime": {
     "end_time": "2024-04-07T11:29:10.603374Z",
     "start_time": "2024-04-07T11:29:10.590498Z"
    }
   },
   "source": [
    "# Events with 200 EVs per weekday\n",
    "sessions_200 = None"
   ],
   "outputs": [],
   "execution_count": 59
  },
  {
   "cell_type": "code",
   "metadata": {
    "collapsed": false,
    "pycharm": {
     "name": "#%%\n"
    },
    "ExecuteTime": {
     "end_time": "2024-04-07T11:29:10.619458Z",
     "start_time": "2024-04-07T11:29:10.605953Z"
    }
   },
   "source": [
    "def run_experiment(network, algorithm, events):\n",
    "    \"\"\" Run simulation for the events defined previously and the specified\n",
    "        network / algorithm / events.\n",
    "    \"\"\"\n",
    "    # Timezone of the ACN we are using.\n",
    "    timezone = pytz.timezone('America/Los_Angeles')\n",
    "\n",
    "    # Start and End times are used when collecting data.\n",
    "    start = timezone.localize(datetime(2019, 6, 1))\n",
    "    end = timezone.localize(datetime(2019, 7, 1))\n",
    "    site = 'caltech'\n",
    "    period = 5  # minute\n",
    "    voltage = 208  # volts\n",
    "    default_battery_power = 32 * voltage / 1000  # kW\n",
    "    sch = deepcopy(algorithm)\n",
    "    cn = deepcopy(network)\n",
    "    signals = {'tariff': TimeOfUseTariff('sce_tou_ev_4_march_2019')}\n",
    "    API_KEY = 'DEMO_TOKEN'\n",
    "    events2 = acnsim.acndata_events.generate_events(API_KEY, site, start, end, period, voltage, default_battery_power)\n",
    "    sim = acnsim.Simulator(cn, sch, events2, start, period=period, verbose=False, signals=signals)\n",
    "    with warnings.catch_warnings():\n",
    "        warnings.simplefilter(\"ignore\")\n",
    "    sim.run()\n",
    "\n",
    "    r = {'proportion_of_energy_delivered': acnsim.proportion_of_energy_delivered(sim),\n",
    "         'energy_delivered': sum(ev.energy_delivered for ev in sim.ev_history.values()),\n",
    "         'num_swaps': cn.swaps,\n",
    "         'num_never_charged': cn.never_charged,\n",
    "         'energy_cost': acnsim.energy_cost(sim),\n",
    "         'demand_charge': acnsim.demand_charge(sim)\n",
    "         }\n",
    "    r['total_cost'] = r['energy_cost'] + r['demand_charge']\n",
    "    r['$/kWh'] = r['total_cost'] / r['energy_delivered']\n",
    "    return r"
   ],
   "outputs": [],
   "execution_count": 60
  },
  {
   "cell_type": "markdown",
   "metadata": {},
   "source": [
    "**Define Algorithms**\n",
    "\n",
    "We consider Uncontrolled, Least-Laxity First and Model Predictive Control (cost-minimization)."
   ]
  },
  {
   "cell_type": "code",
   "metadata": {
    "collapsed": false,
    "pycharm": {
     "name": "#%%\n"
    },
    "ExecuteTime": {
     "end_time": "2024-04-07T11:29:10.635239Z",
     "start_time": "2024-04-07T11:29:10.621772Z"
    }
   },
   "source": [
    "uncontrolled = algorithms.UncontrolledCharging()\n",
    "llf = algorithms.SortedSchedulingAlgo(algorithms.least_laxity_first)"
   ],
   "outputs": [],
   "execution_count": 61
  },
  {
   "cell_type": "code",
   "metadata": {
    "collapsed": false,
    "pycharm": {
     "name": "#%%\n"
    },
    "ExecuteTime": {
     "end_time": "2024-04-07T11:29:10.650549Z",
     "start_time": "2024-04-07T11:29:10.638222Z"
    }
   },
   "source": [
    "def days_remaining_scale_demand_charge(rates, infrastructure, interface,\n",
    "                                       baseline_peak=0, **kwargs):\n",
    "    day_index = interface.current_time // ((60 / interface.period) * 24)\n",
    "    days_in_month = 30\n",
    "    day_index = min(day_index, days_in_month - 1)\n",
    "    scale = 1 / (days_in_month - day_index)\n",
    "    dc = adacharge.demand_charge(rates, infrastructure, interface, baseline_peak, **kwargs)\n",
    "    return scale * dc"
   ],
   "outputs": [],
   "execution_count": 62
  },
  {
   "cell_type": "code",
   "metadata": {
    "collapsed": false,
    "pycharm": {
     "name": "#%%\n"
    },
    "ExecuteTime": {
     "end_time": "2024-04-07T11:29:10.666170Z",
     "start_time": "2024-04-07T11:29:10.651636Z"
    }
   },
   "source": [
    "cost_min_obj = [adacharge.ObjectiveComponent(adacharge.total_energy, 1000),\n",
    "                adacharge.ObjectiveComponent(adacharge.tou_energy_cost),\n",
    "                adacharge.ObjectiveComponent(days_remaining_scale_demand_charge),\n",
    "                adacharge.ObjectiveComponent(adacharge.quick_charge, 1e-6),\n",
    "                adacharge.ObjectiveComponent(adacharge.equal_share, 1e-12)\n",
    "               ]\n",
    "cost_min = adacharge.AdaptiveSchedulingAlgorithm(cost_min_obj, solver=\"ECOS\", quantize=True, reallocate=True, peak_limit=1000, max_recompute=1)"
   ],
   "outputs": [],
   "execution_count": 63
  },
  {
   "cell_type": "markdown",
   "metadata": {},
   "source": [
    "**Run Experiments (100 EVs)**"
   ]
  },
  {
   "cell_type": "code",
   "metadata": {
    "collapsed": false,
    "pycharm": {
     "name": "#%%\n"
    },
    "ExecuteTime": {
     "end_time": "2024-04-07T11:30:04.775020Z",
     "start_time": "2024-04-07T11:29:10.668513Z"
    }
   },
   "source": [
    "level1_unctrl_100 = run_experiment(level_1, uncontrolled, deepcopy(sessions_100))"
   ],
   "outputs": [],
   "execution_count": 64
  },
  {
   "cell_type": "code",
   "metadata": {
    "collapsed": false,
    "pycharm": {
     "name": "#%%\n"
    },
    "ExecuteTime": {
     "end_time": "2024-04-07T11:30:26.990207Z",
     "start_time": "2024-04-07T11:30:04.777128Z"
    }
   },
   "source": [
    "level2_200kW_untrl_100 = run_experiment(level_2_200kW_30, uncontrolled, deepcopy(sessions_100))"
   ],
   "outputs": [],
   "execution_count": 65
  },
  {
   "cell_type": "code",
   "metadata": {
    "collapsed": false,
    "pycharm": {
     "name": "#%%\n"
    },
    "ExecuteTime": {
     "end_time": "2024-04-07T11:30:48.691006Z",
     "start_time": "2024-04-07T11:30:26.992302Z"
    }
   },
   "source": "level2_670kW_unctrl_100 = run_experiment(level_2_200kW_30, uncontrolled, deepcopy(sessions_100))",
   "outputs": [],
   "execution_count": 66
  },
  {
   "cell_type": "code",
   "metadata": {
    "collapsed": false,
    "pycharm": {
     "name": "#%%\n"
    },
    "ExecuteTime": {
     "end_time": "2024-04-07T11:33:27.612761Z",
     "start_time": "2024-04-07T11:30:48.693149Z"
    }
   },
   "source": [
    "level2_200kW_llf_100 = run_experiment(level_2_200kW_102, llf, deepcopy(sessions_100))"
   ],
   "outputs": [],
   "execution_count": 67
  },
  {
   "cell_type": "code",
   "metadata": {
    "collapsed": false,
    "pycharm": {
     "name": "#%%\n"
    },
    "ExecuteTime": {
     "end_time": "2024-04-07T11:33:45.710292Z",
     "start_time": "2024-04-07T11:33:27.632123Z"
    }
   },
   "source": [
    "level2_200kW_cost_min_100 = run_experiment(level_2_200kW_102, cost_min, deepcopy(sessions_100))"
   ],
   "outputs": [
    {
     "ename": "TypeError",
     "evalue": "aggregate_period_energy() missing 1 required positional argument: 'interface'",
     "output_type": "error",
     "traceback": [
      "\u001B[1;31m---------------------------------------------------------------------------\u001B[0m",
      "\u001B[1;31mTypeError\u001B[0m                                 Traceback (most recent call last)",
      "Cell \u001B[1;32mIn[68], line 1\u001B[0m\n\u001B[1;32m----> 1\u001B[0m level2_200kW_cost_min_100 \u001B[38;5;241m=\u001B[39m \u001B[43mrun_experiment\u001B[49m\u001B[43m(\u001B[49m\u001B[43mlevel_2_200kW_102\u001B[49m\u001B[43m,\u001B[49m\u001B[43m \u001B[49m\u001B[43mcost_min\u001B[49m\u001B[43m,\u001B[49m\u001B[43m \u001B[49m\u001B[43mdeepcopy\u001B[49m\u001B[43m(\u001B[49m\u001B[43msessions_100\u001B[49m\u001B[43m)\u001B[49m\u001B[43m)\u001B[49m\n",
      "Cell \u001B[1;32mIn[60], line 23\u001B[0m, in \u001B[0;36mrun_experiment\u001B[1;34m(network, algorithm, events)\u001B[0m\n\u001B[0;32m     21\u001B[0m \u001B[38;5;28;01mwith\u001B[39;00m warnings\u001B[38;5;241m.\u001B[39mcatch_warnings():\n\u001B[0;32m     22\u001B[0m     warnings\u001B[38;5;241m.\u001B[39msimplefilter(\u001B[38;5;124m\"\u001B[39m\u001B[38;5;124mignore\u001B[39m\u001B[38;5;124m\"\u001B[39m)\n\u001B[1;32m---> 23\u001B[0m \u001B[43msim\u001B[49m\u001B[38;5;241;43m.\u001B[39;49m\u001B[43mrun\u001B[49m\u001B[43m(\u001B[49m\u001B[43m)\u001B[49m\n\u001B[0;32m     25\u001B[0m r \u001B[38;5;241m=\u001B[39m {\u001B[38;5;124m'\u001B[39m\u001B[38;5;124mproportion_of_energy_delivered\u001B[39m\u001B[38;5;124m'\u001B[39m: acnsim\u001B[38;5;241m.\u001B[39mproportion_of_energy_delivered(sim),\n\u001B[0;32m     26\u001B[0m      \u001B[38;5;124m'\u001B[39m\u001B[38;5;124menergy_delivered\u001B[39m\u001B[38;5;124m'\u001B[39m: \u001B[38;5;28msum\u001B[39m(ev\u001B[38;5;241m.\u001B[39menergy_delivered \u001B[38;5;28;01mfor\u001B[39;00m ev \u001B[38;5;129;01min\u001B[39;00m sim\u001B[38;5;241m.\u001B[39mev_history\u001B[38;5;241m.\u001B[39mvalues()),\n\u001B[0;32m     27\u001B[0m      \u001B[38;5;124m'\u001B[39m\u001B[38;5;124mnum_swaps\u001B[39m\u001B[38;5;124m'\u001B[39m: cn\u001B[38;5;241m.\u001B[39mswaps,\n\u001B[1;32m   (...)\u001B[0m\n\u001B[0;32m     30\u001B[0m      \u001B[38;5;124m'\u001B[39m\u001B[38;5;124mdemand_charge\u001B[39m\u001B[38;5;124m'\u001B[39m: acnsim\u001B[38;5;241m.\u001B[39mdemand_charge(sim)\n\u001B[0;32m     31\u001B[0m      }\n\u001B[0;32m     32\u001B[0m r[\u001B[38;5;124m'\u001B[39m\u001B[38;5;124mtotal_cost\u001B[39m\u001B[38;5;124m'\u001B[39m] \u001B[38;5;241m=\u001B[39m r[\u001B[38;5;124m'\u001B[39m\u001B[38;5;124menergy_cost\u001B[39m\u001B[38;5;124m'\u001B[39m] \u001B[38;5;241m+\u001B[39m r[\u001B[38;5;124m'\u001B[39m\u001B[38;5;124mdemand_charge\u001B[39m\u001B[38;5;124m'\u001B[39m]\n",
      "File \u001B[1;32m~\\AppData\\Local\\Programs\\Python\\Python310\\lib\\site-packages\\acnportal\\acnsim\\simulator.py:126\u001B[0m, in \u001B[0;36mSimulator.run\u001B[1;34m(self)\u001B[0m\n\u001B[0;32m    116\u001B[0m     \u001B[38;5;28mself\u001B[39m\u001B[38;5;241m.\u001B[39m_process_event(e)\n\u001B[0;32m    117\u001B[0m \u001B[38;5;28;01mif\u001B[39;00m (\n\u001B[0;32m    118\u001B[0m     \u001B[38;5;28mself\u001B[39m\u001B[38;5;241m.\u001B[39m_resolve\n\u001B[0;32m    119\u001B[0m     \u001B[38;5;129;01mor\u001B[39;00m \u001B[38;5;28mself\u001B[39m\u001B[38;5;241m.\u001B[39mmax_recompute \u001B[38;5;129;01mis\u001B[39;00m \u001B[38;5;129;01mnot\u001B[39;00m \u001B[38;5;28;01mNone\u001B[39;00m\n\u001B[1;32m   (...)\u001B[0m\n\u001B[0;32m    124\u001B[0m     )\n\u001B[0;32m    125\u001B[0m ):\n\u001B[1;32m--> 126\u001B[0m     new_schedule \u001B[38;5;241m=\u001B[39m \u001B[38;5;28;43mself\u001B[39;49m\u001B[38;5;241;43m.\u001B[39;49m\u001B[43mscheduler\u001B[49m\u001B[38;5;241;43m.\u001B[39;49m\u001B[43mrun\u001B[49m\u001B[43m(\u001B[49m\u001B[43m)\u001B[49m\n\u001B[0;32m    127\u001B[0m     \u001B[38;5;28mself\u001B[39m\u001B[38;5;241m.\u001B[39m_update_schedules(new_schedule)\n\u001B[0;32m    128\u001B[0m     \u001B[38;5;28;01mif\u001B[39;00m \u001B[38;5;28mself\u001B[39m\u001B[38;5;241m.\u001B[39mschedule_history \u001B[38;5;129;01mis\u001B[39;00m \u001B[38;5;129;01mnot\u001B[39;00m \u001B[38;5;28;01mNone\u001B[39;00m:\n",
      "File \u001B[1;32m~\\AppData\\Local\\Programs\\Python\\Python310\\lib\\site-packages\\acnportal\\algorithms\\base_algorithm.py:104\u001B[0m, in \u001B[0;36mBaseAlgorithm.run\u001B[1;34m(self)\u001B[0m\n\u001B[0;32m    102\u001B[0m active_sessions \u001B[38;5;241m=\u001B[39m \u001B[38;5;28mself\u001B[39m\u001B[38;5;241m.\u001B[39minterface\u001B[38;5;241m.\u001B[39mactive_sessions()\n\u001B[0;32m    103\u001B[0m start_time \u001B[38;5;241m=\u001B[39m time\u001B[38;5;241m.\u001B[39mperf_counter()\n\u001B[1;32m--> 104\u001B[0m schedules \u001B[38;5;241m=\u001B[39m \u001B[38;5;28;43mself\u001B[39;49m\u001B[38;5;241;43m.\u001B[39;49m\u001B[43mschedule\u001B[49m\u001B[43m(\u001B[49m\u001B[43mactive_sessions\u001B[49m\u001B[43m)\u001B[49m\n\u001B[0;32m    105\u001B[0m solve_time \u001B[38;5;241m=\u001B[39m time\u001B[38;5;241m.\u001B[39mperf_counter() \u001B[38;5;241m-\u001B[39m start_time\n\u001B[0;32m    106\u001B[0m \u001B[38;5;28mself\u001B[39m\u001B[38;5;241m.\u001B[39msolve_stats\u001B[38;5;241m.\u001B[39mappend(\n\u001B[0;32m    107\u001B[0m     {\u001B[38;5;124m\"\u001B[39m\u001B[38;5;124msolve_time\u001B[39m\u001B[38;5;124m\"\u001B[39m: solve_time, \u001B[38;5;124m\"\u001B[39m\u001B[38;5;124mactive_sessions\u001B[39m\u001B[38;5;124m\"\u001B[39m: \u001B[38;5;28mlen\u001B[39m(active_sessions)}\n\u001B[0;32m    108\u001B[0m )\n",
      "File \u001B[1;32m~\\AppData\\Local\\Programs\\Python\\Python310\\lib\\site-packages\\adacharge\\adacharge.py:169\u001B[0m, in \u001B[0;36mAdaptiveSchedulingAlgorithm.schedule\u001B[1;34m(self, active_sessions)\u001B[0m\n\u001B[0;32m    164\u001B[0m     optimization_horizon \u001B[38;5;241m=\u001B[39m \u001B[38;5;28mmax\u001B[39m(\n\u001B[0;32m    165\u001B[0m         s\u001B[38;5;241m.\u001B[39marrival_offset \u001B[38;5;241m+\u001B[39m s\u001B[38;5;241m.\u001B[39mremaining_time \u001B[38;5;28;01mfor\u001B[39;00m s \u001B[38;5;129;01min\u001B[39;00m active_sessions\n\u001B[0;32m    166\u001B[0m     )\n\u001B[0;32m    167\u001B[0m     trimmed_peak \u001B[38;5;241m=\u001B[39m \u001B[38;5;28mself\u001B[39m\u001B[38;5;241m.\u001B[39mpeak_limit[t : t \u001B[38;5;241m+\u001B[39m optimization_horizon]\n\u001B[1;32m--> 169\u001B[0m rates_matrix \u001B[38;5;241m=\u001B[39m \u001B[43moptimizer\u001B[49m\u001B[38;5;241;43m.\u001B[39;49m\u001B[43msolve\u001B[49m\u001B[43m(\u001B[49m\n\u001B[0;32m    170\u001B[0m \u001B[43m    \u001B[49m\u001B[43mactive_sessions\u001B[49m\u001B[43m,\u001B[49m\n\u001B[0;32m    171\u001B[0m \u001B[43m    \u001B[49m\u001B[43minfrastructure\u001B[49m\u001B[43m,\u001B[49m\n\u001B[0;32m    172\u001B[0m \u001B[43m    \u001B[49m\u001B[43mpeak_limit\u001B[49m\u001B[38;5;241;43m=\u001B[39;49m\u001B[43mtrimmed_peak\u001B[49m\u001B[43m,\u001B[49m\n\u001B[0;32m    173\u001B[0m \u001B[43m    \u001B[49m\u001B[43mprev_peak\u001B[49m\u001B[38;5;241;43m=\u001B[39;49m\u001B[38;5;28;43mself\u001B[39;49m\u001B[38;5;241;43m.\u001B[39;49m\u001B[43minterface\u001B[49m\u001B[38;5;241;43m.\u001B[39;49m\u001B[43mget_prev_peak\u001B[49m\u001B[43m(\u001B[49m\u001B[43m)\u001B[49m\u001B[43m,\u001B[49m\n\u001B[0;32m    174\u001B[0m \u001B[43m    \u001B[49m\u001B[43mverbose\u001B[49m\u001B[38;5;241;43m=\u001B[39;49m\u001B[38;5;28;43mself\u001B[39;49m\u001B[38;5;241;43m.\u001B[39;49m\u001B[43mverbose\u001B[49m\n\u001B[0;32m    175\u001B[0m \u001B[43m\u001B[49m\u001B[43m)\u001B[49m\n\u001B[0;32m    176\u001B[0m \u001B[38;5;28;01mif\u001B[39;00m \u001B[38;5;28mself\u001B[39m\u001B[38;5;241m.\u001B[39mquantize:\n\u001B[0;32m    177\u001B[0m     \u001B[38;5;28;01mif\u001B[39;00m \u001B[38;5;28mself\u001B[39m\u001B[38;5;241m.\u001B[39mreallocate:\n",
      "File \u001B[1;32m~\\AppData\\Local\\Programs\\Python\\Python310\\lib\\site-packages\\adacharge\\adaptive_charging_optimization.py:316\u001B[0m, in \u001B[0;36mAdaptiveChargingOptimization.solve\u001B[1;34m(self, active_sessions, infrastructure, peak_limit, prev_peak, verbose)\u001B[0m\n\u001B[0;32m    314\u001B[0m \u001B[38;5;28;01mif\u001B[39;00m \u001B[38;5;28mlen\u001B[39m(active_sessions) \u001B[38;5;241m==\u001B[39m \u001B[38;5;241m0\u001B[39m:\n\u001B[0;32m    315\u001B[0m     \u001B[38;5;28;01mreturn\u001B[39;00m np\u001B[38;5;241m.\u001B[39mzeros((infrastructure\u001B[38;5;241m.\u001B[39mnum_stations, \u001B[38;5;241m1\u001B[39m))\n\u001B[1;32m--> 316\u001B[0m problem_dict \u001B[38;5;241m=\u001B[39m \u001B[38;5;28;43mself\u001B[39;49m\u001B[38;5;241;43m.\u001B[39;49m\u001B[43mbuild_problem\u001B[49m\u001B[43m(\u001B[49m\n\u001B[0;32m    317\u001B[0m \u001B[43m    \u001B[49m\u001B[43mactive_sessions\u001B[49m\u001B[43m,\u001B[49m\u001B[43m \u001B[49m\u001B[43minfrastructure\u001B[49m\u001B[43m,\u001B[49m\u001B[43m \u001B[49m\u001B[43mpeak_limit\u001B[49m\u001B[43m,\u001B[49m\u001B[43m \u001B[49m\u001B[43mprev_peak\u001B[49m\n\u001B[0;32m    318\u001B[0m \u001B[43m\u001B[49m\u001B[43m)\u001B[49m\n\u001B[0;32m    319\u001B[0m prob \u001B[38;5;241m=\u001B[39m cp\u001B[38;5;241m.\u001B[39mProblem(\n\u001B[0;32m    320\u001B[0m     problem_dict[\u001B[38;5;124m\"\u001B[39m\u001B[38;5;124mobjective\u001B[39m\u001B[38;5;124m\"\u001B[39m], \u001B[38;5;28mlist\u001B[39m(problem_dict[\u001B[38;5;124m\"\u001B[39m\u001B[38;5;124mconstraints\u001B[39m\u001B[38;5;124m\"\u001B[39m]\u001B[38;5;241m.\u001B[39mvalues())\n\u001B[0;32m    321\u001B[0m )\n\u001B[0;32m    322\u001B[0m prob\u001B[38;5;241m.\u001B[39msolve(solver\u001B[38;5;241m=\u001B[39m\u001B[38;5;28mself\u001B[39m\u001B[38;5;241m.\u001B[39msolver, verbose\u001B[38;5;241m=\u001B[39mverbose)\n",
      "File \u001B[1;32m~\\AppData\\Local\\Programs\\Python\\Python310\\lib\\site-packages\\adacharge\\adaptive_charging_optimization.py:279\u001B[0m, in \u001B[0;36mAdaptiveChargingOptimization.build_problem\u001B[1;34m(self, active_sessions, infrastructure, peak_limit, prev_peak)\u001B[0m\n\u001B[0;32m    275\u001B[0m constraints\u001B[38;5;241m.\u001B[39mupdate(\u001B[38;5;28mself\u001B[39m\u001B[38;5;241m.\u001B[39mpeak_constraint(rates, peak_limit))\n\u001B[0;32m    277\u001B[0m \u001B[38;5;66;03m# Objective Function\u001B[39;00m\n\u001B[0;32m    278\u001B[0m objective \u001B[38;5;241m=\u001B[39m cp\u001B[38;5;241m.\u001B[39mMaximize(\n\u001B[1;32m--> 279\u001B[0m     \u001B[38;5;28;43mself\u001B[39;49m\u001B[38;5;241;43m.\u001B[39;49m\u001B[43mbuild_objective\u001B[49m\u001B[43m(\u001B[49m\u001B[43mrates\u001B[49m\u001B[38;5;241;43m=\u001B[39;49m\u001B[43mrates\u001B[49m\u001B[43m,\u001B[49m\n\u001B[0;32m    280\u001B[0m \u001B[43m                         \u001B[49m\u001B[43mactive_sessions\u001B[49m\u001B[38;5;241;43m=\u001B[39;49m\u001B[43mactive_sessions\u001B[49m\u001B[43m,\u001B[49m\n\u001B[0;32m    281\u001B[0m \u001B[43m                         \u001B[49m\u001B[43minfrastructure\u001B[49m\u001B[38;5;241;43m=\u001B[39;49m\u001B[43minfrastructure\u001B[49m\u001B[43m,\u001B[49m\n\u001B[0;32m    282\u001B[0m \u001B[43m                         \u001B[49m\u001B[43mprev_peak\u001B[49m\u001B[38;5;241;43m=\u001B[39;49m\u001B[43mprev_peak\u001B[49m\u001B[43m)\u001B[49m\n\u001B[0;32m    283\u001B[0m )\n\u001B[0;32m    284\u001B[0m \u001B[38;5;28;01mreturn\u001B[39;00m {\n\u001B[0;32m    285\u001B[0m     \u001B[38;5;124m\"\u001B[39m\u001B[38;5;124mobjective\u001B[39m\u001B[38;5;124m\"\u001B[39m: objective,\n\u001B[0;32m    286\u001B[0m     \u001B[38;5;124m\"\u001B[39m\u001B[38;5;124mconstraints\u001B[39m\u001B[38;5;124m\"\u001B[39m: constraints,\n\u001B[0;32m    287\u001B[0m     \u001B[38;5;124m\"\u001B[39m\u001B[38;5;124mvariables\u001B[39m\u001B[38;5;124m\"\u001B[39m: {\u001B[38;5;124m\"\u001B[39m\u001B[38;5;124mrates\u001B[39m\u001B[38;5;124m\"\u001B[39m: rates},\n\u001B[0;32m    288\u001B[0m }\n",
      "File \u001B[1;32m~\\AppData\\Local\\Programs\\Python\\Python310\\lib\\site-packages\\adacharge\\adaptive_charging_optimization.py:212\u001B[0m, in \u001B[0;36mAdaptiveChargingOptimization.build_objective\u001B[1;34m(self, rates, active_sessions, infrastructure, **kwargs)\u001B[0m\n\u001B[0;32m    210\u001B[0m obj \u001B[38;5;241m=\u001B[39m cp\u001B[38;5;241m.\u001B[39mConstant(\u001B[38;5;241m0\u001B[39m)\n\u001B[0;32m    211\u001B[0m \u001B[38;5;28;01mfor\u001B[39;00m component \u001B[38;5;129;01min\u001B[39;00m \u001B[38;5;28mself\u001B[39m\u001B[38;5;241m.\u001B[39mobjective_configuration:\n\u001B[1;32m--> 212\u001B[0m     obj \u001B[38;5;241m+\u001B[39m\u001B[38;5;241m=\u001B[39m component\u001B[38;5;241m.\u001B[39mcoefficient \u001B[38;5;241m*\u001B[39m component\u001B[38;5;241m.\u001B[39mfunction(\n\u001B[0;32m    213\u001B[0m         rates,\n\u001B[0;32m    214\u001B[0m         active_sessions,\n\u001B[0;32m    215\u001B[0m         infrastructure,\n\u001B[0;32m    216\u001B[0m         \u001B[38;5;28mself\u001B[39m\u001B[38;5;241m.\u001B[39minterface,\n\u001B[0;32m    217\u001B[0m         \u001B[38;5;241m*\u001B[39m\u001B[38;5;241m*\u001B[39m_merge_dicts(kwargs, component\u001B[38;5;241m.\u001B[39mkwargs),\n\u001B[0;32m    218\u001B[0m     )\n\u001B[0;32m    219\u001B[0m \u001B[38;5;28;01mreturn\u001B[39;00m obj\n",
      "File \u001B[1;32m~\\AppData\\Local\\Programs\\Python\\Python310\\lib\\site-packages\\adacharge\\adaptive_charging_optimization.py:384\u001B[0m, in \u001B[0;36mtou_energy_cost\u001B[1;34m(rates, active_sessions, infrastructure, interface, **kwargs)\u001B[0m\n\u001B[0;32m    382\u001B[0m \u001B[38;5;28;01mdef\u001B[39;00m \u001B[38;5;21mtou_energy_cost\u001B[39m(rates, active_sessions, infrastructure, interface, \u001B[38;5;241m*\u001B[39m\u001B[38;5;241m*\u001B[39mkwargs):\n\u001B[0;32m    383\u001B[0m     current_prices \u001B[38;5;241m=\u001B[39m interface\u001B[38;5;241m.\u001B[39mget_prices(rates\u001B[38;5;241m.\u001B[39mshape[\u001B[38;5;241m1\u001B[39m])  \u001B[38;5;66;03m# $/kWh\u001B[39;00m\n\u001B[1;32m--> 384\u001B[0m     \u001B[38;5;28;01mreturn\u001B[39;00m \u001B[38;5;241m-\u001B[39mcurrent_prices \u001B[38;5;241m@\u001B[39m \u001B[43maggregate_period_energy\u001B[49m\u001B[43m(\u001B[49m\u001B[43mrates\u001B[49m\u001B[43m,\u001B[49m\u001B[43m \u001B[49m\u001B[43minfrastructure\u001B[49m\u001B[43m,\u001B[49m\u001B[43m \u001B[49m\u001B[43minterface\u001B[49m\u001B[43m)\u001B[49m\n",
      "\u001B[1;31mTypeError\u001B[0m: aggregate_period_energy() missing 1 required positional argument: 'interface'"
     ]
    }
   ],
   "execution_count": 68
  },
  {
   "cell_type": "markdown",
   "metadata": {},
   "source": [
    "**Run Experiments (200 EVs)**"
   ]
  },
  {
   "cell_type": "code",
   "metadata": {
    "collapsed": false,
    "pycharm": {
     "name": "#%%\n"
    },
    "ExecuteTime": {
     "end_time": "2024-04-07T11:33:45.745206Z",
     "start_time": "2024-04-07T11:33:45.742572Z"
    }
   },
   "source": [
    "level1_unctrl_200 = run_experiment(level_1, uncontrolled, deepcopy(sessions_200))"
   ],
   "outputs": [],
   "execution_count": null
  },
  {
   "cell_type": "code",
   "metadata": {
    "collapsed": false,
    "pycharm": {
     "name": "#%%\n"
    }
   },
   "source": [
    "level2_200kW_untrl_200 = run_experiment(level_2_200kW_30, uncontrolled, deepcopy(sessions_200))"
   ],
   "outputs": [],
   "execution_count": null
  },
  {
   "cell_type": "code",
   "metadata": {
    "collapsed": false,
    "pycharm": {
     "name": "#%%\n"
    }
   },
   "source": [
    "level2_680kW_unctrl_200 = run_experiment(level_2_680kW_102, uncontrolled, deepcopy(sessions_200))"
   ],
   "outputs": [],
   "execution_count": null
  },
  {
   "cell_type": "code",
   "metadata": {
    "collapsed": false,
    "pycharm": {
     "name": "#%%\n"
    }
   },
   "source": [
    "level2_200kW_llf_200 = run_experiment(level_2_200kW_102, llf, deepcopy(sessions_200))"
   ],
   "outputs": [],
   "execution_count": null
  },
  {
   "cell_type": "code",
   "metadata": {
    "collapsed": false,
    "pycharm": {
     "name": "#%%\n"
    }
   },
   "source": [
    "level2_200kW_cost_min_200 = run_experiment(level_2_200kW_102, cost_min, deepcopy(sessions_200))"
   ],
   "outputs": [],
   "execution_count": null
  },
  {
   "cell_type": "code",
   "metadata": {
    "collapsed": false,
    "pycharm": {
     "name": "#%%\n"
    }
   },
   "source": [
    "level2_200kW_cost_min_201_200 = run_experiment(level_2_200kW_201, cost_min, deepcopy(sessions_200))"
   ],
   "outputs": [],
   "execution_count": null
  },
  {
   "cell_type": "markdown",
   "metadata": {},
   "source": [
    "### Analyze Results"
   ]
  },
  {
   "cell_type": "code",
   "metadata": {
    "collapsed": false,
    "pycharm": {
     "name": "#%%\n"
    }
   },
   "source": [
    "evs_100 = pd.DataFrame({\n",
    "    'Level 1: Unctrl: 200 kW : 102 EVSEs': level1_unctrl_100,\n",
    "    'Level 2: Unctrl: 200 kW : 30 EVSEs':  level2_200kW_untrl_100,\n",
    "    'Level 2: Unctrl: 670 kW : 102 EVSEs': level2_670kW_unctrl_100,\n",
    "    'Level 2: LLF: 200 kW : 102 EVSEs': level2_200kW_llf_100,\n",
    "    'Level 2: Min Cost: 200 kW : 102 EVSEs': level2_200kW_cost_min_100\n",
    "})"
   ],
   "outputs": [],
   "execution_count": null
  },
  {
   "cell_type": "code",
   "metadata": {
    "collapsed": false,
    "pycharm": {
     "name": "#%%\n"
    }
   },
   "source": [
    "evs_100.to_csv(\"results/100_EV_comparison.csv\")"
   ],
   "outputs": [],
   "execution_count": null
  },
  {
   "cell_type": "code",
   "metadata": {},
   "source": [
    "pd.read_csv(\"results/100_EV_comparison.csv\", index_col=0)"
   ],
   "outputs": [],
   "execution_count": null
  },
  {
   "cell_type": "code",
   "metadata": {
    "collapsed": false,
    "pycharm": {
     "name": "#%%\n"
    }
   },
   "source": [
    "evs_200 = pd.DataFrame({\n",
    "    'Level 1: Unctrl: 200 kW : 102 EVSEs': level1_unctrl_200,\n",
    "    'Level 2: Unctrl: 200 kW : 30 EVSEs':  level2_200kW_untrl_200,\n",
    "    'Level 2: Unctrl: 680 kW : 102 EVSEs': level2_680kW_unctrl_200,\n",
    "    'Level 2: LLF: 200 kW : 102 EVSEs': level2_200kW_llf_200,\n",
    "    'Level 2: Min Cost: 200 kW : 102 EVSEs': level2_200kW_cost_min_200,\n",
    "    'Level 2: Min Cost: 200 kW : 201 EVSEs': level2_200kW_cost_min_201_200\n",
    "})"
   ],
   "outputs": [],
   "execution_count": null
  },
  {
   "cell_type": "code",
   "metadata": {
    "collapsed": false,
    "pycharm": {
     "name": "#%%\n"
    }
   },
   "source": [
    "evs_200.to_csv(\"results/200_EV_comparison.csv\")"
   ],
   "outputs": [],
   "execution_count": null
  },
  {
   "cell_type": "code",
   "metadata": {},
   "source": [
    "pd.read_csv(\"results/200_EV_comparison.csv\", index_col=0)"
   ],
   "outputs": [],
   "execution_count": null
  },
  {
   "cell_type": "markdown",
   "metadata": {},
   "source": [
    "From the above table we can see that smart charging using even a simple LLF algorithm has significant benefits over Uncontrolled Level-1 charging in terms of amount of demand met. It also requires far less infrastructure than Uncontrolled Level-2 charging with the same number of EVSEs, and without requiring users to swap spaces mid-day.\n"
   ]
  }
 ],
 "metadata": {
  "kernelspec": {
   "display_name": "Python 3",
   "language": "python",
   "name": "python3"
  },
  "language_info": {
   "codemirror_mode": {
    "name": "ipython",
    "version": 3
   },
   "file_extension": ".py",
   "mimetype": "text/x-python",
   "name": "python",
   "nbconvert_exporter": "python",
   "pygments_lexer": "ipython3",
   "version": "3.8.1"
  }
 },
 "nbformat": 4,
 "nbformat_minor": 4
}
