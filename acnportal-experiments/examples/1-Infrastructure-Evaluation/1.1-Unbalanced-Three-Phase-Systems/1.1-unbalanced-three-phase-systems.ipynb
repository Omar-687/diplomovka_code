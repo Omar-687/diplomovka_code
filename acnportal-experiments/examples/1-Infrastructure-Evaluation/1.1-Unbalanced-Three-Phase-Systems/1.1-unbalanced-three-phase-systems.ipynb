{
 "cells": [
  {
   "cell_type": "markdown",
   "metadata": {
    "colab_type": "text",
    "id": "S8wxkRpdMzwl"
   },
   "source": [
    "*If running in Colab run this first to install ACN-Portal.*"
   ]
  },
  {
   "cell_type": "code",
   "execution_count": 2,
   "metadata": {
    "colab": {},
    "colab_type": "code",
    "id": "bRvsN1Q9TEr2",
    "ExecuteTime": {
     "end_time": "2024-04-02T08:50:18.373777Z",
     "start_time": "2024-04-02T08:50:18.360029Z"
    }
   },
   "outputs": [],
   "source": [
    "import subprocess\n",
    "import sys\n",
    "\n",
    "# if 'google.colab' in str(get_ipython()):\n",
    "#     print('Running on CoLab')\n",
    "#     subprocess.check_call([sys.executable, \"-m\", \"pip\", \"install\", \"acnportal\"])\n",
    "#     subprocess.check_call([sys.executable, \"-m\", \"pip\", \"install\", \"git+https://github.com/caltech-netlab/adacharge\"])"
   ]
  },
  {
   "cell_type": "markdown",
   "metadata": {
    "colab_type": "text",
    "id": "4Dx6R-26M6JP"
   },
   "source": [
    "# Unbalanced Three-Phase Infrastructure Constraints\n",
    "\n",
    "Currently, most charging algorithms in the literature rely on constraints which assume single-phase or balanced three-phase operation. In this experiment, we demonstrate why these assumptions are insufficient for practical charging systems. \n",
    "\n",
    "For this experiment we use the consider two algorithms, 1) least-laxity first (LLF) and 2) Model Predictive Control (MPC). We also consider two cases, in the first we use a simplified single-phase representation of the constraints in the network. In the second, we use the full three-phase system model. In both cases, we evalaute the algorithms using the true three-phase network model."
   ]
  },
  {
   "cell_type": "code",
   "execution_count": 3,
   "metadata": {
    "colab": {},
    "colab_type": "code",
    "id": "cM2mYe93TU0_",
    "ExecuteTime": {
     "end_time": "2024-04-02T08:50:28.669751Z",
     "start_time": "2024-04-02T08:50:18.453893Z"
    }
   },
   "outputs": [],
   "source": [
    "import pytz\n",
    "from datetime import datetime\n",
    "import numpy as np\n",
    "# import cvxpy as cp\n",
    "from copy import deepcopy\n",
    "import time \n",
    "from matplotlib import pyplot as plt\n",
    "from matplotlib import cm\n",
    "\n",
    "from acnportal import acnsim\n",
    "from acnportal.acnsim import analysis\n",
    "from acnportal import algorithms\n",
    "import adacharge"
   ]
  },
  {
   "cell_type": "markdown",
   "metadata": {
    "colab_type": "text",
    "id": "JtsqSXf0OCo1"
   },
   "source": [
    "## Single-phase CaltechACN Network\n",
    "\n",
    "In this *ChargingNetwork* we treat all EVSEs as if they were on the same phase by setting the phase angle for each to be 0. The only constraints for this model are that the aggregate rates of the AV and CC pods are less than 80 A and that the aggregate power of all EVSEs is less than the power limit of the transformer. \n",
    "\n",
    "(We assume nominal voltage in the network)"
   ]
  },
  {
   "cell_type": "code",
   "execution_count": 4,
   "metadata": {
    "colab": {},
    "colab_type": "code",
    "id": "daSbJIfqTQEL",
    "ExecuteTime": {
     "end_time": "2024-04-02T08:50:28.684875Z",
     "start_time": "2024-04-02T08:50:28.671846Z"
    }
   },
   "outputs": [],
   "source": [
    "def single_phase_caltech_acn(basic_evse=False, voltage=208, transformer_cap=150, network_type=acnsim.ChargingNetwork):\n",
    "    \"\"\" Predefined single phase ChargingNetwork for the Caltech ACN.\n",
    "\n",
    "    Args:\n",
    "        basic_evse (bool): If True use BASIC EVSE type instead of actual AeroViroment and ClipperCreek types.\n",
    "        voltage (float): Default voltage at the EVSEs. Does not affect the current rating of the transformer which is\n",
    "            based on nominal voltages in the network. 277V LL for delta primary and 120V LN for wye secondary. [V]\n",
    "        transformer_cap (float): Capacity of the transformer in the CaltechACN. Default: 150. [kW]\n",
    "\n",
    "    Attributes:\n",
    "        See ChargingNetwork for Attributes.\n",
    "    \"\"\"\n",
    "    network = network_type()\n",
    "\n",
    "    if basic_evse:\n",
    "        evse_type = {'AV': 'BASIC', 'CC': 'BASIC'}\n",
    "    else:\n",
    "        evse_type = {'AV': 'AeroVironment', 'CC': 'ClipperCreek'}\n",
    "        \n",
    "    # Define the sets of EVSEs in the Caltech ACN.\n",
    "    CC_pod_ids = [\"CA-322\", \"CA-493\", \"CA-496\", \"CA-320\", \"CA-495\", \"CA-321\", \"CA-323\", \"CA-494\"]\n",
    "    AV_pod_ids = [\"CA-324\", \"CA-325\",\"CA-326\",\"CA-327\",\"CA-489\", \"CA-490\", \"CA-491\", \"CA-492\"]\n",
    "    other_ids = [f\"CA-{id_num}\" for id_num in [148, 149, 212, 213, 303, 304, 305, 306, 307, 308,\n",
    "                                               309, 310, 311, 312, 313, 314, 315, 316, 317, 318,\n",
    "                                               319, 497, 498, 499, 500, 501, 502, 503, 504, 505,\n",
    "                                               506, 507, 508, 509, 510, 511, 512, 513]]\n",
    "    all_ids = CC_pod_ids + AV_pod_ids + other_ids\n",
    "\n",
    "    # Add Caltech EVSEs\n",
    "    for evse_id in all_ids:\n",
    "        if evse_id not in CC_pod_ids:\n",
    "            network.register_evse(acnsim.get_evse_by_type(evse_id, evse_type['AV']), voltage, 0)\n",
    "        else:\n",
    "            network.register_evse(acnsim.get_evse_by_type(evse_id, evse_type['CC']), voltage, 0)\n",
    "            \n",
    "    # Add Caltech Constraint Set\n",
    "    CC_pod = acnsim.Current(CC_pod_ids)\n",
    "    AV_pod = acnsim.Current(AV_pod_ids)\n",
    "    all_current = acnsim.Current(all_ids)\n",
    "\n",
    "    # Build constraint set\n",
    "    network.add_constraint(CC_pod, 80, name='CC Pod')\n",
    "    network.add_constraint(AV_pod, 80, name='AV Pod')\n",
    "    network.add_constraint(all_current, transformer_cap * 1000 / voltage, name='Transformer Cap')\n",
    "    return network"
   ]
  },
  {
   "cell_type": "markdown",
   "metadata": {
    "colab_type": "text",
    "id": "YTGuRUk-PPGu"
   },
   "source": [
    "## Experiment Setup"
   ]
  },
  {
   "cell_type": "code",
   "execution_count": 5,
   "metadata": {
    "ExecuteTime": {
     "end_time": "2024-04-02T08:50:28.700219Z",
     "start_time": "2024-04-02T08:50:28.688225Z"
    }
   },
   "outputs": [],
   "source": [
    "def experiment(algorithm):\n",
    "    \"\"\" Run single phase vs. three phase experiment for a particular algorithm. \"\"\"\n",
    "    # -- Experiment Parameters ---------------------------------------------------\n",
    "    timezone = pytz.timezone('America/Los_Angeles')\n",
    "    start = timezone.localize(datetime(2018, 9, 5))\n",
    "    end = timezone.localize(datetime(2018, 9, 6))\n",
    "    period = 5  # minute\n",
    "    voltage = 208  # volts\n",
    "    default_battery_power = 32 * voltage / 1000 # kW\n",
    "    site = 'caltech'\n",
    "\n",
    "    # -- Network -------------------------------------------------------------------\n",
    "    single_phase_cn = single_phase_caltech_acn(basic_evse=True, transformer_cap=70)\n",
    "    real_cn = acnsim.sites.caltech_acn(basic_evse=True, transformer_cap=70)\n",
    "\n",
    "    # -- Events ---------------------------------------------------------------------\n",
    "    API_KEY = 'DEMO_TOKEN'\n",
    "    events = acnsim.acndata_events.generate_events(API_KEY, site, start, end, period, \n",
    "                                                   voltage, default_battery_power)\n",
    "    \n",
    "    # -- Single Phase ----------------------------------------------------------------\n",
    "    single_phase_sim = acnsim.Simulator(deepcopy(single_phase_cn), algorithm, \n",
    "                                        deepcopy(events), start, period=period, \n",
    "                                        verbose=False)\n",
    "    single_phase_sim.run()\n",
    "    \n",
    "    # Since we are interested in how the single-phase LLF algorithm would have performed \n",
    "    # in the real CaltechACN, we replace the network model with the real network model \n",
    "    # for analysis. \n",
    "    single_phase_sim.network = real_cn\n",
    "    \n",
    "    # -- Three Phase -----------------------------------------------------------------        \n",
    "    three_phase_sim = acnsim.Simulator(deepcopy(real_cn), algorithm,\n",
    "                                       deepcopy(events), start, period=period, \n",
    "                                       verbose=False)\n",
    "    three_phase_sim.run()\n",
    "    \n",
    "    return single_phase_sim, three_phase_sim"
   ]
  },
  {
   "cell_type": "markdown",
   "metadata": {
    "colab_type": "text",
    "id": "tYsq2kGfPCRi"
   },
   "source": [
    "## Running Experiment"
   ]
  },
  {
   "cell_type": "markdown",
   "metadata": {
    "colab_type": "text",
    "id": "ULP4AFoMPWBh"
   },
   "source": [
    "### Least Laxity First"
   ]
  },
  {
   "cell_type": "code",
   "execution_count": 6,
   "metadata": {
    "colab": {},
    "colab_type": "code",
    "id": "xPZbsQhKTBbf",
    "ExecuteTime": {
     "end_time": "2024-04-02T08:50:40.012605Z",
     "start_time": "2024-04-02T08:50:28.703221Z"
    }
   },
   "outputs": [],
   "source": [
    "llf = algorithms.SortedSchedulingAlgo(algorithms.least_laxity_first)\n",
    "llf_sp_sim, llf_tp_sim = experiment(llf)"
   ]
  },
  {
   "cell_type": "markdown",
   "metadata": {
    "colab_type": "text",
    "id": "h8vcUY2ZPYOb"
   },
   "source": [
    "### Model Predictive Control"
   ]
  },
  {
   "cell_type": "code",
   "execution_count": 7,
   "metadata": {
    "colab": {},
    "colab_type": "code",
    "id": "MMO9pQ5J51cH",
    "ExecuteTime": {
     "end_time": "2024-04-02T08:50:41.664276Z",
     "start_time": "2024-04-02T08:50:40.014925Z"
    }
   },
   "outputs": [
    {
     "ename": "DCPError",
     "evalue": "Problem does not follow DCP rules. Specifically:\nThe objective is not DCP. Its following subexpressions are not:\n0.0 + 1.0 @ [1.         0.99842271 0.99684543 0.99526814 0.99369085 0.99211356\n 0.99053628 0.98895899 0.9873817  0.98580442 0.98422713 0.98264984\n 0.98107256 0.97949527 0.97791798 0.97634069 0.97476341 0.97318612\n 0.97160883 0.97003155 0.96845426 0.96687697 0.96529968 0.9637224\n 0.96214511 0.96056782 0.95899054 0.95741325 0.95583596 0.95425868\n 0.95268139 0.9511041  0.94952681 0.94794953 0.94637224 0.94479495\n 0.94321767 0.94164038 0.94006309 0.9384858  0.93690852 0.93533123\n 0.93375394 0.93217666 0.93059937 0.92902208 0.92744479 0.92586751\n 0.92429022 0.92271293 0.92113565 0.91955836 0.91798107 0.91640379\n 0.9148265  0.91324921 0.91167192 0.91009464 0.90851735 0.90694006\n 0.90536278 0.90378549 0.9022082  0.90063091 0.89905363 0.89747634\n 0.89589905 0.89432177 0.89274448 0.89116719 0.88958991 0.88801262\n 0.88643533 0.88485804 0.88328076 0.88170347 0.88012618 0.8785489\n 0.87697161 0.87539432 0.87381703 0.87223975 0.87066246 0.86908517\n 0.86750789 0.8659306  0.86435331 0.86277603 0.86119874 0.85962145\n 0.85804416 0.85646688 0.85488959 0.8533123  0.85173502 0.85015773\n 0.84858044 0.84700315 0.84542587 0.84384858 0.84227129 0.84069401\n 0.83911672 0.83753943 0.83596215 0.83438486 0.83280757 0.83123028\n 0.829653   0.82807571 0.82649842 0.82492114 0.82334385 0.82176656\n 0.82018927 0.81861199 0.8170347  0.81545741 0.81388013 0.81230284\n 0.81072555 0.80914826 0.80757098 0.80599369 0.8044164  0.80283912\n 0.80126183 0.79968454 0.79810726 0.79652997 0.79495268 0.79337539\n 0.79179811 0.79022082 0.78864353 0.78706625 0.78548896 0.78391167\n 0.78233438 0.7807571  0.77917981 0.77760252 0.77602524 0.77444795\n 0.77287066 0.77129338 0.76971609 0.7681388  0.76656151 0.76498423\n 0.76340694 0.76182965 0.76025237 0.75867508 0.75709779 0.7555205\n 0.75394322 0.75236593 0.75078864 0.74921136 0.74763407 0.74605678\n 0.7444795  0.74290221 0.74132492 0.73974763 0.73817035 0.73659306\n 0.73501577 0.73343849 0.7318612  0.73028391 0.72870662 0.72712934\n 0.72555205 0.72397476 0.72239748 0.72082019 0.7192429  0.71766562\n 0.71608833 0.71451104 0.71293375 0.71135647 0.70977918 0.70820189\n 0.70662461 0.70504732 0.70347003 0.70189274 0.70031546 0.69873817\n 0.69716088 0.6955836  0.69400631 0.69242902 0.69085174 0.68927445\n 0.68769716 0.68611987 0.68454259 0.6829653  0.68138801 0.67981073\n 0.67823344 0.67665615 0.67507886 0.67350158 0.67192429 0.670347\n 0.66876972 0.66719243 0.66561514 0.66403785 0.66246057 0.66088328\n 0.65930599 0.65772871 0.65615142 0.65457413 0.65299685 0.65141956\n 0.64984227 0.64826498 0.6466877  0.64511041 0.64353312 0.64195584\n 0.64037855 0.63880126 0.63722397 0.63564669 0.6340694  0.63249211\n 0.63091483 0.62933754 0.62776025 0.62618297 0.62460568 0.62302839\n 0.6214511  0.61987382 0.61829653 0.61671924 0.61514196 0.61356467\n 0.61198738 0.61041009 0.60883281 0.60725552 0.60567823 0.60410095\n 0.60252366 0.60094637 0.59936909 0.5977918  0.59621451 0.59463722\n 0.59305994 0.59148265 0.58990536 0.58832808 0.58675079 0.5851735\n 0.58359621 0.58201893 0.58044164 0.57886435 0.57728707 0.57570978\n 0.57413249 0.57255521 0.57097792 0.56940063 0.56782334 0.56624606\n 0.56466877 0.56309148 0.5615142  0.55993691 0.55835962 0.55678233\n 0.55520505 0.55362776 0.55205047 0.55047319 0.5488959  0.54731861\n 0.54574132 0.54416404 0.54258675 0.54100946 0.53943218 0.53785489\n 0.5362776  0.53470032 0.53312303 0.53154574 0.52996845 0.52839117\n 0.52681388 0.52523659 0.52365931 0.52208202 0.52050473 0.51892744\n 0.51735016 0.51577287 0.51419558 0.5126183  0.51104101 0.50946372\n 0.50788644 0.50630915 0.50473186 0.50315457 0.50157729 0.5\n 0.49842271 0.49684543 0.49526814 0.49369085 0.49211356 0.49053628\n 0.48895899 0.4873817  0.48580442 0.48422713 0.48264984 0.48107256\n 0.47949527 0.47791798 0.47634069 0.47476341 0.47318612 0.47160883\n 0.47003155 0.46845426 0.46687697 0.46529968 0.4637224  0.46214511\n 0.46056782 0.45899054 0.45741325 0.45583596 0.45425868 0.45268139\n 0.4511041  0.44952681 0.44794953 0.44637224 0.44479495 0.44321767\n 0.44164038 0.44006309 0.4384858  0.43690852 0.43533123 0.43375394\n 0.43217666 0.43059937 0.42902208 0.42744479 0.42586751 0.42429022\n 0.42271293 0.42113565 0.41955836 0.41798107 0.41640379 0.4148265\n 0.41324921 0.41167192 0.41009464 0.40851735 0.40694006 0.40536278\n 0.40378549 0.4022082  0.40063091 0.39905363 0.39747634 0.39589905\n 0.39432177 0.39274448 0.39116719 0.38958991 0.38801262 0.38643533\n 0.38485804 0.38328076 0.38170347 0.38012618 0.3785489  0.37697161\n 0.37539432 0.37381703 0.37223975 0.37066246 0.36908517 0.36750789\n 0.3659306  0.36435331 0.36277603 0.36119874 0.35962145 0.35804416\n 0.35646688 0.35488959 0.3533123  0.35173502 0.35015773 0.34858044\n 0.34700315 0.34542587 0.34384858 0.34227129 0.34069401 0.33911672\n 0.33753943 0.33596215 0.33438486 0.33280757 0.33123028 0.329653\n 0.32807571 0.32649842 0.32492114 0.32334385 0.32176656 0.32018927\n 0.31861199 0.3170347  0.31545741 0.31388013 0.31230284 0.31072555\n 0.30914826 0.30757098 0.30599369 0.3044164  0.30283912 0.30126183\n 0.29968454 0.29810726 0.29652997 0.29495268 0.29337539 0.29179811\n 0.29022082 0.28864353 0.28706625 0.28548896 0.28391167 0.28233438\n 0.2807571  0.27917981 0.27760252 0.27602524 0.27444795 0.27287066\n 0.27129338 0.26971609 0.2681388  0.26656151 0.26498423 0.26340694\n 0.26182965 0.26025237 0.25867508 0.25709779 0.2555205  0.25394322\n 0.25236593 0.25078864 0.24921136 0.24763407 0.24605678 0.2444795\n 0.24290221 0.24132492 0.23974763 0.23817035 0.23659306 0.23501577\n 0.23343849 0.2318612  0.23028391 0.22870662 0.22712934 0.22555205\n 0.22397476 0.22239748 0.22082019 0.2192429  0.21766562 0.21608833\n 0.21451104 0.21293375 0.21135647 0.20977918 0.20820189 0.20662461\n 0.20504732 0.20347003 0.20189274 0.20031546 0.19873817 0.19716088\n 0.1955836  0.19400631 0.19242902 0.19085174 0.18927445 0.18769716\n 0.18611987 0.18454259 0.1829653  0.18138801 0.17981073 0.17823344\n 0.17665615 0.17507886 0.17350158 0.17192429 0.170347   0.16876972\n 0.16719243 0.16561514 0.16403785 0.16246057 0.16088328 0.15930599\n 0.15772871 0.15615142 0.15457413 0.15299685 0.15141956 0.14984227\n 0.14826498 0.1466877  0.14511041 0.14353312 0.14195584 0.14037855\n 0.13880126 0.13722397 0.13564669 0.1340694  0.13249211 0.13091483\n 0.12933754 0.12776025 0.12618297 0.12460568 0.12302839 0.1214511\n 0.11987382 0.11829653 0.11671924 0.11514196 0.11356467 0.11198738\n 0.11041009 0.10883281 0.10725552 0.10567823 0.10410095 0.10252366\n 0.10094637 0.09936909 0.0977918  0.09621451 0.09463722 0.09305994\n 0.09148265 0.08990536 0.08832808 0.08675079 0.0851735  0.08359621\n 0.08201893 0.08044164 0.07886435 0.07728707 0.07570978 0.07413249\n 0.07255521 0.07097792 0.06940063 0.06782334 0.06624606 0.06466877\n 0.06309148 0.0615142  0.05993691 0.05835962 0.05678233 0.05520505\n 0.05362776 0.05205047 0.05047319 0.0488959  0.04731861 0.04574132\n 0.04416404 0.04258675 0.04100946 0.03943218 0.03785489 0.0362776\n 0.03470032 0.03312303 0.03154574 0.02996845 0.02839117 0.02681388\n 0.02523659 0.02365931 0.02208202 0.02050473 0.01892744 0.01735016\n 0.01577287 0.01419558 0.0126183  0.01104101 0.00946372 0.00788644\n 0.00630915 0.00473186 0.00315457 0.00157729] @ Sum(var1, 0, False) + 1e-12 @ -quad_over_lin(var1, 1.0) + 1e-12 @ max(norm1(Vstack((var1 @ [[208.00 208.00 ... 208.00 208.00]\n [208.00 208.00 ... 208.00 208.00]\n ...\n [208.00 208.00 ... 208.00 208.00]\n [208.00 208.00 ... 208.00 208.00]] / Promote(1000.0, (54, 634))) @ Promote(0.08333333333333333, (54, 634)), (var1 @ [[208.00 208.00 ... 208.00 208.00]\n [208.00 208.00 ... 208.00 208.00]\n ...\n [208.00 208.00 ... 208.00 208.00]\n [208.00 208.00 ... 208.00 208.00]] / Promote(1000.0, (54, 634))) @ Promote(0.08333333333333333, (54, 634)))), None, False)",
     "output_type": "error",
     "traceback": [
      "\u001B[1;31m---------------------------------------------------------------------------\u001B[0m",
      "\u001B[1;31mDCPError\u001B[0m                                  Traceback (most recent call last)",
      "Cell \u001B[1;32mIn[7], line 6\u001B[0m\n\u001B[0;32m      1\u001B[0m quick_charge_obj \u001B[38;5;241m=\u001B[39m [adacharge\u001B[38;5;241m.\u001B[39mObjectiveComponent(adacharge\u001B[38;5;241m.\u001B[39mquick_charge),\n\u001B[0;32m      2\u001B[0m                     adacharge\u001B[38;5;241m.\u001B[39mObjectiveComponent(adacharge\u001B[38;5;241m.\u001B[39mequal_share, \u001B[38;5;241m1e-12\u001B[39m),\n\u001B[0;32m      3\u001B[0m                     adacharge\u001B[38;5;241m.\u001B[39mObjectiveComponent(adacharge\u001B[38;5;241m.\u001B[39mnon_completion_penalty, \u001B[38;5;241m1e-12\u001B[39m),\n\u001B[0;32m      4\u001B[0m                     ]\n\u001B[0;32m      5\u001B[0m mpc \u001B[38;5;241m=\u001B[39m adacharge\u001B[38;5;241m.\u001B[39mAdaptiveSchedulingAlgorithm(quick_charge_obj, solver\u001B[38;5;241m=\u001B[39m\u001B[38;5;124m\"\u001B[39m\u001B[38;5;124mECOS\u001B[39m\u001B[38;5;124m\"\u001B[39m)\n\u001B[1;32m----> 6\u001B[0m mpc_sp_sim, mpc_tp_sim \u001B[38;5;241m=\u001B[39m \u001B[43mexperiment\u001B[49m\u001B[43m(\u001B[49m\u001B[43mmpc\u001B[49m\u001B[43m)\u001B[49m\n",
      "Cell \u001B[1;32mIn[5], line 25\u001B[0m, in \u001B[0;36mexperiment\u001B[1;34m(algorithm)\u001B[0m\n\u001B[0;32m     21\u001B[0m \u001B[38;5;66;03m# -- Single Phase ----------------------------------------------------------------\u001B[39;00m\n\u001B[0;32m     22\u001B[0m single_phase_sim \u001B[38;5;241m=\u001B[39m acnsim\u001B[38;5;241m.\u001B[39mSimulator(deepcopy(single_phase_cn), algorithm, \n\u001B[0;32m     23\u001B[0m                                     deepcopy(events), start, period\u001B[38;5;241m=\u001B[39mperiod, \n\u001B[0;32m     24\u001B[0m                                     verbose\u001B[38;5;241m=\u001B[39m\u001B[38;5;28;01mFalse\u001B[39;00m)\n\u001B[1;32m---> 25\u001B[0m \u001B[43msingle_phase_sim\u001B[49m\u001B[38;5;241;43m.\u001B[39;49m\u001B[43mrun\u001B[49m\u001B[43m(\u001B[49m\u001B[43m)\u001B[49m\n\u001B[0;32m     27\u001B[0m \u001B[38;5;66;03m# Since we are interested in how the single-phase LLF algorithm would have performed \u001B[39;00m\n\u001B[0;32m     28\u001B[0m \u001B[38;5;66;03m# in the real CaltechACN, we replace the network model with the real network model \u001B[39;00m\n\u001B[0;32m     29\u001B[0m \u001B[38;5;66;03m# for analysis. \u001B[39;00m\n\u001B[0;32m     30\u001B[0m single_phase_sim\u001B[38;5;241m.\u001B[39mnetwork \u001B[38;5;241m=\u001B[39m real_cn\n",
      "File \u001B[1;32m~\\AppData\\Local\\Programs\\Python\\Python310\\lib\\site-packages\\acnportal\\acnsim\\simulator.py:126\u001B[0m, in \u001B[0;36mSimulator.run\u001B[1;34m(self)\u001B[0m\n\u001B[0;32m    116\u001B[0m     \u001B[38;5;28mself\u001B[39m\u001B[38;5;241m.\u001B[39m_process_event(e)\n\u001B[0;32m    117\u001B[0m \u001B[38;5;28;01mif\u001B[39;00m (\n\u001B[0;32m    118\u001B[0m     \u001B[38;5;28mself\u001B[39m\u001B[38;5;241m.\u001B[39m_resolve\n\u001B[0;32m    119\u001B[0m     \u001B[38;5;129;01mor\u001B[39;00m \u001B[38;5;28mself\u001B[39m\u001B[38;5;241m.\u001B[39mmax_recompute \u001B[38;5;129;01mis\u001B[39;00m \u001B[38;5;129;01mnot\u001B[39;00m \u001B[38;5;28;01mNone\u001B[39;00m\n\u001B[1;32m   (...)\u001B[0m\n\u001B[0;32m    124\u001B[0m     )\n\u001B[0;32m    125\u001B[0m ):\n\u001B[1;32m--> 126\u001B[0m     new_schedule \u001B[38;5;241m=\u001B[39m \u001B[38;5;28;43mself\u001B[39;49m\u001B[38;5;241;43m.\u001B[39;49m\u001B[43mscheduler\u001B[49m\u001B[38;5;241;43m.\u001B[39;49m\u001B[43mrun\u001B[49m\u001B[43m(\u001B[49m\u001B[43m)\u001B[49m\n\u001B[0;32m    127\u001B[0m     \u001B[38;5;28mself\u001B[39m\u001B[38;5;241m.\u001B[39m_update_schedules(new_schedule)\n\u001B[0;32m    128\u001B[0m     \u001B[38;5;28;01mif\u001B[39;00m \u001B[38;5;28mself\u001B[39m\u001B[38;5;241m.\u001B[39mschedule_history \u001B[38;5;129;01mis\u001B[39;00m \u001B[38;5;129;01mnot\u001B[39;00m \u001B[38;5;28;01mNone\u001B[39;00m:\n",
      "File \u001B[1;32m~\\AppData\\Local\\Programs\\Python\\Python310\\lib\\site-packages\\acnportal\\algorithms\\base_algorithm.py:104\u001B[0m, in \u001B[0;36mBaseAlgorithm.run\u001B[1;34m(self)\u001B[0m\n\u001B[0;32m    102\u001B[0m active_sessions \u001B[38;5;241m=\u001B[39m \u001B[38;5;28mself\u001B[39m\u001B[38;5;241m.\u001B[39minterface\u001B[38;5;241m.\u001B[39mactive_sessions()\n\u001B[0;32m    103\u001B[0m start_time \u001B[38;5;241m=\u001B[39m time\u001B[38;5;241m.\u001B[39mperf_counter()\n\u001B[1;32m--> 104\u001B[0m schedules \u001B[38;5;241m=\u001B[39m \u001B[38;5;28;43mself\u001B[39;49m\u001B[38;5;241;43m.\u001B[39;49m\u001B[43mschedule\u001B[49m\u001B[43m(\u001B[49m\u001B[43mactive_sessions\u001B[49m\u001B[43m)\u001B[49m\n\u001B[0;32m    105\u001B[0m solve_time \u001B[38;5;241m=\u001B[39m time\u001B[38;5;241m.\u001B[39mperf_counter() \u001B[38;5;241m-\u001B[39m start_time\n\u001B[0;32m    106\u001B[0m \u001B[38;5;28mself\u001B[39m\u001B[38;5;241m.\u001B[39msolve_stats\u001B[38;5;241m.\u001B[39mappend(\n\u001B[0;32m    107\u001B[0m     {\u001B[38;5;124m\"\u001B[39m\u001B[38;5;124msolve_time\u001B[39m\u001B[38;5;124m\"\u001B[39m: solve_time, \u001B[38;5;124m\"\u001B[39m\u001B[38;5;124mactive_sessions\u001B[39m\u001B[38;5;124m\"\u001B[39m: \u001B[38;5;28mlen\u001B[39m(active_sessions)}\n\u001B[0;32m    108\u001B[0m )\n",
      "File \u001B[1;32m~\\AppData\\Local\\Programs\\Python\\Python310\\lib\\site-packages\\adacharge\\adacharge.py:169\u001B[0m, in \u001B[0;36mAdaptiveSchedulingAlgorithm.schedule\u001B[1;34m(self, active_sessions)\u001B[0m\n\u001B[0;32m    164\u001B[0m     optimization_horizon \u001B[38;5;241m=\u001B[39m \u001B[38;5;28mmax\u001B[39m(\n\u001B[0;32m    165\u001B[0m         s\u001B[38;5;241m.\u001B[39marrival_offset \u001B[38;5;241m+\u001B[39m s\u001B[38;5;241m.\u001B[39mremaining_time \u001B[38;5;28;01mfor\u001B[39;00m s \u001B[38;5;129;01min\u001B[39;00m active_sessions\n\u001B[0;32m    166\u001B[0m     )\n\u001B[0;32m    167\u001B[0m     trimmed_peak \u001B[38;5;241m=\u001B[39m \u001B[38;5;28mself\u001B[39m\u001B[38;5;241m.\u001B[39mpeak_limit[t : t \u001B[38;5;241m+\u001B[39m optimization_horizon]\n\u001B[1;32m--> 169\u001B[0m rates_matrix \u001B[38;5;241m=\u001B[39m \u001B[43moptimizer\u001B[49m\u001B[38;5;241;43m.\u001B[39;49m\u001B[43msolve\u001B[49m\u001B[43m(\u001B[49m\n\u001B[0;32m    170\u001B[0m \u001B[43m    \u001B[49m\u001B[43mactive_sessions\u001B[49m\u001B[43m,\u001B[49m\n\u001B[0;32m    171\u001B[0m \u001B[43m    \u001B[49m\u001B[43minfrastructure\u001B[49m\u001B[43m,\u001B[49m\n\u001B[0;32m    172\u001B[0m \u001B[43m    \u001B[49m\u001B[43mpeak_limit\u001B[49m\u001B[38;5;241;43m=\u001B[39;49m\u001B[43mtrimmed_peak\u001B[49m\u001B[43m,\u001B[49m\n\u001B[0;32m    173\u001B[0m \u001B[43m    \u001B[49m\u001B[43mprev_peak\u001B[49m\u001B[38;5;241;43m=\u001B[39;49m\u001B[38;5;28;43mself\u001B[39;49m\u001B[38;5;241;43m.\u001B[39;49m\u001B[43minterface\u001B[49m\u001B[38;5;241;43m.\u001B[39;49m\u001B[43mget_prev_peak\u001B[49m\u001B[43m(\u001B[49m\u001B[43m)\u001B[49m\u001B[43m,\u001B[49m\n\u001B[0;32m    174\u001B[0m \u001B[43m    \u001B[49m\u001B[43mverbose\u001B[49m\u001B[38;5;241;43m=\u001B[39;49m\u001B[38;5;28;43mself\u001B[39;49m\u001B[38;5;241;43m.\u001B[39;49m\u001B[43mverbose\u001B[49m\n\u001B[0;32m    175\u001B[0m \u001B[43m\u001B[49m\u001B[43m)\u001B[49m\n\u001B[0;32m    176\u001B[0m \u001B[38;5;28;01mif\u001B[39;00m \u001B[38;5;28mself\u001B[39m\u001B[38;5;241m.\u001B[39mquantize:\n\u001B[0;32m    177\u001B[0m     \u001B[38;5;28;01mif\u001B[39;00m \u001B[38;5;28mself\u001B[39m\u001B[38;5;241m.\u001B[39mreallocate:\n",
      "File \u001B[1;32m~\\AppData\\Local\\Programs\\Python\\Python310\\lib\\site-packages\\adacharge\\adaptive_charging_optimization.py:318\u001B[0m, in \u001B[0;36mAdaptiveChargingOptimization.solve\u001B[1;34m(self, active_sessions, infrastructure, peak_limit, prev_peak, verbose)\u001B[0m\n\u001B[0;32m    312\u001B[0m problem_dict \u001B[38;5;241m=\u001B[39m \u001B[38;5;28mself\u001B[39m\u001B[38;5;241m.\u001B[39mbuild_problem(\n\u001B[0;32m    313\u001B[0m     active_sessions, infrastructure, peak_limit, prev_peak\n\u001B[0;32m    314\u001B[0m )\n\u001B[0;32m    315\u001B[0m prob \u001B[38;5;241m=\u001B[39m cp\u001B[38;5;241m.\u001B[39mProblem(\n\u001B[0;32m    316\u001B[0m     problem_dict[\u001B[38;5;124m\"\u001B[39m\u001B[38;5;124mobjective\u001B[39m\u001B[38;5;124m\"\u001B[39m], \u001B[38;5;28mlist\u001B[39m(problem_dict[\u001B[38;5;124m\"\u001B[39m\u001B[38;5;124mconstraints\u001B[39m\u001B[38;5;124m\"\u001B[39m]\u001B[38;5;241m.\u001B[39mvalues())\n\u001B[0;32m    317\u001B[0m )\n\u001B[1;32m--> 318\u001B[0m \u001B[43mprob\u001B[49m\u001B[38;5;241;43m.\u001B[39;49m\u001B[43msolve\u001B[49m\u001B[43m(\u001B[49m\u001B[43msolver\u001B[49m\u001B[38;5;241;43m=\u001B[39;49m\u001B[38;5;28;43mself\u001B[39;49m\u001B[38;5;241;43m.\u001B[39;49m\u001B[43msolver\u001B[49m\u001B[43m,\u001B[49m\u001B[43m \u001B[49m\u001B[43mverbose\u001B[49m\u001B[38;5;241;43m=\u001B[39;49m\u001B[43mverbose\u001B[49m\u001B[43m)\u001B[49m\n\u001B[0;32m    319\u001B[0m \u001B[38;5;28;01mif\u001B[39;00m prob\u001B[38;5;241m.\u001B[39mstatus \u001B[38;5;129;01mnot\u001B[39;00m \u001B[38;5;129;01min\u001B[39;00m [cp\u001B[38;5;241m.\u001B[39mOPTIMAL, cp\u001B[38;5;241m.\u001B[39mOPTIMAL_INACCURATE]:\n\u001B[0;32m    320\u001B[0m     \u001B[38;5;28;01mraise\u001B[39;00m InfeasibilityException(\u001B[38;5;124mf\u001B[39m\u001B[38;5;124m\"\u001B[39m\u001B[38;5;124mSolve failed with status \u001B[39m\u001B[38;5;132;01m{\u001B[39;00mprob\u001B[38;5;241m.\u001B[39mstatus\u001B[38;5;132;01m}\u001B[39;00m\u001B[38;5;124m\"\u001B[39m)\n",
      "File \u001B[1;32m~\\AppData\\Local\\Programs\\Python\\Python310\\lib\\site-packages\\cvxpy\\problems\\problem.py:503\u001B[0m, in \u001B[0;36mProblem.solve\u001B[1;34m(self, *args, **kwargs)\u001B[0m\n\u001B[0;32m    501\u001B[0m \u001B[38;5;28;01melse\u001B[39;00m:\n\u001B[0;32m    502\u001B[0m     solve_func \u001B[38;5;241m=\u001B[39m Problem\u001B[38;5;241m.\u001B[39m_solve\n\u001B[1;32m--> 503\u001B[0m \u001B[38;5;28;01mreturn\u001B[39;00m solve_func(\u001B[38;5;28mself\u001B[39m, \u001B[38;5;241m*\u001B[39margs, \u001B[38;5;241m*\u001B[39m\u001B[38;5;241m*\u001B[39mkwargs)\n",
      "File \u001B[1;32m~\\AppData\\Local\\Programs\\Python\\Python310\\lib\\site-packages\\cvxpy\\problems\\problem.py:1072\u001B[0m, in \u001B[0;36mProblem._solve\u001B[1;34m(self, solver, warm_start, verbose, gp, qcp, requires_grad, enforce_dpp, ignore_dpp, canon_backend, **kwargs)\u001B[0m\n\u001B[0;32m   1069\u001B[0m         \u001B[38;5;28mself\u001B[39m\u001B[38;5;241m.\u001B[39munpack(chain\u001B[38;5;241m.\u001B[39mretrieve(soln))\n\u001B[0;32m   1070\u001B[0m         \u001B[38;5;28;01mreturn\u001B[39;00m \u001B[38;5;28mself\u001B[39m\u001B[38;5;241m.\u001B[39mvalue\n\u001B[1;32m-> 1072\u001B[0m data, solving_chain, inverse_data \u001B[38;5;241m=\u001B[39m \u001B[38;5;28;43mself\u001B[39;49m\u001B[38;5;241;43m.\u001B[39;49m\u001B[43mget_problem_data\u001B[49m\u001B[43m(\u001B[49m\n\u001B[0;32m   1073\u001B[0m \u001B[43m    \u001B[49m\u001B[43msolver\u001B[49m\u001B[43m,\u001B[49m\u001B[43m \u001B[49m\u001B[43mgp\u001B[49m\u001B[43m,\u001B[49m\u001B[43m \u001B[49m\u001B[43menforce_dpp\u001B[49m\u001B[43m,\u001B[49m\u001B[43m \u001B[49m\u001B[43mignore_dpp\u001B[49m\u001B[43m,\u001B[49m\u001B[43m \u001B[49m\u001B[43mverbose\u001B[49m\u001B[43m,\u001B[49m\u001B[43m \u001B[49m\u001B[43mcanon_backend\u001B[49m\u001B[43m,\u001B[49m\u001B[43m \u001B[49m\u001B[43mkwargs\u001B[49m\n\u001B[0;32m   1074\u001B[0m \u001B[43m\u001B[49m\u001B[43m)\u001B[49m\n\u001B[0;32m   1076\u001B[0m \u001B[38;5;28;01mif\u001B[39;00m verbose:\n\u001B[0;32m   1077\u001B[0m     \u001B[38;5;28mprint\u001B[39m(_NUM_SOLVER_STR)\n",
      "File \u001B[1;32m~\\AppData\\Local\\Programs\\Python\\Python310\\lib\\site-packages\\cvxpy\\problems\\problem.py:646\u001B[0m, in \u001B[0;36mProblem.get_problem_data\u001B[1;34m(self, solver, gp, enforce_dpp, ignore_dpp, verbose, canon_backend, solver_opts)\u001B[0m\n\u001B[0;32m    644\u001B[0m \u001B[38;5;28;01mif\u001B[39;00m key \u001B[38;5;241m!=\u001B[39m \u001B[38;5;28mself\u001B[39m\u001B[38;5;241m.\u001B[39m_cache\u001B[38;5;241m.\u001B[39mkey:\n\u001B[0;32m    645\u001B[0m     \u001B[38;5;28mself\u001B[39m\u001B[38;5;241m.\u001B[39m_cache\u001B[38;5;241m.\u001B[39minvalidate()\n\u001B[1;32m--> 646\u001B[0m     solving_chain \u001B[38;5;241m=\u001B[39m \u001B[38;5;28;43mself\u001B[39;49m\u001B[38;5;241;43m.\u001B[39;49m\u001B[43m_construct_chain\u001B[49m\u001B[43m(\u001B[49m\n\u001B[0;32m    647\u001B[0m \u001B[43m        \u001B[49m\u001B[43msolver\u001B[49m\u001B[38;5;241;43m=\u001B[39;49m\u001B[43msolver\u001B[49m\u001B[43m,\u001B[49m\u001B[43m \u001B[49m\u001B[43mgp\u001B[49m\u001B[38;5;241;43m=\u001B[39;49m\u001B[43mgp\u001B[49m\u001B[43m,\u001B[49m\n\u001B[0;32m    648\u001B[0m \u001B[43m        \u001B[49m\u001B[43menforce_dpp\u001B[49m\u001B[38;5;241;43m=\u001B[39;49m\u001B[43menforce_dpp\u001B[49m\u001B[43m,\u001B[49m\n\u001B[0;32m    649\u001B[0m \u001B[43m        \u001B[49m\u001B[43mignore_dpp\u001B[49m\u001B[38;5;241;43m=\u001B[39;49m\u001B[43mignore_dpp\u001B[49m\u001B[43m,\u001B[49m\n\u001B[0;32m    650\u001B[0m \u001B[43m        \u001B[49m\u001B[43mcanon_backend\u001B[49m\u001B[38;5;241;43m=\u001B[39;49m\u001B[43mcanon_backend\u001B[49m\u001B[43m,\u001B[49m\n\u001B[0;32m    651\u001B[0m \u001B[43m        \u001B[49m\u001B[43msolver_opts\u001B[49m\u001B[38;5;241;43m=\u001B[39;49m\u001B[43msolver_opts\u001B[49m\u001B[43m)\u001B[49m\n\u001B[0;32m    652\u001B[0m     \u001B[38;5;28mself\u001B[39m\u001B[38;5;241m.\u001B[39m_cache\u001B[38;5;241m.\u001B[39mkey \u001B[38;5;241m=\u001B[39m key\n\u001B[0;32m    653\u001B[0m     \u001B[38;5;28mself\u001B[39m\u001B[38;5;241m.\u001B[39m_cache\u001B[38;5;241m.\u001B[39msolving_chain \u001B[38;5;241m=\u001B[39m solving_chain\n",
      "File \u001B[1;32m~\\AppData\\Local\\Programs\\Python\\Python310\\lib\\site-packages\\cvxpy\\problems\\problem.py:898\u001B[0m, in \u001B[0;36mProblem._construct_chain\u001B[1;34m(self, solver, gp, enforce_dpp, ignore_dpp, canon_backend, solver_opts)\u001B[0m\n\u001B[0;32m    896\u001B[0m candidate_solvers \u001B[38;5;241m=\u001B[39m \u001B[38;5;28mself\u001B[39m\u001B[38;5;241m.\u001B[39m_find_candidate_solvers(solver\u001B[38;5;241m=\u001B[39msolver, gp\u001B[38;5;241m=\u001B[39mgp)\n\u001B[0;32m    897\u001B[0m \u001B[38;5;28mself\u001B[39m\u001B[38;5;241m.\u001B[39m_sort_candidate_solvers(candidate_solvers)\n\u001B[1;32m--> 898\u001B[0m \u001B[38;5;28;01mreturn\u001B[39;00m \u001B[43mconstruct_solving_chain\u001B[49m\u001B[43m(\u001B[49m\u001B[38;5;28;43mself\u001B[39;49m\u001B[43m,\u001B[49m\u001B[43m \u001B[49m\u001B[43mcandidate_solvers\u001B[49m\u001B[43m,\u001B[49m\u001B[43m \u001B[49m\u001B[43mgp\u001B[49m\u001B[38;5;241;43m=\u001B[39;49m\u001B[43mgp\u001B[49m\u001B[43m,\u001B[49m\n\u001B[0;32m    899\u001B[0m \u001B[43m                               \u001B[49m\u001B[43menforce_dpp\u001B[49m\u001B[38;5;241;43m=\u001B[39;49m\u001B[43menforce_dpp\u001B[49m\u001B[43m,\u001B[49m\n\u001B[0;32m    900\u001B[0m \u001B[43m                               \u001B[49m\u001B[43mignore_dpp\u001B[49m\u001B[38;5;241;43m=\u001B[39;49m\u001B[43mignore_dpp\u001B[49m\u001B[43m,\u001B[49m\n\u001B[0;32m    901\u001B[0m \u001B[43m                               \u001B[49m\u001B[43mcanon_backend\u001B[49m\u001B[38;5;241;43m=\u001B[39;49m\u001B[43mcanon_backend\u001B[49m\u001B[43m,\u001B[49m\n\u001B[0;32m    902\u001B[0m \u001B[43m                               \u001B[49m\u001B[43msolver_opts\u001B[49m\u001B[38;5;241;43m=\u001B[39;49m\u001B[43msolver_opts\u001B[49m\u001B[43m,\u001B[49m\n\u001B[0;32m    903\u001B[0m \u001B[43m                               \u001B[49m\u001B[43mspecified_solver\u001B[49m\u001B[38;5;241;43m=\u001B[39;49m\u001B[43msolver\u001B[49m\u001B[43m)\u001B[49m\n",
      "File \u001B[1;32m~\\AppData\\Local\\Programs\\Python\\Python310\\lib\\site-packages\\cvxpy\\reductions\\solvers\\solving_chain.py:217\u001B[0m, in \u001B[0;36mconstruct_solving_chain\u001B[1;34m(problem, candidates, gp, enforce_dpp, ignore_dpp, canon_backend, solver_opts, specified_solver)\u001B[0m\n\u001B[0;32m    215\u001B[0m \u001B[38;5;28;01mif\u001B[39;00m \u001B[38;5;28mlen\u001B[39m(problem\u001B[38;5;241m.\u001B[39mvariables()) \u001B[38;5;241m==\u001B[39m \u001B[38;5;241m0\u001B[39m:\n\u001B[0;32m    216\u001B[0m     \u001B[38;5;28;01mreturn\u001B[39;00m SolvingChain(reductions\u001B[38;5;241m=\u001B[39m[ConstantSolver()])\n\u001B[1;32m--> 217\u001B[0m reductions \u001B[38;5;241m=\u001B[39m \u001B[43m_reductions_for_problem_class\u001B[49m\u001B[43m(\u001B[49m\u001B[43mproblem\u001B[49m\u001B[43m,\u001B[49m\u001B[43m \u001B[49m\u001B[43mcandidates\u001B[49m\u001B[43m,\u001B[49m\u001B[43m \u001B[49m\u001B[43mgp\u001B[49m\u001B[43m,\u001B[49m\u001B[43m \u001B[49m\u001B[43msolver_opts\u001B[49m\u001B[43m)\u001B[49m\n\u001B[0;32m    219\u001B[0m \u001B[38;5;66;03m# Process DPP status of the problem.\u001B[39;00m\n\u001B[0;32m    220\u001B[0m dpp_context \u001B[38;5;241m=\u001B[39m \u001B[38;5;124m'\u001B[39m\u001B[38;5;124mdcp\u001B[39m\u001B[38;5;124m'\u001B[39m \u001B[38;5;28;01mif\u001B[39;00m \u001B[38;5;129;01mnot\u001B[39;00m gp \u001B[38;5;28;01melse\u001B[39;00m \u001B[38;5;124m'\u001B[39m\u001B[38;5;124mdgp\u001B[39m\u001B[38;5;124m'\u001B[39m\n",
      "File \u001B[1;32m~\\AppData\\Local\\Programs\\Python\\Python310\\lib\\site-packages\\cvxpy\\reductions\\solvers\\solving_chain.py:132\u001B[0m, in \u001B[0;36m_reductions_for_problem_class\u001B[1;34m(problem, candidates, gp, solver_opts)\u001B[0m\n\u001B[0;32m    129\u001B[0m     \u001B[38;5;28;01melif\u001B[39;00m problem\u001B[38;5;241m.\u001B[39mis_dqcp():\n\u001B[0;32m    130\u001B[0m         append \u001B[38;5;241m+\u001B[39m\u001B[38;5;241m=\u001B[39m (\u001B[38;5;124m\"\u001B[39m\u001B[38;5;130;01m\\n\u001B[39;00m\u001B[38;5;124mHowever, the problem does follow DQCP rules. \u001B[39m\u001B[38;5;124m\"\u001B[39m\n\u001B[0;32m    131\u001B[0m                    \u001B[38;5;124m\"\u001B[39m\u001B[38;5;124mConsider calling solve() with `qcp=True`.\u001B[39m\u001B[38;5;124m\"\u001B[39m)\n\u001B[1;32m--> 132\u001B[0m     \u001B[38;5;28;01mraise\u001B[39;00m DCPError(\n\u001B[0;32m    133\u001B[0m         \u001B[38;5;124m\"\u001B[39m\u001B[38;5;124mProblem does not follow DCP rules. Specifically:\u001B[39m\u001B[38;5;130;01m\\n\u001B[39;00m\u001B[38;5;124m\"\u001B[39m \u001B[38;5;241m+\u001B[39m append)\n\u001B[0;32m    134\u001B[0m \u001B[38;5;28;01melif\u001B[39;00m gp \u001B[38;5;129;01mand\u001B[39;00m \u001B[38;5;129;01mnot\u001B[39;00m problem\u001B[38;5;241m.\u001B[39mis_dgp():\n\u001B[0;32m    135\u001B[0m     append \u001B[38;5;241m=\u001B[39m build_non_disciplined_error_msg(problem, \u001B[38;5;124m'\u001B[39m\u001B[38;5;124mDGP\u001B[39m\u001B[38;5;124m'\u001B[39m)\n",
      "\u001B[1;31mDCPError\u001B[0m: Problem does not follow DCP rules. Specifically:\nThe objective is not DCP. Its following subexpressions are not:\n0.0 + 1.0 @ [1.         0.99842271 0.99684543 0.99526814 0.99369085 0.99211356\n 0.99053628 0.98895899 0.9873817  0.98580442 0.98422713 0.98264984\n 0.98107256 0.97949527 0.97791798 0.97634069 0.97476341 0.97318612\n 0.97160883 0.97003155 0.96845426 0.96687697 0.96529968 0.9637224\n 0.96214511 0.96056782 0.95899054 0.95741325 0.95583596 0.95425868\n 0.95268139 0.9511041  0.94952681 0.94794953 0.94637224 0.94479495\n 0.94321767 0.94164038 0.94006309 0.9384858  0.93690852 0.93533123\n 0.93375394 0.93217666 0.93059937 0.92902208 0.92744479 0.92586751\n 0.92429022 0.92271293 0.92113565 0.91955836 0.91798107 0.91640379\n 0.9148265  0.91324921 0.91167192 0.91009464 0.90851735 0.90694006\n 0.90536278 0.90378549 0.9022082  0.90063091 0.89905363 0.89747634\n 0.89589905 0.89432177 0.89274448 0.89116719 0.88958991 0.88801262\n 0.88643533 0.88485804 0.88328076 0.88170347 0.88012618 0.8785489\n 0.87697161 0.87539432 0.87381703 0.87223975 0.87066246 0.86908517\n 0.86750789 0.8659306  0.86435331 0.86277603 0.86119874 0.85962145\n 0.85804416 0.85646688 0.85488959 0.8533123  0.85173502 0.85015773\n 0.84858044 0.84700315 0.84542587 0.84384858 0.84227129 0.84069401\n 0.83911672 0.83753943 0.83596215 0.83438486 0.83280757 0.83123028\n 0.829653   0.82807571 0.82649842 0.82492114 0.82334385 0.82176656\n 0.82018927 0.81861199 0.8170347  0.81545741 0.81388013 0.81230284\n 0.81072555 0.80914826 0.80757098 0.80599369 0.8044164  0.80283912\n 0.80126183 0.79968454 0.79810726 0.79652997 0.79495268 0.79337539\n 0.79179811 0.79022082 0.78864353 0.78706625 0.78548896 0.78391167\n 0.78233438 0.7807571  0.77917981 0.77760252 0.77602524 0.77444795\n 0.77287066 0.77129338 0.76971609 0.7681388  0.76656151 0.76498423\n 0.76340694 0.76182965 0.76025237 0.75867508 0.75709779 0.7555205\n 0.75394322 0.75236593 0.75078864 0.74921136 0.74763407 0.74605678\n 0.7444795  0.74290221 0.74132492 0.73974763 0.73817035 0.73659306\n 0.73501577 0.73343849 0.7318612  0.73028391 0.72870662 0.72712934\n 0.72555205 0.72397476 0.72239748 0.72082019 0.7192429  0.71766562\n 0.71608833 0.71451104 0.71293375 0.71135647 0.70977918 0.70820189\n 0.70662461 0.70504732 0.70347003 0.70189274 0.70031546 0.69873817\n 0.69716088 0.6955836  0.69400631 0.69242902 0.69085174 0.68927445\n 0.68769716 0.68611987 0.68454259 0.6829653  0.68138801 0.67981073\n 0.67823344 0.67665615 0.67507886 0.67350158 0.67192429 0.670347\n 0.66876972 0.66719243 0.66561514 0.66403785 0.66246057 0.66088328\n 0.65930599 0.65772871 0.65615142 0.65457413 0.65299685 0.65141956\n 0.64984227 0.64826498 0.6466877  0.64511041 0.64353312 0.64195584\n 0.64037855 0.63880126 0.63722397 0.63564669 0.6340694  0.63249211\n 0.63091483 0.62933754 0.62776025 0.62618297 0.62460568 0.62302839\n 0.6214511  0.61987382 0.61829653 0.61671924 0.61514196 0.61356467\n 0.61198738 0.61041009 0.60883281 0.60725552 0.60567823 0.60410095\n 0.60252366 0.60094637 0.59936909 0.5977918  0.59621451 0.59463722\n 0.59305994 0.59148265 0.58990536 0.58832808 0.58675079 0.5851735\n 0.58359621 0.58201893 0.58044164 0.57886435 0.57728707 0.57570978\n 0.57413249 0.57255521 0.57097792 0.56940063 0.56782334 0.56624606\n 0.56466877 0.56309148 0.5615142  0.55993691 0.55835962 0.55678233\n 0.55520505 0.55362776 0.55205047 0.55047319 0.5488959  0.54731861\n 0.54574132 0.54416404 0.54258675 0.54100946 0.53943218 0.53785489\n 0.5362776  0.53470032 0.53312303 0.53154574 0.52996845 0.52839117\n 0.52681388 0.52523659 0.52365931 0.52208202 0.52050473 0.51892744\n 0.51735016 0.51577287 0.51419558 0.5126183  0.51104101 0.50946372\n 0.50788644 0.50630915 0.50473186 0.50315457 0.50157729 0.5\n 0.49842271 0.49684543 0.49526814 0.49369085 0.49211356 0.49053628\n 0.48895899 0.4873817  0.48580442 0.48422713 0.48264984 0.48107256\n 0.47949527 0.47791798 0.47634069 0.47476341 0.47318612 0.47160883\n 0.47003155 0.46845426 0.46687697 0.46529968 0.4637224  0.46214511\n 0.46056782 0.45899054 0.45741325 0.45583596 0.45425868 0.45268139\n 0.4511041  0.44952681 0.44794953 0.44637224 0.44479495 0.44321767\n 0.44164038 0.44006309 0.4384858  0.43690852 0.43533123 0.43375394\n 0.43217666 0.43059937 0.42902208 0.42744479 0.42586751 0.42429022\n 0.42271293 0.42113565 0.41955836 0.41798107 0.41640379 0.4148265\n 0.41324921 0.41167192 0.41009464 0.40851735 0.40694006 0.40536278\n 0.40378549 0.4022082  0.40063091 0.39905363 0.39747634 0.39589905\n 0.39432177 0.39274448 0.39116719 0.38958991 0.38801262 0.38643533\n 0.38485804 0.38328076 0.38170347 0.38012618 0.3785489  0.37697161\n 0.37539432 0.37381703 0.37223975 0.37066246 0.36908517 0.36750789\n 0.3659306  0.36435331 0.36277603 0.36119874 0.35962145 0.35804416\n 0.35646688 0.35488959 0.3533123  0.35173502 0.35015773 0.34858044\n 0.34700315 0.34542587 0.34384858 0.34227129 0.34069401 0.33911672\n 0.33753943 0.33596215 0.33438486 0.33280757 0.33123028 0.329653\n 0.32807571 0.32649842 0.32492114 0.32334385 0.32176656 0.32018927\n 0.31861199 0.3170347  0.31545741 0.31388013 0.31230284 0.31072555\n 0.30914826 0.30757098 0.30599369 0.3044164  0.30283912 0.30126183\n 0.29968454 0.29810726 0.29652997 0.29495268 0.29337539 0.29179811\n 0.29022082 0.28864353 0.28706625 0.28548896 0.28391167 0.28233438\n 0.2807571  0.27917981 0.27760252 0.27602524 0.27444795 0.27287066\n 0.27129338 0.26971609 0.2681388  0.26656151 0.26498423 0.26340694\n 0.26182965 0.26025237 0.25867508 0.25709779 0.2555205  0.25394322\n 0.25236593 0.25078864 0.24921136 0.24763407 0.24605678 0.2444795\n 0.24290221 0.24132492 0.23974763 0.23817035 0.23659306 0.23501577\n 0.23343849 0.2318612  0.23028391 0.22870662 0.22712934 0.22555205\n 0.22397476 0.22239748 0.22082019 0.2192429  0.21766562 0.21608833\n 0.21451104 0.21293375 0.21135647 0.20977918 0.20820189 0.20662461\n 0.20504732 0.20347003 0.20189274 0.20031546 0.19873817 0.19716088\n 0.1955836  0.19400631 0.19242902 0.19085174 0.18927445 0.18769716\n 0.18611987 0.18454259 0.1829653  0.18138801 0.17981073 0.17823344\n 0.17665615 0.17507886 0.17350158 0.17192429 0.170347   0.16876972\n 0.16719243 0.16561514 0.16403785 0.16246057 0.16088328 0.15930599\n 0.15772871 0.15615142 0.15457413 0.15299685 0.15141956 0.14984227\n 0.14826498 0.1466877  0.14511041 0.14353312 0.14195584 0.14037855\n 0.13880126 0.13722397 0.13564669 0.1340694  0.13249211 0.13091483\n 0.12933754 0.12776025 0.12618297 0.12460568 0.12302839 0.1214511\n 0.11987382 0.11829653 0.11671924 0.11514196 0.11356467 0.11198738\n 0.11041009 0.10883281 0.10725552 0.10567823 0.10410095 0.10252366\n 0.10094637 0.09936909 0.0977918  0.09621451 0.09463722 0.09305994\n 0.09148265 0.08990536 0.08832808 0.08675079 0.0851735  0.08359621\n 0.08201893 0.08044164 0.07886435 0.07728707 0.07570978 0.07413249\n 0.07255521 0.07097792 0.06940063 0.06782334 0.06624606 0.06466877\n 0.06309148 0.0615142  0.05993691 0.05835962 0.05678233 0.05520505\n 0.05362776 0.05205047 0.05047319 0.0488959  0.04731861 0.04574132\n 0.04416404 0.04258675 0.04100946 0.03943218 0.03785489 0.0362776\n 0.03470032 0.03312303 0.03154574 0.02996845 0.02839117 0.02681388\n 0.02523659 0.02365931 0.02208202 0.02050473 0.01892744 0.01735016\n 0.01577287 0.01419558 0.0126183  0.01104101 0.00946372 0.00788644\n 0.00630915 0.00473186 0.00315457 0.00157729] @ Sum(var1, 0, False) + 1e-12 @ -quad_over_lin(var1, 1.0) + 1e-12 @ max(norm1(Vstack((var1 @ [[208.00 208.00 ... 208.00 208.00]\n [208.00 208.00 ... 208.00 208.00]\n ...\n [208.00 208.00 ... 208.00 208.00]\n [208.00 208.00 ... 208.00 208.00]] / Promote(1000.0, (54, 634))) @ Promote(0.08333333333333333, (54, 634)), (var1 @ [[208.00 208.00 ... 208.00 208.00]\n [208.00 208.00 ... 208.00 208.00]\n ...\n [208.00 208.00 ... 208.00 208.00]\n [208.00 208.00 ... 208.00 208.00]] / Promote(1000.0, (54, 634))) @ Promote(0.08333333333333333, (54, 634)))), None, False)"
     ]
    }
   ],
   "source": [
    "quick_charge_obj = [adacharge.ObjectiveComponent(adacharge.quick_charge),\n",
    "                    adacharge.ObjectiveComponent(adacharge.equal_share, 1e-12),\n",
    "                    adacharge.ObjectiveComponent(adacharge.non_completion_penalty, 1e-12),\n",
    "                    ]\n",
    "mpc = adacharge.AdaptiveSchedulingAlgorithm(quick_charge_obj, solver=\"ECOS\")\n",
    "mpc_sp_sim, mpc_tp_sim = experiment(mpc)"
   ]
  },
  {
   "cell_type": "markdown",
   "metadata": {
    "colab_type": "text",
    "id": "edJlAV5wPesD"
   },
   "source": [
    "## Results\n",
    "\n",
    "In order to compare the single-phase and three-phase versions of LLF, we plot the aggregate power of all EVSEs as well as individual line currents on the primary and secondary side of the transformer which feeds the CaltechACN. "
   ]
  },
  {
   "cell_type": "code",
   "execution_count": null,
   "metadata": {
    "colab": {
     "base_uri": "https://localhost:8080/",
     "height": 263
    },
    "colab_type": "code",
    "id": "MBhusqQV8ZAe",
    "outputId": "3b668259-2f13-4baf-ef86-a9627b1a3834",
    "ExecuteTime": {
     "start_time": "2024-04-02T08:50:41.666836Z"
    }
   },
   "outputs": [],
   "source": [
    "def plot_currents(single_phase_sim, three_phase_sim, transfomer_cap):\n",
    "    cmap = cm.get_cmap('tab20c')\n",
    "\n",
    "    fig, axes = plt.subplots(3, 2, sharey='row', sharex=True, figsize=(6,4))\n",
    "    fig.subplots_adjust(wspace=0.17, hspace=0.17)\n",
    "    axes[0, 0].set_xlim(7*12, 17*12)\n",
    "    \n",
    "    for i in range(3):\n",
    "        for j in range(2):\n",
    "            axes[i, j].spines['right'].set_visible(False)\n",
    "            axes[i, j].spines['top'].set_visible(False)\n",
    "\n",
    "    # Plot Aggregate Charging Power\n",
    "    sp_agg = analysis.aggregate_current(single_phase_sim)*208/1000\n",
    "    tp_agg = analysis.aggregate_current(three_phase_sim)*208/1000\n",
    "    sp_color = 4\n",
    "    tp_color = 0\n",
    "    axes[0, 0].plot(sp_agg, color=cmap(sp_color))\n",
    "    axes[0, 1].plot(tp_agg, color=cmap(tp_color))\n",
    "\n",
    "\n",
    "    # Calculate currents in constrained lines\n",
    "    sp_cc = analysis.constraint_currents(single_phase_sim)\n",
    "    tp_cc = analysis.constraint_currents(three_phase_sim)\n",
    "\n",
    "    # Plot currents in lines on the Primary and Secondary side of the transformer.\n",
    "    for j, line in enumerate('ABC'): \n",
    "        axes[1, 0].plot(sp_cc['Primary {0}'.format(line)], label='Primary {0}'.format(line), color=cmap(j + sp_color))\n",
    "        axes[1, 1].plot(tp_cc['Primary {0}'.format(line)], label='Primary {0}'.format(line), color=cmap(j + tp_color))\n",
    "\n",
    "        axes[2, 0].plot(sp_cc['Secondary {0}'.format(line)], label='Secondary {0}'.format(line), color=cmap(j + sp_color))\n",
    "        axes[2, 1].plot(tp_cc['Secondary {0}'.format(line)], label='Secondary {0}'.format(line), color=cmap(j + tp_color))\n",
    "\n",
    "    # Plot limits \n",
    "    axes[0, 0].axhline(transfomer_cap, color='k', linestyle='--')\n",
    "    axes[1, 0].axhline(transfomer_cap*1000/277/3, color='k', linestyle='--')\n",
    "    axes[2, 0].axhline(transfomer_cap*1000/120/3, color='k', linestyle='--')\n",
    "\n",
    "    axes[0, 1].axhline(transfomer_cap, color='k', linestyle='--')\n",
    "    axes[1, 1].axhline(transfomer_cap*1000/277/3, color='k', linestyle='--')\n",
    "    axes[2, 1].axhline(transfomer_cap*1000/120/3, color='k', linestyle='--')\n",
    "\n",
    "    axes[0, 0].set_title(\"Single Phase Constraints\")\n",
    "    axes[0, 1].set_title(\"Three Phase Constriants\")\n",
    "    \n",
    "    fig.text(0.015, 0.77, 'Aggregate\\nPower (kW)', va='center', rotation='vertical')\n",
    "    fig.text(0.015, 0.37, 'Line Currents (A)', va='center', rotation='vertical')\n",
    "    fig.text(0.04, 0.50, 'Secondary', va='center', rotation='vertical')\n",
    "    fig.text(0.04, 0.24, 'Primary', va='center', rotation='vertical')\n",
    "        \n",
    "    plt.xticks(range(7*12, 17*12, 36), ['7:00', '10:00', '13:00', '16:00'])\n",
    "    plt.show()\n",
    "    return fig"
   ]
  },
  {
   "cell_type": "markdown",
   "metadata": {},
   "source": [
    "### Least Laxity First"
   ]
  },
  {
   "cell_type": "code",
   "execution_count": null,
   "metadata": {
    "ExecuteTime": {
     "start_time": "2024-04-02T08:50:41.669030Z"
    }
   },
   "outputs": [],
   "source": [
    "llf_fig = plot_currents(llf_sp_sim, llf_tp_sim, 70)"
   ]
  },
  {
   "cell_type": "code",
   "execution_count": null,
   "metadata": {
    "ExecuteTime": {
     "start_time": "2024-04-02T08:50:41.670409Z"
    }
   },
   "outputs": [],
   "source": [
    "llf_fig.savefig(f\"figures/llf_single_v_three_phase.pdf\", dpi=300)"
   ]
  },
  {
   "cell_type": "markdown",
   "metadata": {},
   "source": [
    "### Model Predictive Control"
   ]
  },
  {
   "cell_type": "code",
   "execution_count": null,
   "metadata": {
    "ExecuteTime": {
     "start_time": "2024-04-02T08:50:41.672450Z"
    }
   },
   "outputs": [],
   "source": [
    "mpc_fig = plot_currents(mpc_sp_sim, mpc_tp_sim, 70)"
   ]
  },
  {
   "cell_type": "code",
   "execution_count": null,
   "metadata": {},
   "outputs": [],
   "source": [
    "mpc_fig.savefig(f\"figures/mpc_single_v_three_phase.pdf\", dpi=300)"
   ]
  },
  {
   "cell_type": "markdown",
   "metadata": {
    "colab_type": "text",
    "id": "65VBWKw_RNjr"
   },
   "source": [
    "Here we can see that only considering single-phase constraints can lead to significant constraint violations in line currents for both algorithms. However, by designing an algorithm which considers the full three-phase model, we are able to respect these constraints. Note that because of phase unbalance, we are not able to make use of the full 70 kW transformer capacity while also respecting line limits using LLF. MPC allows us to fully utilize the capacity but still takes longer to deliver the same amount of energy due to contraints from phase imbalances."
   ]
  }
 ],
 "metadata": {
  "colab": {
   "collapsed_sections": [],
   "include_colab_link": true,
   "name": "unbalanced_three_phase_infrastructure.ipynb",
   "provenance": []
  },
  "kernelspec": {
   "display_name": "Python 3",
   "language": "python",
   "name": "python3"
  },
  "language_info": {
   "codemirror_mode": {
    "name": "ipython",
    "version": 3
   },
   "file_extension": ".py",
   "mimetype": "text/x-python",
   "name": "python",
   "nbconvert_exporter": "python",
   "pygments_lexer": "ipython3",
   "version": "3.8.1"
  }
 },
 "nbformat": 4,
 "nbformat_minor": 4
}
