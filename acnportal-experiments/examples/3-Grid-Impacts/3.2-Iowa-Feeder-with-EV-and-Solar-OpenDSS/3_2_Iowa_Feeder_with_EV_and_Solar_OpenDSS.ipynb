{
 "cells": [
  {
   "cell_type": "markdown",
   "metadata": {
    "id": "MG3CSFddTUeo"
   },
   "source": [
    "# Effect of Distributed PV and EV Charging on a Distribution Feeder\n",
    "by Sunash Sharma and Zachary Lee\n",
    "\n",
    "The purpose of this simulation is to evaluate the impact of an Adaptive Charging Networks and PV systems on a distribution feeder.\n",
    "\n",
    "We use the Iowa Test Feeder provided by Iowa State University (http://wzy.ece.iastate.edu/Testsystem.html). The feeder is described in .dss files which can be used with OpenDSS. In addition to an accurate feeder model, this dataset also includes real smart-meter data with hourly resolution. \n",
    "\n",
    "For PV generation we use the SAM tool from NREL to generate a characteristic generation curve using a typical meteorological year (TMY) for Des Moines, Iowa.\n",
    "\n",
    "For EV load, we use real data from the JPL ACN. \n",
    "\n",
    "We install EV charging and PV generation on a single bus in the Iowa Test Feeder and analyze the effects of doing so on grid health metrics; namely, the minimal per-unit voltage in the network. We analyze the metrics under different charging and generation conditions."
   ]
  },
  {
   "cell_type": "markdown",
   "metadata": {
    "id": "gAQEmNsnTUep"
   },
   "source": [
    "If you're running this notebook in a new environment (e.g. Google Colab), run the following cell to install the necessary dependencies."
   ]
  },
  {
   "cell_type": "code",
   "execution_count": 3,
   "metadata": {
    "colab": {
     "base_uri": "https://localhost:8080/"
    },
    "id": "I7ODCDc77PSd",
    "outputId": "b2d40661-4bba-4be5-b267-2a3e0d88cbdb"
   },
   "outputs": [
    {
     "name": "stdout",
     "output_type": "stream",
     "text": [
      "Cloning into 'acnportal'...\n",
      "remote: Enumerating objects: 517, done.\u001b[K\n",
      "remote: Counting objects: 100% (517/517), done.\u001b[K\n",
      "remote: Compressing objects: 100% (263/263), done.\u001b[K\n",
      "remote: Total 6537 (delta 370), reused 375 (delta 253), pack-reused 6020\u001b[K\n",
      "Receiving objects: 100% (6537/6537), 3.51 MiB | 16.70 MiB/s, done.\n",
      "Resolving deltas: 100% (4481/4481), done.\n"
     ]
    }
   ],
   "source": [
    "!git clone https://github.com/zach401/acnportal.git"
   ]
  },
  {
   "cell_type": "code",
   "execution_count": 4,
   "metadata": {
    "colab": {
     "base_uri": "https://localhost:8080/"
    },
    "id": "8HGoC3ZL7R6P",
    "outputId": "068a1369-457b-4993-f883-4de99f25f55d"
   },
   "outputs": [
    {
     "name": "stdout",
     "output_type": "stream",
     "text": [
      "Cloning into 'adacharge'...\n",
      "remote: Enumerating objects: 379, done.\u001b[K\n",
      "remote: Counting objects: 100% (379/379), done.\u001b[K\n",
      "remote: Compressing objects: 100% (152/152), done.\u001b[K\n",
      "remote: Total 379 (delta 243), reused 349 (delta 218), pack-reused 0\u001b[K\n",
      "Receiving objects: 100% (379/379), 92.95 KiB | 1.86 MiB/s, done.\n",
      "Resolving deltas: 100% (243/243), done.\n"
     ]
    }
   ],
   "source": [
    "!git clone https://github.com/caltech-netlab/adacharge.git"
   ]
  },
  {
   "cell_type": "code",
   "execution_count": 5,
   "metadata": {
    "colab": {
     "base_uri": "https://localhost:8080/"
    },
    "id": "Fx2MEGHd7eOc",
    "outputId": "b9560c0a-cbcb-4e01-8f58-a60323fd3672"
   },
   "outputs": [
    {
     "name": "stdout",
     "output_type": "stream",
     "text": [
      "Branch 'py_3.6_compatibility' set up to track remote branch 'py_3.6_compatibility' from 'origin'.\n",
      "Switched to a new branch 'py_3.6_compatibility'\n"
     ]
    }
   ],
   "source": [
    "!cd adacharge && git checkout py_3.6_compatibility"
   ]
  },
  {
   "cell_type": "code",
   "execution_count": 6,
   "metadata": {
    "colab": {
     "base_uri": "https://localhost:8080/"
    },
    "collapsed": true,
    "id": "vK39aEZ2TUep",
    "jupyter": {
     "outputs_hidden": true
    },
    "outputId": "d7d1df87-9050-48c0-af9d-fc07a84ff20f"
   },
   "outputs": [
    {
     "name": "stdout",
     "output_type": "stream",
     "text": [
      "Processing ./acnportal\n",
      "Requirement already satisfied: numpy in /usr/local/lib/python3.6/dist-packages (from acnportal==0.2.2) (1.18.5)\n",
      "Requirement already satisfied: pandas>=1.1.0 in /usr/local/lib/python3.6/dist-packages (from acnportal==0.2.2) (1.1.5)\n",
      "Requirement already satisfied: matplotlib in /usr/local/lib/python3.6/dist-packages (from acnportal==0.2.2) (3.2.2)\n",
      "Requirement already satisfied: requests in /usr/local/lib/python3.6/dist-packages (from acnportal==0.2.2) (2.23.0)\n",
      "Requirement already satisfied: pytz in /usr/local/lib/python3.6/dist-packages (from acnportal==0.2.2) (2018.9)\n",
      "Requirement already satisfied: typing_extensions in /usr/local/lib/python3.6/dist-packages (from acnportal==0.2.2) (3.7.4.3)\n",
      "Requirement already satisfied: python-dateutil>=2.7.3 in /usr/local/lib/python3.6/dist-packages (from pandas>=1.1.0->acnportal==0.2.2) (2.8.1)\n",
      "Requirement already satisfied: pyparsing!=2.0.4,!=2.1.2,!=2.1.6,>=2.0.1 in /usr/local/lib/python3.6/dist-packages (from matplotlib->acnportal==0.2.2) (2.4.7)\n",
      "Requirement already satisfied: kiwisolver>=1.0.1 in /usr/local/lib/python3.6/dist-packages (from matplotlib->acnportal==0.2.2) (1.3.1)\n",
      "Requirement already satisfied: cycler>=0.10 in /usr/local/lib/python3.6/dist-packages (from matplotlib->acnportal==0.2.2) (0.10.0)\n",
      "Requirement already satisfied: idna<3,>=2.5 in /usr/local/lib/python3.6/dist-packages (from requests->acnportal==0.2.2) (2.10)\n",
      "Requirement already satisfied: certifi>=2017.4.17 in /usr/local/lib/python3.6/dist-packages (from requests->acnportal==0.2.2) (2020.12.5)\n",
      "Requirement already satisfied: urllib3!=1.25.0,!=1.25.1,<1.26,>=1.21.1 in /usr/local/lib/python3.6/dist-packages (from requests->acnportal==0.2.2) (1.24.3)\n",
      "Requirement already satisfied: chardet<4,>=3.0.2 in /usr/local/lib/python3.6/dist-packages (from requests->acnportal==0.2.2) (3.0.4)\n",
      "Requirement already satisfied: six>=1.5 in /usr/local/lib/python3.6/dist-packages (from python-dateutil>=2.7.3->pandas>=1.1.0->acnportal==0.2.2) (1.15.0)\n",
      "Building wheels for collected packages: acnportal\n",
      "  Building wheel for acnportal (setup.py) ... \u001b[?25l\u001b[?25hdone\n",
      "  Created wheel for acnportal: filename=acnportal-0.2.2-cp36-none-any.whl size=132646 sha256=4fff33f09b574f1abc4676ec7377a7ef13466529ebb6b6e471d2fb0d601bffb4\n",
      "  Stored in directory: /tmp/pip-ephem-wheel-cache-7c4w5eh1/wheels/6d/6a/19/10aef74a8c705c23f53e3e1d696420b07fcdbc88af47701336\n",
      "Successfully built acnportal\n",
      "Installing collected packages: acnportal\n",
      "Successfully installed acnportal-0.2.2\n",
      "Processing ./adacharge\n",
      "Requirement already satisfied: numpy in /usr/local/lib/python3.6/dist-packages (from adacharge==0.0.1) (1.18.5)\n",
      "Requirement already satisfied: cvxpy in /usr/local/lib/python3.6/dist-packages (from adacharge==0.0.1) (1.0.31)\n",
      "Requirement already satisfied: acnportal in /usr/local/lib/python3.6/dist-packages (from adacharge==0.0.1) (0.2.2)\n",
      "Requirement already satisfied: pytz in /usr/local/lib/python3.6/dist-packages (from adacharge==0.0.1) (2018.9)\n",
      "Requirement already satisfied: osqp>=0.4.1 in /usr/local/lib/python3.6/dist-packages (from cvxpy->adacharge==0.0.1) (0.6.1)\n",
      "Requirement already satisfied: ecos>=2 in /usr/local/lib/python3.6/dist-packages (from cvxpy->adacharge==0.0.1) (2.0.7.post1)\n",
      "Requirement already satisfied: scs>=1.1.3 in /usr/local/lib/python3.6/dist-packages (from cvxpy->adacharge==0.0.1) (2.1.2)\n",
      "Requirement already satisfied: scipy>=1.1.0 in /usr/local/lib/python3.6/dist-packages (from cvxpy->adacharge==0.0.1) (1.4.1)\n",
      "Requirement already satisfied: multiprocess in /usr/local/lib/python3.6/dist-packages (from cvxpy->adacharge==0.0.1) (0.70.11.1)\n",
      "Requirement already satisfied: typing-extensions in /usr/local/lib/python3.6/dist-packages (from acnportal->adacharge==0.0.1) (3.7.4.3)\n",
      "Requirement already satisfied: matplotlib in /usr/local/lib/python3.6/dist-packages (from acnportal->adacharge==0.0.1) (3.2.2)\n",
      "Requirement already satisfied: pandas>=1.1.0 in /usr/local/lib/python3.6/dist-packages (from acnportal->adacharge==0.0.1) (1.1.5)\n",
      "Requirement already satisfied: requests in /usr/local/lib/python3.6/dist-packages (from acnportal->adacharge==0.0.1) (2.23.0)\n",
      "Requirement already satisfied: future in /usr/local/lib/python3.6/dist-packages (from osqp>=0.4.1->cvxpy->adacharge==0.0.1) (0.16.0)\n",
      "Requirement already satisfied: dill>=0.3.3 in /usr/local/lib/python3.6/dist-packages (from multiprocess->cvxpy->adacharge==0.0.1) (0.3.3)\n",
      "Requirement already satisfied: cycler>=0.10 in /usr/local/lib/python3.6/dist-packages (from matplotlib->acnportal->adacharge==0.0.1) (0.10.0)\n",
      "Requirement already satisfied: kiwisolver>=1.0.1 in /usr/local/lib/python3.6/dist-packages (from matplotlib->acnportal->adacharge==0.0.1) (1.3.1)\n",
      "Requirement already satisfied: pyparsing!=2.0.4,!=2.1.2,!=2.1.6,>=2.0.1 in /usr/local/lib/python3.6/dist-packages (from matplotlib->acnportal->adacharge==0.0.1) (2.4.7)\n",
      "Requirement already satisfied: python-dateutil>=2.1 in /usr/local/lib/python3.6/dist-packages (from matplotlib->acnportal->adacharge==0.0.1) (2.8.1)\n",
      "Requirement already satisfied: certifi>=2017.4.17 in /usr/local/lib/python3.6/dist-packages (from requests->acnportal->adacharge==0.0.1) (2020.12.5)\n",
      "Requirement already satisfied: chardet<4,>=3.0.2 in /usr/local/lib/python3.6/dist-packages (from requests->acnportal->adacharge==0.0.1) (3.0.4)\n",
      "Requirement already satisfied: urllib3!=1.25.0,!=1.25.1,<1.26,>=1.21.1 in /usr/local/lib/python3.6/dist-packages (from requests->acnportal->adacharge==0.0.1) (1.24.3)\n",
      "Requirement already satisfied: idna<3,>=2.5 in /usr/local/lib/python3.6/dist-packages (from requests->acnportal->adacharge==0.0.1) (2.10)\n",
      "Requirement already satisfied: six in /usr/local/lib/python3.6/dist-packages (from cycler>=0.10->matplotlib->acnportal->adacharge==0.0.1) (1.15.0)\n",
      "Building wheels for collected packages: adacharge\n",
      "  Building wheel for adacharge (setup.py) ... \u001b[?25l\u001b[?25hdone\n",
      "  Created wheel for adacharge: filename=adacharge-0.0.1-cp36-none-any.whl size=19538 sha256=fac68da02eb47c3516d3f69250ea28e7d5e4bb9b5e2d23910f88bf2b6198ef27\n",
      "  Stored in directory: /tmp/pip-ephem-wheel-cache-o6p46k8b/wheels/81/51/ca/594c0e70cb3e97ed6cddde8f7b45b43527260c9bb945d7560f\n",
      "Successfully built adacharge\n",
      "Installing collected packages: adacharge\n",
      "Successfully installed adacharge-0.0.1\n",
      "Requirement already satisfied: Mosek in /usr/local/lib/python3.6/dist-packages (9.2.32)\n",
      "Requirement already satisfied: numpy in /usr/local/lib/python3.6/dist-packages (from Mosek) (1.18.5)\n",
      "Requirement already satisfied: OpenDSSDirect.py[extras] in /usr/local/lib/python3.6/dist-packages (0.5.0)\n",
      "Requirement already satisfied: dss-python<0.11,>=0.10.6 in /usr/local/lib/python3.6/dist-packages (from OpenDSSDirect.py[extras]) (0.10.6)\n",
      "Requirement already satisfied: future in /usr/local/lib/python3.6/dist-packages (from OpenDSSDirect.py[extras]) (0.16.0)\n",
      "Requirement already satisfied: six in /usr/local/lib/python3.6/dist-packages (from OpenDSSDirect.py[extras]) (1.15.0)\n",
      "Requirement already satisfied: matplotlib; extra == \"extras\" in /usr/local/lib/python3.6/dist-packages (from OpenDSSDirect.py[extras]) (3.2.2)\n",
      "Requirement already satisfied: pandas; extra == \"extras\" in /usr/local/lib/python3.6/dist-packages (from OpenDSSDirect.py[extras]) (1.1.5)\n",
      "Requirement already satisfied: networkx; extra == \"extras\" in /usr/local/lib/python3.6/dist-packages (from OpenDSSDirect.py[extras]) (2.5)\n",
      "Requirement already satisfied: numpy>=1.0 in /usr/local/lib/python3.6/dist-packages (from dss-python<0.11,>=0.10.6->OpenDSSDirect.py[extras]) (1.18.5)\n",
      "Requirement already satisfied: cffi>=1.11.2 in /usr/local/lib/python3.6/dist-packages (from dss-python<0.11,>=0.10.6->OpenDSSDirect.py[extras]) (1.14.4)\n",
      "Requirement already satisfied: python-dateutil>=2.1 in /usr/local/lib/python3.6/dist-packages (from matplotlib; extra == \"extras\"->OpenDSSDirect.py[extras]) (2.8.1)\n",
      "Requirement already satisfied: kiwisolver>=1.0.1 in /usr/local/lib/python3.6/dist-packages (from matplotlib; extra == \"extras\"->OpenDSSDirect.py[extras]) (1.3.1)\n",
      "Requirement already satisfied: cycler>=0.10 in /usr/local/lib/python3.6/dist-packages (from matplotlib; extra == \"extras\"->OpenDSSDirect.py[extras]) (0.10.0)\n",
      "Requirement already satisfied: pyparsing!=2.0.4,!=2.1.2,!=2.1.6,>=2.0.1 in /usr/local/lib/python3.6/dist-packages (from matplotlib; extra == \"extras\"->OpenDSSDirect.py[extras]) (2.4.7)\n",
      "Requirement already satisfied: pytz>=2017.2 in /usr/local/lib/python3.6/dist-packages (from pandas; extra == \"extras\"->OpenDSSDirect.py[extras]) (2018.9)\n",
      "Requirement already satisfied: decorator>=4.3.0 in /usr/local/lib/python3.6/dist-packages (from networkx; extra == \"extras\"->OpenDSSDirect.py[extras]) (4.4.2)\n",
      "Requirement already satisfied: pycparser in /usr/local/lib/python3.6/dist-packages (from cffi>=1.11.2->dss-python<0.11,>=0.10.6->OpenDSSDirect.py[extras]) (2.20)\n",
      "Requirement already satisfied: tqdm in /usr/local/lib/python3.6/dist-packages (4.41.1)\n"
     ]
    }
   ],
   "source": [
    "!pip install acnportal/.\n",
    "!pip install adacharge/.\n",
    "!pip install Mosek\n",
    "!pip install 'OpenDSSDirect.py[extras]'\n",
    "!pip install tqdm"
   ]
  },
  {
   "cell_type": "code",
   "execution_count": 7,
   "metadata": {
    "colab": {
     "base_uri": "https://localhost:8080/"
    },
    "collapsed": true,
    "id": "a7DJgNhYXXIV",
    "jupyter": {
     "outputs_hidden": true
    },
    "outputId": "97449120-3a7d-4769-a186-2de80fb293e2"
   },
   "outputs": [
    {
     "name": "stdout",
     "output_type": "stream",
     "text": [
      "mkdir: cannot create directory ‘src/’: File exists\n",
      "--2020-12-15 01:52:41--  https://raw.githubusercontent.com/caltech-netlab/acnportal-experiments/add_open_dss_experiment/examples/3-Grid-Impacts/3.2-Iowa-Feeder-with-EV-and-Solar-OpenDSS/src/__init__.py\n",
      "Resolving raw.githubusercontent.com (raw.githubusercontent.com)... 151.101.0.133, 151.101.64.133, 151.101.128.133, ...\n",
      "Connecting to raw.githubusercontent.com (raw.githubusercontent.com)|151.101.0.133|:443... connected.\n",
      "HTTP request sent, awaiting response... 200 OK\n",
      "Length: 0 [text/plain]\n",
      "Saving to: ‘src/__init__.py.3’\n",
      "\n",
      "__init__.py.3           [ <=>                ]       0  --.-KB/s    in 0s      \n",
      "\n",
      "2020-12-15 01:52:41 (0.00 B/s) - ‘src/__init__.py.3’ saved [0/0]\n",
      "\n",
      "--2020-12-15 01:52:41--  https://raw.githubusercontent.com/caltech-netlab/acnportal-experiments/add_open_dss_experiment/examples/3-Grid-Impacts/3.2-Iowa-Feeder-with-EV-and-Solar-OpenDSS/src/acn_experiment.py\n",
      "Resolving raw.githubusercontent.com (raw.githubusercontent.com)... 151.101.0.133, 151.101.64.133, 151.101.128.133, ...\n",
      "Connecting to raw.githubusercontent.com (raw.githubusercontent.com)|151.101.0.133|:443... connected.\n",
      "HTTP request sent, awaiting response... 200 OK\n",
      "Length: 8470 (8.3K) [text/plain]\n",
      "Saving to: ‘src/acn_experiment.py.3’\n",
      "\n",
      "acn_experiment.py.3 100%[===================>]   8.27K  --.-KB/s    in 0s      \n",
      "\n",
      "2020-12-15 01:52:41 (63.8 MB/s) - ‘src/acn_experiment.py.3’ saved [8470/8470]\n",
      "\n",
      "--2020-12-15 01:52:41--  https://raw.githubusercontent.com/caltech-netlab/acnportal-experiments/add_open_dss_experiment/examples/3-Grid-Impacts/3.2-Iowa-Feeder-with-EV-and-Solar-OpenDSS/src/composite_experiment.py\n",
      "Resolving raw.githubusercontent.com (raw.githubusercontent.com)... 151.101.0.133, 151.101.64.133, 151.101.128.133, ...\n",
      "Connecting to raw.githubusercontent.com (raw.githubusercontent.com)|151.101.0.133|:443... connected.\n",
      "HTTP request sent, awaiting response... 200 OK\n",
      "Length: 4859 (4.7K) [text/plain]\n",
      "Saving to: ‘src/composite_experiment.py.3’\n",
      "\n",
      "composite_experimen 100%[===================>]   4.75K  --.-KB/s    in 0s      \n",
      "\n",
      "2020-12-15 01:52:41 (66.6 MB/s) - ‘src/composite_experiment.py.3’ saved [4859/4859]\n",
      "\n",
      "--2020-12-15 01:52:41--  https://raw.githubusercontent.com/caltech-netlab/acnportal-experiments/add_open_dss_experiment/examples/3-Grid-Impacts/3.2-Iowa-Feeder-with-EV-and-Solar-OpenDSS/src/opendss_experiment.py\n",
      "Resolving raw.githubusercontent.com (raw.githubusercontent.com)... 151.101.0.133, 151.101.64.133, 151.101.128.133, ...\n",
      "Connecting to raw.githubusercontent.com (raw.githubusercontent.com)|151.101.0.133|:443... connected.\n",
      "HTTP request sent, awaiting response... 200 OK\n",
      "Length: 6871 (6.7K) [text/plain]\n",
      "Saving to: ‘src/opendss_experiment.py.3’\n",
      "\n",
      "opendss_experiment. 100%[===================>]   6.71K  --.-KB/s    in 0s      \n",
      "\n",
      "2020-12-15 01:52:41 (69.2 MB/s) - ‘src/opendss_experiment.py.3’ saved [6871/6871]\n",
      "\n",
      "mkdir: cannot create directory ‘data/’: File exists\n",
      "--2020-12-15 01:52:42--  https://raw.githubusercontent.com/caltech-netlab/acnportal-experiments/add_open_dss_experiment/examples/3-Grid-Impacts/3.2-Iowa-Feeder-with-EV-and-Solar-OpenDSS/data/results_des_moines_autosized_270kWdc.csv\n",
      "Resolving raw.githubusercontent.com (raw.githubusercontent.com)... 151.101.0.133, 151.101.64.133, 151.101.128.133, ...\n",
      "Connecting to raw.githubusercontent.com (raw.githubusercontent.com)|151.101.0.133|:443... connected.\n",
      "HTTP request sent, awaiting response... 200 OK\n",
      "Length: 206240 (201K) [text/plain]\n",
      "Saving to: ‘data/results_des_moines_autosized_270kWdc.csv.3’\n",
      "\n",
      "results_des_moines_ 100%[===================>] 201.41K  --.-KB/s    in 0.03s   \n",
      "\n",
      "2020-12-15 01:52:42 (6.51 MB/s) - ‘data/results_des_moines_autosized_270kWdc.csv.3’ saved [206240/206240]\n",
      "\n",
      "mkdir: cannot create directory ‘iowa_data/’: File exists\n",
      "/bin/bash: Q.xlsx: command not found\n",
      "--2020-12-15 01:52:42--  https://raw.githubusercontent.com/caltech-netlab/acnportal-experiments/add_open_dss_experiment/examples/3-Grid-Impacts/3.2-Iowa-Feeder-with-EV-and-Solar-OpenDSS/iowa_data/Calculated%20Nodal%20P\n",
      "Resolving raw.githubusercontent.com (raw.githubusercontent.com)... 151.101.0.133, 151.101.64.133, 151.101.128.133, ...\n",
      "Connecting to raw.githubusercontent.com (raw.githubusercontent.com)|151.101.0.133|:443... connected.\n",
      "HTTP request sent, awaiting response... 404 Not Found\n",
      "2020-12-15 01:52:42 ERROR 404: Not Found.\n",
      "\n",
      "--2020-12-15 01:52:42--  https://raw.githubusercontent.com/caltech-netlab/acnportal-experiments/add_open_dss_experiment/examples/3-Grid-Impacts/3.2-Iowa-Feeder-with-EV-and-Solar-OpenDSS/iowa_data/Smart%20Meter%20Data.xlsx\n",
      "Resolving raw.githubusercontent.com (raw.githubusercontent.com)... 151.101.0.133, 151.101.64.133, 151.101.128.133, ...\n",
      "Connecting to raw.githubusercontent.com (raw.githubusercontent.com)|151.101.0.133|:443... connected.\n",
      "HTTP request sent, awaiting response... 200 OK\n",
      "Length: 16069018 (15M) [application/octet-stream]\n",
      "Saving to: ‘iowa_data/Smart Meter Data.xlsx.3’\n",
      "\n",
      "Smart Meter Data.xl 100%[===================>]  15.32M  50.1MB/s    in 0.3s    \n",
      "\n",
      "2020-12-15 01:52:42 (50.1 MB/s) - ‘iowa_data/Smart Meter Data.xlsx.3’ saved [16069018/16069018]\n",
      "\n",
      "--2020-12-15 01:52:42--  https://raw.githubusercontent.com/caltech-netlab/acnportal-experiments/add_open_dss_experiment/examples/3-Grid-Impacts/3.2-Iowa-Feeder-with-EV-and-Solar-OpenDSS/iowa_data/Update%20History.txt\n",
      "Resolving raw.githubusercontent.com (raw.githubusercontent.com)... 151.101.0.133, 151.101.64.133, 151.101.128.133, ...\n",
      "Connecting to raw.githubusercontent.com (raw.githubusercontent.com)|151.101.0.133|:443... connected.\n",
      "HTTP request sent, awaiting response... 200 OK\n",
      "Length: 80 [text/plain]\n",
      "Saving to: ‘iowa_data/Update History.txt.3’\n",
      "\n",
      "Update History.txt. 100%[===================>]      80  --.-KB/s    in 0s      \n",
      "\n",
      "2020-12-15 01:52:42 (4.72 MB/s) - ‘iowa_data/Update History.txt.3’ saved [80/80]\n",
      "\n",
      "--2020-12-15 01:52:42--  https://raw.githubusercontent.com/caltech-netlab/acnportal-experiments/add_open_dss_experiment/examples/3-Grid-Impacts/3.2-Iowa-Feeder-with-EV-and-Solar-OpenDSS/iowa_data/iowa_nodal_P.csv\n",
      "Resolving raw.githubusercontent.com (raw.githubusercontent.com)... 151.101.0.133, 151.101.64.133, 151.101.128.133, ...\n",
      "Connecting to raw.githubusercontent.com (raw.githubusercontent.com)|151.101.0.133|:443... connected.\n",
      "HTTP request sent, awaiting response... 200 OK\n",
      "Length: 11756677 (11M) [text/plain]\n",
      "Saving to: ‘iowa_data/iowa_nodal_P.csv.3’\n",
      "\n",
      "iowa_nodal_P.csv.3  100%[===================>]  11.21M  35.8MB/s    in 0.3s    \n",
      "\n",
      "2020-12-15 01:52:43 (35.8 MB/s) - ‘iowa_data/iowa_nodal_P.csv.3’ saved [11756677/11756677]\n",
      "\n",
      "--2020-12-15 01:52:43--  https://raw.githubusercontent.com/caltech-netlab/acnportal-experiments/add_open_dss_experiment/examples/3-Grid-Impacts/3.2-Iowa-Feeder-with-EV-and-Solar-OpenDSS/iowa_data/iowa_nodal_Q.csv\n",
      "Resolving raw.githubusercontent.com (raw.githubusercontent.com)... 151.101.0.133, 151.101.64.133, 151.101.128.133, ...\n",
      "Connecting to raw.githubusercontent.com (raw.githubusercontent.com)|151.101.0.133|:443... connected.\n",
      "HTTP request sent, awaiting response... 200 OK\n",
      "Length: 29624815 (28M) [text/plain]\n",
      "Saving to: ‘iowa_data/iowa_nodal_Q.csv.3’\n",
      "\n",
      "iowa_nodal_Q.csv.3  100%[===================>]  28.25M  55.6MB/s    in 0.5s    \n",
      "\n",
      "2020-12-15 01:52:43 (55.6 MB/s) - ‘iowa_data/iowa_nodal_Q.csv.3’ saved [29624815/29624815]\n",
      "\n",
      "--2020-12-15 01:52:43--  https://raw.githubusercontent.com/caltech-netlab/acnportal-experiments/add_open_dss_experiment/examples/3-Grid-Impacts/3.2-Iowa-Feeder-with-EV-and-Solar-OpenDSS/iowa_data/mid_america_gdt_aug_7_2014.json\n",
      "Resolving raw.githubusercontent.com (raw.githubusercontent.com)... 151.101.0.133, 151.101.64.133, 151.101.128.133, ...\n",
      "Connecting to raw.githubusercontent.com (raw.githubusercontent.com)|151.101.0.133|:443... connected.\n",
      "HTTP request sent, awaiting response... 200 OK\n",
      "Length: 1290 (1.3K) [text/plain]\n",
      "Saving to: ‘iowa_data/mid_america_gdt_aug_7_2014.json.3’\n",
      "\n",
      "mid_america_gdt_aug 100%[===================>]   1.26K  --.-KB/s    in 0s      \n",
      "\n",
      "2020-12-15 01:52:44 (48.4 MB/s) - ‘iowa_data/mid_america_gdt_aug_7_2014.json.3’ saved [1290/1290]\n",
      "\n",
      "--2020-12-15 01:52:44--  https://raw.githubusercontent.com/caltech-netlab/acnportal-experiments/add_open_dss_experiment/examples/3-Grid-Impacts/3.2-Iowa-Feeder-with-EV-and-Solar-OpenDSS/iowa_data/mid_america_get_aug_7_2014.json\n",
      "Resolving raw.githubusercontent.com (raw.githubusercontent.com)... 151.101.0.133, 151.101.64.133, 151.101.128.133, ...\n",
      "Connecting to raw.githubusercontent.com (raw.githubusercontent.com)|151.101.0.133|:443... connected.\n",
      "HTTP request sent, awaiting response... 200 OK\n",
      "Length: 1278 (1.2K) [text/plain]\n",
      "Saving to: ‘iowa_data/mid_america_get_aug_7_2014.json.3’\n",
      "\n",
      "mid_america_get_aug 100%[===================>]   1.25K  --.-KB/s    in 0s      \n",
      "\n",
      "2020-12-15 01:52:44 (40.5 MB/s) - ‘iowa_data/mid_america_get_aug_7_2014.json.3’ saved [1278/1278]\n",
      "\n",
      "mkdir: cannot create directory ‘iowa_dist_feeder/’: File exists\n",
      "--2020-12-15 01:52:44--  https://raw.githubusercontent.com/caltech-netlab/acnportal-experiments/add_open_dss_experiment/examples/3-Grid-Impacts/3.2-Iowa-Feeder-with-EV-and-Solar-OpenDSS/iowa_dist_feeder/Buscoords.dss\n",
      "Resolving raw.githubusercontent.com (raw.githubusercontent.com)... 151.101.0.133, 151.101.64.133, 151.101.128.133, ...\n",
      "Connecting to raw.githubusercontent.com (raw.githubusercontent.com)|151.101.0.133|:443... connected.\n",
      "HTTP request sent, awaiting response... 200 OK\n",
      "Length: 5021 (4.9K) [text/plain]\n",
      "Saving to: ‘iowa_dist_feeder/Buscoords.dss.3’\n",
      "\n",
      "Buscoords.dss.3     100%[===================>]   4.90K  --.-KB/s    in 0s      \n",
      "\n",
      "2020-12-15 01:52:44 (68.3 MB/s) - ‘iowa_dist_feeder/Buscoords.dss.3’ saved [5021/5021]\n",
      "\n",
      "--2020-12-15 01:52:44--  https://raw.githubusercontent.com/caltech-netlab/acnportal-experiments/add_open_dss_experiment/examples/3-Grid-Impacts/3.2-Iowa-Feeder-with-EV-and-Solar-OpenDSS/iowa_dist_feeder/Capacitor.dss\n",
      "Resolving raw.githubusercontent.com (raw.githubusercontent.com)... 151.101.0.133, 151.101.64.133, 151.101.128.133, ...\n",
      "Connecting to raw.githubusercontent.com (raw.githubusercontent.com)|151.101.0.133|:443... connected.\n",
      "HTTP request sent, awaiting response... 200 OK\n",
      "Length: 345 [text/plain]\n",
      "Saving to: ‘iowa_dist_feeder/Capacitor.dss.3’\n",
      "\n",
      "Capacitor.dss.3     100%[===================>]     345  --.-KB/s    in 0s      \n",
      "\n",
      "2020-12-15 01:52:44 (11.8 MB/s) - ‘iowa_dist_feeder/Capacitor.dss.3’ saved [345/345]\n",
      "\n",
      "--2020-12-15 01:52:44--  https://raw.githubusercontent.com/caltech-netlab/acnportal-experiments/add_open_dss_experiment/examples/3-Grid-Impacts/3.2-Iowa-Feeder-with-EV-and-Solar-OpenDSS/iowa_dist_feeder/CircuitBreaker.dss\n",
      "Resolving raw.githubusercontent.com (raw.githubusercontent.com)... 151.101.0.133, 151.101.64.133, 151.101.128.133, ...\n",
      "Connecting to raw.githubusercontent.com (raw.githubusercontent.com)|151.101.0.133|:443... connected.\n",
      "HTTP request sent, awaiting response... 200 OK\n",
      "Length: 2172 (2.1K) [text/plain]\n",
      "Saving to: ‘iowa_dist_feeder/CircuitBreaker.dss.3’\n",
      "\n",
      "CircuitBreaker.dss. 100%[===================>]   2.12K  --.-KB/s    in 0s      \n",
      "\n",
      "2020-12-15 01:52:44 (36.2 MB/s) - ‘iowa_dist_feeder/CircuitBreaker.dss.3’ saved [2172/2172]\n",
      "\n",
      "--2020-12-15 01:52:44--  https://raw.githubusercontent.com/caltech-netlab/acnportal-experiments/add_open_dss_experiment/examples/3-Grid-Impacts/3.2-Iowa-Feeder-with-EV-and-Solar-OpenDSS/iowa_dist_feeder/DistriTransformer.dss\n",
      "Resolving raw.githubusercontent.com (raw.githubusercontent.com)... 151.101.0.133, 151.101.64.133, 151.101.128.133, ...\n",
      "Connecting to raw.githubusercontent.com (raw.githubusercontent.com)|151.101.0.133|:443... connected.\n",
      "HTTP request sent, awaiting response... 200 OK\n",
      "Length: 84238 (82K) [text/plain]\n",
      "Saving to: ‘iowa_dist_feeder/DistriTransformer.dss.3’\n",
      "\n",
      "DistriTransformer.d 100%[===================>]  82.26K  --.-KB/s    in 0.01s   \n",
      "\n",
      "2020-12-15 01:52:44 (6.40 MB/s) - ‘iowa_dist_feeder/DistriTransformer.dss.3’ saved [84238/84238]\n",
      "\n",
      "--2020-12-15 01:52:44--  https://raw.githubusercontent.com/caltech-netlab/acnportal-experiments/add_open_dss_experiment/examples/3-Grid-Impacts/3.2-Iowa-Feeder-with-EV-and-Solar-OpenDSS/iowa_dist_feeder/Line.dss\n",
      "Resolving raw.githubusercontent.com (raw.githubusercontent.com)... 151.101.0.133, 151.101.64.133, 151.101.128.133, ...\n",
      "Connecting to raw.githubusercontent.com (raw.githubusercontent.com)|151.101.0.133|:443... connected.\n",
      "HTTP request sent, awaiting response... 200 OK\n",
      "Length: 42182 (41K) [text/plain]\n",
      "Saving to: ‘iowa_dist_feeder/Line.dss.3’\n",
      "\n",
      "Line.dss.3          100%[===================>]  41.19K  --.-KB/s    in 0.01s   \n",
      "\n",
      "2020-12-15 01:52:44 (3.84 MB/s) - ‘iowa_dist_feeder/Line.dss.3’ saved [42182/42182]\n",
      "\n",
      "--2020-12-15 01:52:44--  https://raw.githubusercontent.com/caltech-netlab/acnportal-experiments/add_open_dss_experiment/examples/3-Grid-Impacts/3.2-Iowa-Feeder-with-EV-and-Solar-OpenDSS/iowa_dist_feeder/Linecode.dss\n",
      "Resolving raw.githubusercontent.com (raw.githubusercontent.com)... 151.101.0.133, 151.101.64.133, 151.101.128.133, ...\n",
      "Connecting to raw.githubusercontent.com (raw.githubusercontent.com)|151.101.0.133|:443... connected.\n",
      "HTTP request sent, awaiting response... 200 OK\n",
      "Length: 3928 (3.8K) [text/plain]\n",
      "Saving to: ‘iowa_dist_feeder/Linecode.dss.3’\n",
      "\n",
      "Linecode.dss.3      100%[===================>]   3.84K  --.-KB/s    in 0s      \n",
      "\n",
      "2020-12-15 01:52:44 (32.5 MB/s) - ‘iowa_dist_feeder/Linecode.dss.3’ saved [3928/3928]\n",
      "\n",
      "--2020-12-15 01:52:45--  https://raw.githubusercontent.com/caltech-netlab/acnportal-experiments/add_open_dss_experiment/examples/3-Grid-Impacts/3.2-Iowa-Feeder-with-EV-and-Solar-OpenDSS/iowa_dist_feeder/Load.dss\n",
      "Resolving raw.githubusercontent.com (raw.githubusercontent.com)... 151.101.0.133, 151.101.64.133, 151.101.128.133, ...\n",
      "Connecting to raw.githubusercontent.com (raw.githubusercontent.com)|151.101.0.133|:443... connected.\n",
      "HTTP request sent, awaiting response... 200 OK\n",
      "Length: 44058 (43K) [text/plain]\n",
      "Saving to: ‘iowa_dist_feeder/Load.dss.3’\n",
      "\n",
      "Load.dss.3          100%[===================>]  43.03K  --.-KB/s    in 0.01s   \n",
      "\n",
      "2020-12-15 01:52:45 (3.79 MB/s) - ‘iowa_dist_feeder/Load.dss.3’ saved [44058/44058]\n",
      "\n",
      "--2020-12-15 01:52:45--  https://raw.githubusercontent.com/caltech-netlab/acnportal-experiments/add_open_dss_experiment/examples/3-Grid-Impacts/3.2-Iowa-Feeder-with-EV-and-Solar-OpenDSS/iowa_dist_feeder/Master.dss\n",
      "Resolving raw.githubusercontent.com (raw.githubusercontent.com)... 151.101.0.133, 151.101.64.133, 151.101.128.133, ...\n",
      "Connecting to raw.githubusercontent.com (raw.githubusercontent.com)|151.101.0.133|:443... connected.\n",
      "HTTP request sent, awaiting response... 200 OK\n",
      "Length: 1831 (1.8K) [text/plain]\n",
      "Saving to: ‘iowa_dist_feeder/Master.dss.3’\n",
      "\n",
      "Master.dss.3        100%[===================>]   1.79K  --.-KB/s    in 0s      \n",
      "\n",
      "2020-12-15 01:52:45 (34.0 MB/s) - ‘iowa_dist_feeder/Master.dss.3’ saved [1831/1831]\n",
      "\n",
      "--2020-12-15 01:52:45--  https://raw.githubusercontent.com/caltech-netlab/acnportal-experiments/add_open_dss_experiment/examples/3-Grid-Impacts/3.2-Iowa-Feeder-with-EV-and-Solar-OpenDSS/iowa_dist_feeder/RegControl.dss\n",
      "Resolving raw.githubusercontent.com (raw.githubusercontent.com)... 151.101.0.133, 151.101.64.133, 151.101.128.133, ...\n",
      "Connecting to raw.githubusercontent.com (raw.githubusercontent.com)|151.101.0.133|:443... connected.\n",
      "HTTP request sent, awaiting response... 200 OK\n",
      "Length: 813 [text/plain]\n",
      "Saving to: ‘iowa_dist_feeder/RegControl.dss.3’\n",
      "\n",
      "RegControl.dss.3    100%[===================>]     813  --.-KB/s    in 0s      \n",
      "\n",
      "2020-12-15 01:52:45 (39.5 MB/s) - ‘iowa_dist_feeder/RegControl.dss.3’ saved [813/813]\n",
      "\n",
      "--2020-12-15 01:52:45--  https://raw.githubusercontent.com/caltech-netlab/acnportal-experiments/add_open_dss_experiment/examples/3-Grid-Impacts/3.2-Iowa-Feeder-with-EV-and-Solar-OpenDSS/iowa_dist_feeder/SubTransformer.dss\n",
      "Resolving raw.githubusercontent.com (raw.githubusercontent.com)... 151.101.0.133, 151.101.64.133, 151.101.128.133, ...\n",
      "Connecting to raw.githubusercontent.com (raw.githubusercontent.com)|151.101.0.133|:443... connected.\n",
      "HTTP request sent, awaiting response... 200 OK\n",
      "Length: 1663 (1.6K) [text/plain]\n",
      "Saving to: ‘iowa_dist_feeder/SubTransformer.dss.3’\n",
      "\n",
      "SubTransformer.dss. 100%[===================>]   1.62K  --.-KB/s    in 0s      \n",
      "\n",
      "2020-12-15 01:52:45 (18.6 MB/s) - ‘iowa_dist_feeder/SubTransformer.dss.3’ saved [1663/1663]\n",
      "\n",
      "--2020-12-15 01:52:45--  https://raw.githubusercontent.com/caltech-netlab/acnportal-experiments/add_open_dss_experiment/examples/3-Grid-Impacts/3.2-Iowa-Feeder-with-EV-and-Solar-OpenDSS/iowa_dist_feeder/UnbalancedLoad.dss\n",
      "Resolving raw.githubusercontent.com (raw.githubusercontent.com)... 151.101.0.133, 151.101.64.133, 151.101.128.133, ...\n",
      "Connecting to raw.githubusercontent.com (raw.githubusercontent.com)|151.101.0.133|:443... connected.\n",
      "HTTP request sent, awaiting response... 200 OK\n",
      "Length: 42768 (42K) [text/plain]\n",
      "Saving to: ‘iowa_dist_feeder/UnbalancedLoad.dss.3’\n",
      "\n",
      "UnbalancedLoad.dss. 100%[===================>]  41.77K  --.-KB/s    in 0.01s   \n",
      "\n",
      "2020-12-15 01:52:45 (3.93 MB/s) - ‘iowa_dist_feeder/UnbalancedLoad.dss.3’ saved [42768/42768]\n",
      "\n",
      "--2020-12-15 01:52:45--  https://raw.githubusercontent.com/caltech-netlab/acnportal-experiments/add_open_dss_experiment/examples/3-Grid-Impacts/3.2-Iowa-Feeder-with-EV-and-Solar-OpenDSS/iowa_dist_feeder/Update%20History.txt\n",
      "Resolving raw.githubusercontent.com (raw.githubusercontent.com)... 151.101.0.133, 151.101.64.133, 151.101.128.133, ...\n",
      "Connecting to raw.githubusercontent.com (raw.githubusercontent.com)|151.101.0.133|:443... connected.\n",
      "HTTP request sent, awaiting response... 200 OK\n",
      "Length: 336 [text/plain]\n",
      "Saving to: ‘iowa_dist_feeder/Update History.txt.3’\n",
      "\n",
      "Update History.txt. 100%[===================>]     336  --.-KB/s    in 0s      \n",
      "\n",
      "2020-12-15 01:52:45 (14.7 MB/s) - ‘iowa_dist_feeder/Update History.txt.3’ saved [336/336]\n",
      "\n",
      "--2020-12-15 01:52:45--  https://raw.githubusercontent.com/caltech-netlab/acnportal-experiments/add_open_dss_experiment/examples/3-Grid-Impacts/3.2-Iowa-Feeder-with-EV-and-Solar-OpenDSS/iowa_dist_feeder/Vsource.dss\n",
      "Resolving raw.githubusercontent.com (raw.githubusercontent.com)... 151.101.0.133, 151.101.64.133, 151.101.128.133, ...\n",
      "Connecting to raw.githubusercontent.com (raw.githubusercontent.com)|151.101.0.133|:443... connected.\n",
      "HTTP request sent, awaiting response... 200 OK\n",
      "Length: 457 [text/plain]\n",
      "Saving to: ‘iowa_dist_feeder/Vsource.dss.3’\n",
      "\n",
      "Vsource.dss.3       100%[===================>]     457  --.-KB/s    in 0s      \n",
      "\n",
      "2020-12-15 01:52:45 (26.4 MB/s) - ‘iowa_dist_feeder/Vsource.dss.3’ saved [457/457]\n",
      "\n"
     ]
    }
   ],
   "source": [
    "!mkdir src/\n",
    "!wget -P src/ https://raw.githubusercontent.com/caltech-netlab/acnportal-experiments/add_open_dss_experiment/examples/3-Grid-Impacts/3.2-Iowa-Feeder-with-EV-and-Solar-OpenDSS/src/__init__.py\n",
    "!wget -P src/ https://raw.githubusercontent.com/caltech-netlab/acnportal-experiments/add_open_dss_experiment/examples/3-Grid-Impacts/3.2-Iowa-Feeder-with-EV-and-Solar-OpenDSS/src/acn_experiment.py\n",
    "!wget -P src/ https://raw.githubusercontent.com/caltech-netlab/acnportal-experiments/add_open_dss_experiment/examples/3-Grid-Impacts/3.2-Iowa-Feeder-with-EV-and-Solar-OpenDSS/src/composite_experiment.py\n",
    "!wget -P src/ https://raw.githubusercontent.com/caltech-netlab/acnportal-experiments/add_open_dss_experiment/examples/3-Grid-Impacts/3.2-Iowa-Feeder-with-EV-and-Solar-OpenDSS/src/opendss_experiment.py\n",
    "\n",
    "!mkdir data/\n",
    "!wget -P data/ https://raw.githubusercontent.com/caltech-netlab/acnportal-experiments/add_open_dss_experiment/examples/3-Grid-Impacts/3.2-Iowa-Feeder-with-EV-and-Solar-OpenDSS/data/results_des_moines_autosized_270kWdc.csv\n",
    "\n",
    "!mkdir iowa_data/\n",
    "!wget -P iowa_data/ https://raw.githubusercontent.com/caltech-netlab/acnportal-experiments/add_open_dss_experiment/examples/3-Grid-Impacts/3.2-Iowa-Feeder-with-EV-and-Solar-OpenDSS/iowa_data/Calculated%20Nodal%20P&Q.xlsx\n",
    "!wget -P iowa_data/ https://raw.githubusercontent.com/caltech-netlab/acnportal-experiments/add_open_dss_experiment/examples/3-Grid-Impacts/3.2-Iowa-Feeder-with-EV-and-Solar-OpenDSS/iowa_data/Smart%20Meter%20Data.xlsx\n",
    "!wget -P iowa_data/ https://raw.githubusercontent.com/caltech-netlab/acnportal-experiments/add_open_dss_experiment/examples/3-Grid-Impacts/3.2-Iowa-Feeder-with-EV-and-Solar-OpenDSS/iowa_data/Update%20History.txt\n",
    "!wget -P iowa_data/ https://raw.githubusercontent.com/caltech-netlab/acnportal-experiments/add_open_dss_experiment/examples/3-Grid-Impacts/3.2-Iowa-Feeder-with-EV-and-Solar-OpenDSS/iowa_data/iowa_nodal_P.csv\n",
    "!wget -P iowa_data/ https://raw.githubusercontent.com/caltech-netlab/acnportal-experiments/add_open_dss_experiment/examples/3-Grid-Impacts/3.2-Iowa-Feeder-with-EV-and-Solar-OpenDSS/iowa_data/iowa_nodal_Q.csv\n",
    "!wget -P iowa_data/ https://raw.githubusercontent.com/caltech-netlab/acnportal-experiments/add_open_dss_experiment/examples/3-Grid-Impacts/3.2-Iowa-Feeder-with-EV-and-Solar-OpenDSS/iowa_data/mid_america_gdt_aug_7_2014.json\n",
    "!wget -P iowa_data/ https://raw.githubusercontent.com/caltech-netlab/acnportal-experiments/add_open_dss_experiment/examples/3-Grid-Impacts/3.2-Iowa-Feeder-with-EV-and-Solar-OpenDSS/iowa_data/mid_america_get_aug_7_2014.json\n",
    "\n",
    "!mkdir iowa_dist_feeder/\n",
    "!wget -P iowa_dist_feeder/ https://raw.githubusercontent.com/caltech-netlab/acnportal-experiments/add_open_dss_experiment/examples/3-Grid-Impacts/3.2-Iowa-Feeder-with-EV-and-Solar-OpenDSS/iowa_dist_feeder/Buscoords.dss\n",
    "!wget -P iowa_dist_feeder/ https://raw.githubusercontent.com/caltech-netlab/acnportal-experiments/add_open_dss_experiment/examples/3-Grid-Impacts/3.2-Iowa-Feeder-with-EV-and-Solar-OpenDSS/iowa_dist_feeder/Capacitor.dss\n",
    "!wget -P iowa_dist_feeder/ https://raw.githubusercontent.com/caltech-netlab/acnportal-experiments/add_open_dss_experiment/examples/3-Grid-Impacts/3.2-Iowa-Feeder-with-EV-and-Solar-OpenDSS/iowa_dist_feeder/CircuitBreaker.dss\n",
    "!wget -P iowa_dist_feeder/ https://raw.githubusercontent.com/caltech-netlab/acnportal-experiments/add_open_dss_experiment/examples/3-Grid-Impacts/3.2-Iowa-Feeder-with-EV-and-Solar-OpenDSS/iowa_dist_feeder/DistriTransformer.dss\n",
    "!wget -P iowa_dist_feeder/ https://raw.githubusercontent.com/caltech-netlab/acnportal-experiments/add_open_dss_experiment/examples/3-Grid-Impacts/3.2-Iowa-Feeder-with-EV-and-Solar-OpenDSS/iowa_dist_feeder/Line.dss\n",
    "!wget -P iowa_dist_feeder/ https://raw.githubusercontent.com/caltech-netlab/acnportal-experiments/add_open_dss_experiment/examples/3-Grid-Impacts/3.2-Iowa-Feeder-with-EV-and-Solar-OpenDSS/iowa_dist_feeder/Linecode.dss\n",
    "!wget -P iowa_dist_feeder/ https://raw.githubusercontent.com/caltech-netlab/acnportal-experiments/add_open_dss_experiment/examples/3-Grid-Impacts/3.2-Iowa-Feeder-with-EV-and-Solar-OpenDSS/iowa_dist_feeder/Load.dss\n",
    "!wget -P iowa_dist_feeder/ https://raw.githubusercontent.com/caltech-netlab/acnportal-experiments/add_open_dss_experiment/examples/3-Grid-Impacts/3.2-Iowa-Feeder-with-EV-and-Solar-OpenDSS/iowa_dist_feeder/Master.dss\n",
    "!wget -P iowa_dist_feeder/ https://raw.githubusercontent.com/caltech-netlab/acnportal-experiments/add_open_dss_experiment/examples/3-Grid-Impacts/3.2-Iowa-Feeder-with-EV-and-Solar-OpenDSS/iowa_dist_feeder/RegControl.dss\n",
    "!wget -P iowa_dist_feeder/ https://raw.githubusercontent.com/caltech-netlab/acnportal-experiments/add_open_dss_experiment/examples/3-Grid-Impacts/3.2-Iowa-Feeder-with-EV-and-Solar-OpenDSS/iowa_dist_feeder/SubTransformer.dss\n",
    "!wget -P iowa_dist_feeder/ https://raw.githubusercontent.com/caltech-netlab/acnportal-experiments/add_open_dss_experiment/examples/3-Grid-Impacts/3.2-Iowa-Feeder-with-EV-and-Solar-OpenDSS/iowa_dist_feeder/UnbalancedLoad.dss\n",
    "!wget -P iowa_dist_feeder/ https://raw.githubusercontent.com/caltech-netlab/acnportal-experiments/add_open_dss_experiment/examples/3-Grid-Impacts/3.2-Iowa-Feeder-with-EV-and-Solar-OpenDSS/iowa_dist_feeder/Update%20History.txt\n",
    "!wget -P iowa_dist_feeder/ https://raw.githubusercontent.com/caltech-netlab/acnportal-experiments/add_open_dss_experiment/examples/3-Grid-Impacts/3.2-Iowa-Feeder-with-EV-and-Solar-OpenDSS/iowa_dist_feeder/Vsource.dss"
   ]
  },
  {
   "cell_type": "code",
   "execution_count": 27,
   "metadata": {
    "id": "mm8nEjJtTUeq"
   },
   "outputs": [],
   "source": [
    "import numpy as np\n",
    "import pandas as pd\n",
    "import matplotlib.pyplot as plt\n",
    "import matplotlib.dates as mdates\n",
    "import pytz\n",
    "from datetime import datetime, date, timedelta\n",
    "from datetime import timedelta\n",
    "from copy import deepcopy\n",
    "from tqdm import tqdm\n",
    "\n",
    "import opendssdirect as dss\n",
    "\n",
    "from acnportal import acnsim\n",
    "from acnportal import algorithms\n",
    "\n",
    "# from adacharge import *\n",
    "\n",
    "import sys\n",
    "sys.path.append(\"src/\")\n",
    "from importlib import reload\n",
    "# noinspection PyUnresolvedReferences\n",
    "import composite_experiment\n",
    "reload(composite_experiment)\n",
    "# noinspection PyUnresolvedReferences\n",
    "from composite_experiment import ACNOpenDSSCompositeExperiment\n"
   ]
  },
  {
   "cell_type": "markdown",
   "metadata": {
    "id": "IwZIcauTTUeq"
   },
   "source": [
    "First, we look at the maximum and minimum voltages in the Iowa Test Feeder\n",
    "without any added ACNs or solar. We'll try two configurations; one with\n",
    "transformer voltage regulation and one without. We run each scenario for 24\n",
    "hours, starting on September 5, 2017. As data from all years is not available,\n",
    "the JPL ACN usage profile is from the same date in 2019, and the solar usage\n",
    "profile is from said date in 2014. September 5th was a weekday in both 2019 and\n",
    "2017.\n",
    "\n",
    "In the following code, we use an ACNOpenDSSCompositeExperiment class that wraps\n",
    "an OpenDSS experiment with optional additional ACN loads or solar generation\n",
    "added to the feeder. You can view the documentation for this class in the src\n",
    "directory."
   ]
  },
  {
   "cell_type": "code",
   "execution_count": 28,
   "metadata": {
    "id": "i8eEDqVrTUeq"
   },
   "outputs": [],
   "source": [
    "# Set default OpenDSS experiment configs.\n",
    "open_dss_experiment_config = {\n",
    "    \"start\": datetime(2017, 9, 5),\n",
    "    \"horizon\": 24 * 60,\n",
    "    \"period\": 5,\n",
    "    \"reg_control\": True,\n",
    "}\n",
    "\n",
    "open_dss_experiment_config_without_reg = {\n",
    "    \"start\": datetime(2017, 9, 5),\n",
    "    \"horizon\": 24 * 60,\n",
    "    \"period\": 5,\n",
    "    \"reg_control\": False,\n",
    "}"
   ]
  },
  {
   "cell_type": "code",
   "execution_count": 29,
   "metadata": {
    "colab": {
     "base_uri": "https://localhost:8080/"
    },
    "id": "gNwlXecvTUeq",
    "outputId": "c2f07728-b92a-4844-a725-221fb615c1f4"
   },
   "outputs": [
    {
     "name": "stderr",
     "output_type": "stream",
     "text": [
      "100%|██████████| 288/288 [00:24<00:00, 11.82it/s]\n"
     ]
    }
   ],
   "source": [
    "baseline_model = ACNOpenDSSCompositeExperiment(open_dss_experiment_config)\n",
    "baseline_model.run_dss()"
   ]
  },
  {
   "cell_type": "code",
   "execution_count": 30,
   "metadata": {
    "colab": {
     "base_uri": "https://localhost:8080/"
    },
    "id": "5Y-5__VpTUes",
    "outputId": "a01994d6-fcbc-4b65-9f46-a5725814ec98"
   },
   "outputs": [
    {
     "name": "stderr",
     "output_type": "stream",
     "text": [
      "100%|██████████| 288/288 [00:21<00:00, 13.42it/s]\n"
     ]
    }
   ],
   "source": [
    "baseline_model_no_reg = ACNOpenDSSCompositeExperiment(open_dss_experiment_config_without_reg)\n",
    "baseline_model_no_reg.run_dss()"
   ]
  },
  {
   "cell_type": "markdown",
   "metadata": {
    "id": "GEZ_u56LTUes"
   },
   "source": [
    "Now that we've run the experiments, let's plot the minimum and maximum voltages\n",
    "at baseline for each case, with and without regulation. The 1.05 and 0.95 p.u.\n",
    "voltage deviation limits are also shown on the plot."
   ]
  },
  {
   "cell_type": "code",
   "execution_count": 31,
   "metadata": {
    "colab": {
     "base_uri": "https://localhost:8080/",
     "height": 483
    },
    "id": "h9Nzkeo4TUes",
    "outputId": "182ec051-28bc-4724-bf83-432c2d772831"
   },
   "outputs": [
    {
     "data": {
      "image/png": "[encoded data removed]",
      "text/plain": [
       "<Figure size 1152x576 with 2 Axes>"
      ]
     },
     "metadata": {
      "needs_background": "light"
     },
     "output_type": "display_data"
    }
   ],
   "source": [
    "fig, ax = plt.subplots(1, 2, figsize=(16, 8), sharex=True)\n",
    "baseline_model.plot_dss_voltages(ax=ax[0], legend=True, title=\"With regulation\")\n",
    "baseline_model_no_reg.plot_dss_voltages(ax=ax[1], title=\"Without regulation\")\n",
    "fig.suptitle(\"Baseline min/max voltages\");"
   ]
  },
  {
   "cell_type": "markdown",
   "metadata": {
    "id": "dIdU9afqTUet"
   },
   "source": [
    "Without voltage regulation this feeder experiences significant under-voltage issues. Because of this, we will constrain the rest of the experiments to the case with voltage regulation, as this is more realistic."
   ]
  },
  {
   "cell_type": "markdown",
   "metadata": {
    "id": "7okNoObgTUet"
   },
   "source": [
    "## Adding an adaptive charging network (ACN)\n",
    "\n",
    "### Uncontrolled charging\n",
    "Now, let's add one JPL ACN, with usage according to September 5, 2019 to node 2053 of the Iowa Feeder. This node's transformer has capacity 225 kVa, so large-scale EV charging may conceivably be added to this site, especially if scheduled charging is used to avoid overloading the transformer. However, let's first run a simple uncontrolled charging scenario, in which each EV is allowed to charge at its maximum rate. The configuration for such an experiment is below. We first specify ACN configurations that are unchanged throughout our experiments, and then set an algorithm for each experiment."
   ]
  },
  {
   "cell_type": "code",
   "execution_count": 32,
   "metadata": {
    "id": "hzzozM1HTUet"
   },
   "outputs": [],
   "source": [
    "acn_base_experiment_configs = {\"2053\": {\n",
    "    \"site\": \"jpl\",\n",
    "    \"start\": datetime(2019, 9, 5),\n",
    "    \"end\": datetime(2019, 9, 6),\n",
    "    \"alg_name\": None,\n",
    "    \"tariff_name\": \"sce_tou_ev_4_march_2019\",\n",
    "    \"external_load\": baseline_model.open_dss_experiment.P[\"load_2053\"].to_numpy(),\n",
    "    \"external_load_name\": \"load_2053_20170905\",\n",
    "    \"bus_transformer_cap\": 225,\n",
    "}}"
   ]
  },
  {
   "cell_type": "code",
   "execution_count": 38,
   "metadata": {
    "id": "P686SXpzTUet"
   },
   "outputs": [],
   "source": [
    "# Set ACN-Sim Experiment Algorithm.\n",
    "acn_unctrl_configs = deepcopy(acn_base_experiment_configs)\n",
    "for config in acn_unctrl_configs.values():\n",
    "    config[\"alg_name\"] = \"unctrl\"\n",
    "\n",
    "# Build composite experiment.\n",
    "unctrl_2053 = ACNOpenDSSCompositeExperiment(\n",
    "    open_dss_experiment_config, \n",
    "    acn_unctrl_configs,\n",
    ")"
   ]
  },
  {
   "cell_type": "code",
   "execution_count": 39,
   "metadata": {
    "collapsed": true,
    "id": "Tz7CtZPsTUet",
    "jupyter": {
     "outputs_hidden": true
    }
   },
   "outputs": [
    {
     "name": "stdout",
     "output_type": "stream",
     "text": [
      "Plugin Event...\n",
      "Plugin Event...\n",
      "Plugin Event...\n",
      "Plugin Event...\n",
      "Plugin Event...\n",
      "Plugin Event...\n",
      "Plugin Event...\n",
      "Plugin Event...\n",
      "Plugin Event...\n",
      "Plugin Event...\n",
      "Plugin Event...\n",
      "Plugin Event...\n",
      "Plugin Event...\n",
      "Plugin Event...\n",
      "Plugin Event...\n",
      "Plugin Event...\n",
      "Plugin Event...\n",
      "Plugin Event...\n",
      "Plugin Event...\n",
      "Plugin Event...\n",
      "Plugin Event...\n",
      "Plugin Event...\n",
      "Plugin Event...\n",
      "Plugin Event...\n",
      "Plugin Event...\n",
      "Plugin Event...\n",
      "Plugin Event...\n",
      "Plugin Event...\n",
      "Plugin Event...\n",
      "Plugin Event...\n",
      "Plugin Event...\n",
      "Plugin Event...\n",
      "Plugin Event...\n",
      "Plugin Event...\n",
      "Plugin Event...\n",
      "Plugin Event...\n",
      "Plugin Event...\n",
      "Plugin Event...\n",
      "Plugin Event...\n",
      "Plugin Event...\n",
      "Plugin Event...\n",
      "Plugin Event...\n",
      "Plugin Event...\n",
      "Plugin Event...\n",
      "Plugin Event...\n",
      "Plugin Event...\n",
      "Plugin Event...\n",
      "Plugin Event...\n",
      "Plugin Event...\n",
      "Plugin Event...\n",
      "Plugin Event...\n",
      "Unplug Event...\n",
      "Unplug Event...\n",
      "Unplug Event...\n",
      "Plugin Event...\n",
      "Plugin Event...\n",
      "Plugin Event...\n",
      "Unplug Event...\n",
      "Plugin Event...\n",
      "Unplug Event...\n",
      "Plugin Event...\n",
      "Unplug Event...\n",
      "Unplug Event...\n",
      "Plugin Event...\n",
      "Unplug Event...\n",
      "Plugin Event...\n",
      "Unplug Event...\n",
      "Plugin Event...\n",
      "Unplug Event...\n",
      "Plugin Event...\n",
      "Plugin Event...\n",
      "Unplug Event...\n",
      "Unplug Event...\n",
      "Plugin Event...\n",
      "Plugin Event...\n",
      "Unplug Event...\n",
      "Plugin Event...\n",
      "Unplug Event...\n",
      "Unplug Event...\n",
      "Unplug Event...\n",
      "Plugin Event...\n",
      "Unplug Event...\n",
      "Unplug Event...\n",
      "Plugin Event..."
     ]
    },
    {
     "name": "stderr",
     "output_type": "stream",
     "text": [
      "/Users/sunash/opt/anaconda3/envs/acnportal-experiments-3.8/lib/python3.8/site-packages/acnportal/acnsim/simulator.py:281: UserWarning: Invalid schedule provided at iteration 108. Max violation is 14.484756193301564 A on First Floor Transformer Secondary B at time index 0.\n",
      "  warnings.warn(\n",
      "/Users/sunash/opt/anaconda3/envs/acnportal-experiments-3.8/lib/python3.8/site-packages/acnportal/acnsim/simulator.py:281: UserWarning: Invalid schedule provided at iteration 111. Max violation is 41.27686752661222 A on First Floor Transformer Secondary C at time index 0.\n",
      "  warnings.warn(\n",
      "/Users/sunash/opt/anaconda3/envs/acnportal-experiments-3.8/lib/python3.8/site-packages/acnportal/acnsim/simulator.py:281: UserWarning: Invalid schedule provided at iteration 112. Max violation is 69.64839096954304 A on First Floor Transformer Secondary A at time index 0.\n",
      "  warnings.warn(\n",
      "/Users/sunash/opt/anaconda3/envs/acnportal-experiments-3.8/lib/python3.8/site-packages/acnportal/acnsim/simulator.py:281: UserWarning: Invalid schedule provided at iteration 113. Max violation is 96.7024933688163 A on First Floor Transformer Secondary A at time index 0.\n",
      "  warnings.warn(\n",
      "/Users/sunash/opt/anaconda3/envs/acnportal-experiments-3.8/lib/python3.8/site-packages/acnportal/acnsim/simulator.py:281: UserWarning: Invalid schedule provided at iteration 114. Max violation is 96.7024933688163 A on First Floor Transformer Secondary A at time index 0.\n",
      "  warnings.warn(\n",
      "/Users/sunash/opt/anaconda3/envs/acnportal-experiments-3.8/lib/python3.8/site-packages/acnportal/acnsim/simulator.py:281: UserWarning: Invalid schedule provided at iteration 115. Max violation is 96.7024933688163 A on First Floor Transformer Secondary A at time index 0.\n",
      "  warnings.warn(\n",
      "/Users/sunash/opt/anaconda3/envs/acnportal-experiments-3.8/lib/python3.8/site-packages/acnportal/acnsim/simulator.py:281: UserWarning: Invalid schedule provided at iteration 116. Max violation is 124.92797962901292 A on First Floor Transformer Secondary A at time index 0.\n",
      "  warnings.warn(\n",
      "/Users/sunash/opt/anaconda3/envs/acnportal-experiments-3.8/lib/python3.8/site-packages/acnportal/acnsim/simulator.py:281: UserWarning: Invalid schedule provided at iteration 117. Max violation is 124.92797962901292 A on First Floor Transformer Secondary A at time index 0.\n",
      "  warnings.warn(\n",
      "/Users/sunash/opt/anaconda3/envs/acnportal-experiments-3.8/lib/python3.8/site-packages/acnportal/acnsim/simulator.py:281: UserWarning: Invalid schedule provided at iteration 118. Max violation is 124.92797962901292 A on First Floor Transformer Secondary A at time index 0.\n",
      "  warnings.warn(\n",
      "/Users/sunash/opt/anaconda3/envs/acnportal-experiments-3.8/lib/python3.8/site-packages/acnportal/acnsim/simulator.py:281: UserWarning: Invalid schedule provided at iteration 119. Max violation is 98.99999000000003 A on First Floor Transformer Secondary A at time index 0.\n",
      "  warnings.warn(\n",
      "/Users/sunash/opt/anaconda3/envs/acnportal-experiments-3.8/lib/python3.8/site-packages/acnportal/acnsim/simulator.py:281: UserWarning: Invalid schedule provided at iteration 120. Max violation is 98.99999000000003 A on First Floor Transformer Secondary A at time index 0.\n",
      "  warnings.warn(\n",
      "/Users/sunash/opt/anaconda3/envs/acnportal-experiments-3.8/lib/python3.8/site-packages/acnportal/acnsim/simulator.py:281: UserWarning: Invalid schedule provided at iteration 121. Max violation is 98.99999000000003 A on First Floor Transformer Secondary A at time index 0.\n",
      "  warnings.warn(\n",
      "/Users/sunash/opt/anaconda3/envs/acnportal-experiments-3.8/lib/python3.8/site-packages/acnportal/acnsim/simulator.py:281: UserWarning: Invalid schedule provided at iteration 122. Max violation is 98.99999000000003 A on First Floor Transformer Secondary A at time index 0.\n",
      "  warnings.warn(\n",
      "/Users/sunash/opt/anaconda3/envs/acnportal-experiments-3.8/lib/python3.8/site-packages/acnportal/acnsim/simulator.py:281: UserWarning: Invalid schedule provided at iteration 123. Max violation is 69.64839096954304 A on First Floor Transformer Secondary A at time index 0.\n",
      "  warnings.warn(\n",
      "/Users/sunash/opt/anaconda3/envs/acnportal-experiments-3.8/lib/python3.8/site-packages/acnportal/acnsim/simulator.py:281: UserWarning: Invalid schedule provided at iteration 124. Max violation is 69.64839096954304 A on First Floor Transformer Secondary A at time index 0.\n",
      "  warnings.warn(\n",
      "/Users/sunash/opt/anaconda3/envs/acnportal-experiments-3.8/lib/python3.8/site-packages/acnportal/acnsim/simulator.py:281: UserWarning: Invalid schedule provided at iteration 125. Max violation is 137.589581755374 A on Third/Fourth Floor Transformer Secondary A at time index 0.\n",
      "  warnings.warn(\n",
      "/Users/sunash/opt/anaconda3/envs/acnportal-experiments-3.8/lib/python3.8/site-packages/acnportal/acnsim/simulator.py:281: UserWarning: Invalid schedule provided at iteration 126. Max violation is 193.01520759757813 A on Third/Fourth Floor Transformer Secondary A at time index 0.\n",
      "  warnings.warn(\n",
      "/Users/sunash/opt/anaconda3/envs/acnportal-experiments-3.8/lib/python3.8/site-packages/acnportal/acnsim/simulator.py:281: UserWarning: Invalid schedule provided at iteration 127. Max violation is 220.92880637881404 A on Third/Fourth Floor Transformer Secondary A at time index 0.\n",
      "  warnings.warn(\n",
      "/Users/sunash/opt/anaconda3/envs/acnportal-experiments-3.8/lib/python3.8/site-packages/acnportal/acnsim/simulator.py:281: UserWarning: Invalid schedule provided at iteration 128. Max violation is 220.92880637881404 A on Third/Fourth Floor Transformer Secondary A at time index 0.\n",
      "  warnings.warn(\n",
      "/Users/sunash/opt/anaconda3/envs/acnportal-experiments-3.8/lib/python3.8/site-packages/acnportal/acnsim/simulator.py:281: UserWarning: Invalid schedule provided at iteration 129. Max violation is 165.52229609046145 A on Third/Fourth Floor Transformer Secondary A at time index 0.\n",
      "  warnings.warn(\n",
      "/Users/sunash/opt/anaconda3/envs/acnportal-experiments-3.8/lib/python3.8/site-packages/acnportal/acnsim/simulator.py:281: UserWarning: Invalid schedule provided at iteration 130. Max violation is 165.52229609046145 A on Third/Fourth Floor Transformer Secondary A at time index 0.\n",
      "  warnings.warn(\n",
      "/Users/sunash/opt/anaconda3/envs/acnportal-experiments-3.8/lib/python3.8/site-packages/acnportal/acnsim/simulator.py:281: UserWarning: Invalid schedule provided at iteration 131. Max violation is 165.52229609046145 A on Third/Fourth Floor Transformer Secondary A at time index 0.\n",
      "  warnings.warn(\n",
      "/Users/sunash/opt/anaconda3/envs/acnportal-experiments-3.8/lib/python3.8/site-packages/acnportal/acnsim/simulator.py:281: UserWarning: Invalid schedule provided at iteration 132. Max violation is 165.52229609046145 A on Third/Fourth Floor Transformer Secondary A at time index 0.\n",
      "  warnings.warn(\n",
      "/Users/sunash/opt/anaconda3/envs/acnportal-experiments-3.8/lib/python3.8/site-packages/acnportal/acnsim/simulator.py:281: UserWarning: Invalid schedule provided at iteration 133. Max violation is 138.51257366605245 A on Third/Fourth Floor Transformer Secondary A at time index 0.\n",
      "  warnings.warn(\n",
      "/Users/sunash/opt/anaconda3/envs/acnportal-experiments-3.8/lib/python3.8/site-packages/acnportal/acnsim/simulator.py:281: UserWarning: Invalid schedule provided at iteration 134. Max violation is 138.51257366605245 A on Third/Fourth Floor Transformer Secondary A at time index 0.\n",
      "  warnings.warn(\n",
      "/Users/sunash/opt/anaconda3/envs/acnportal-experiments-3.8/lib/python3.8/site-packages/acnportal/acnsim/simulator.py:281: UserWarning: Invalid schedule provided at iteration 135. Max violation is 138.51257366605245 A on Third/Fourth Floor Transformer Secondary A at time index 0.\n",
      "  warnings.warn(\n",
      "/Users/sunash/opt/anaconda3/envs/acnportal-experiments-3.8/lib/python3.8/site-packages/acnportal/acnsim/simulator.py:281: UserWarning: Invalid schedule provided at iteration 136. Max violation is 138.51257366605245 A on Third/Fourth Floor Transformer Secondary A at time index 0.\n",
      "  warnings.warn(\n",
      "/Users/sunash/opt/anaconda3/envs/acnportal-experiments-3.8/lib/python3.8/site-packages/acnportal/acnsim/simulator.py:281: UserWarning: Invalid schedule provided at iteration 137. Max violation is 82.16395591316996 A on Third/Fourth Floor Transformer Secondary A at time index 0.\n",
      "  warnings.warn(\n",
      "/Users/sunash/opt/anaconda3/envs/acnportal-experiments-3.8/lib/python3.8/site-packages/acnportal/acnsim/simulator.py:281: UserWarning: Invalid schedule provided at iteration 138. Max violation is 82.16395591316996 A on Third/Fourth Floor Transformer Secondary A at time index 0.\n",
      "  warnings.warn(\n",
      "/Users/sunash/opt/anaconda3/envs/acnportal-experiments-3.8/lib/python3.8/site-packages/acnportal/acnsim/simulator.py:281: UserWarning: Invalid schedule provided at iteration 139. Max violation is 82.16395591316996 A on Third/Fourth Floor Transformer Secondary A at time index 0.\n",
      "  warnings.warn(\n",
      "/Users/sunash/opt/anaconda3/envs/acnportal-experiments-3.8/lib/python3.8/site-packages/acnportal/acnsim/simulator.py:281: UserWarning: Invalid schedule provided at iteration 140. Max violation is 54.72275893833279 A on Third/Fourth Floor Transformer Secondary A at time index 0.\n",
      "  warnings.warn(\n",
      "/Users/sunash/opt/anaconda3/envs/acnportal-experiments-3.8/lib/python3.8/site-packages/acnportal/acnsim/simulator.py:281: UserWarning: Invalid schedule provided at iteration 141. Max violation is 54.72275893833279 A on Third/Fourth Floor Transformer Secondary A at time index 0.\n",
      "  warnings.warn(\n",
      "/Users/sunash/opt/anaconda3/envs/acnportal-experiments-3.8/lib/python3.8/site-packages/acnportal/acnsim/simulator.py:281: UserWarning: Invalid schedule provided at iteration 142. Max violation is 26.7383300709659 A on Third/Fourth Floor Transformer Secondary A at time index 0.\n",
      "  warnings.warn(\n"
     ]
    },
    {
     "name": "stdout",
     "output_type": "stream",
     "text": [
      "\n",
      "Plugin Event...\n",
      "Plugin Event...\n",
      "Unplug Event...\n",
      "Unplug Event...\n",
      "Unplug Event...\n",
      "Unplug Event...\n",
      "Unplug Event...\n",
      "Unplug Event...\n",
      "Unplug Event...\n",
      "Unplug Event...\n",
      "Unplug Event...\n",
      "Plugin Event...\n",
      "Unplug Event...\n",
      "Unplug Event...\n",
      "Plugin Event...\n",
      "Unplug Event...\n",
      "Unplug Event...\n",
      "Unplug Event...\n",
      "Unplug Event...\n",
      "Plugin Event...\n",
      "Plugin Event...\n",
      "Unplug Event...\n",
      "Plugin Event...\n",
      "Unplug Event...\n",
      "Unplug Event...\n",
      "Unplug Event...\n",
      "Unplug Event...\n",
      "Unplug Event...\n",
      "Unplug Event...\n",
      "Unplug Event...\n",
      "Unplug Event...\n",
      "Plugin Event...\n",
      "Unplug Event...\n",
      "Unplug Event...\n",
      "Plugin Event...\n",
      "Unplug Event...\n",
      "Unplug Event...\n",
      "Unplug Event...\n",
      "Unplug Event...\n",
      "Unplug Event...\n",
      "Unplug Event...\n",
      "Unplug Event...\n",
      "Unplug Event...\n",
      "Unplug Event...\n",
      "Unplug Event...\n",
      "Unplug Event...\n",
      "Unplug Event...\n",
      "Unplug Event...\n",
      "Unplug Event...\n",
      "Unplug Event...\n",
      "Unplug Event...\n",
      "Unplug Event...\n",
      "Unplug Event...\n",
      "Unplug Event...\n",
      "Unplug Event...\n",
      "Unplug Event...\n",
      "Unplug Event...\n",
      "Unplug Event...\n",
      "Unplug Event...\n",
      "Unplug Event...\n",
      "Unplug Event...\n",
      "Unplug Event...\n",
      "Unplug Event...\n",
      "Unplug Event...\n",
      "Unplug Event...\n",
      "Plugin Event...\n",
      "Unplug Event...\n",
      "Unplug Event...\n"
     ]
    },
    {
     "name": "stderr",
     "output_type": "stream",
     "text": [
      "/Users/sunash/opt/anaconda3/envs/acnportal-experiments-3.8/lib/python3.8/site-packages/acnportal/acnsim/simulator.py:391: UserWarning: Not serializing signals as value typesare not natively JSON serializable.\n",
      "  warnings.warn(\n"
     ]
    }
   ],
   "source": [
    "# Run ACN-Sim Experiment\n",
    "unctrl_2053.run_acn()\n",
    "\n",
    "# Add EV load to the OpenDSS Experiment \n",
    "unctrl_2053.add_acn_loads()"
   ]
  },
  {
   "cell_type": "code",
   "execution_count": 40,
   "metadata": {
    "colab": {
     "base_uri": "https://localhost:8080/"
    },
    "id": "u2dKLnXzTUeu",
    "outputId": "c6c6f036-4924-43ce-86d1-c4d423c52551"
   },
   "outputs": [
    {
     "name": "stderr",
     "output_type": "stream",
     "text": [
      "100%|██████████| 288/288 [00:21<00:00, 13.63it/s]\n"
     ]
    }
   ],
   "source": [
    "# Run OpenDSS Experiment\n",
    "unctrl_2053.run_dss(detailed_metrics=True)"
   ]
  },
  {
   "cell_type": "markdown",
   "metadata": {
    "id": "91NJIBz-TUeu"
   },
   "source": [
    "Let's see the effects of adding an uncontrolled ACN to the grid on the voltage\n",
    "bounds."
   ]
  },
  {
   "cell_type": "code",
   "execution_count": 53,
   "metadata": {},
   "outputs": [
    {
     "data": {
      "text/plain": [
       "[<matplotlib.lines.Line2D at 0x7ff7e74bf9d0>]"
      ]
     },
     "execution_count": 53,
     "metadata": {},
     "output_type": "execute_result"
    },
    {
     "data": {
      "image/png": "[encoded data removed]",
      "text/plain": [
       "<Figure size 432x288 with 1 Axes>"
      ]
     },
     "metadata": {
      "needs_background": "light"
     },
     "output_type": "display_data"
    }
   ],
   "source": [
    "plt.plot(acnsim.aggregate_current(unctrl_2053.acn_experiments['2053'].sim))"
   ]
  },
  {
   "cell_type": "code",
   "execution_count": 41,
   "metadata": {
    "colab": {
     "base_uri": "https://localhost:8080/",
     "height": 524
    },
    "id": "NfnhiqwdTUeu",
    "outputId": "47b4576f-f02f-49c1-f3c3-ab9333ac2a66"
   },
   "outputs": [
    {
     "data": {
      "image/png": "[encoded data removed]",
      "text/plain": [
       "<Figure size 576x576 with 1 Axes>"
      ]
     },
     "metadata": {
      "needs_background": "light"
     },
     "output_type": "display_data"
    }
   ],
   "source": [
    "fig, ax = plt.subplots(figsize=(8, 8), sharex=True)\n",
    "unctrl_2053.plot_dss_voltages(ax, legend=True, title=\"Uncontrolled with Regulation\")"
   ]
  },
  {
   "cell_type": "code",
   "execution_count": 11,
   "metadata": {
    "colab": {
     "base_uri": "https://localhost:8080/",
     "height": 111
    },
    "id": "xBgh4INGTUeu",
    "outputId": "b8da0919-73ba-4006-e313-5df6d6a9718c"
   },
   "outputs": [
    {
     "data": {
      "text/html": [
       "<div>\n",
       "<style scoped>\n",
       "    .dataframe tbody tr th:only-of-type {\n",
       "        vertical-align: middle;\n",
       "    }\n",
       "\n",
       "    .dataframe tbody tr th {\n",
       "        vertical-align: top;\n",
       "    }\n",
       "\n",
       "    .dataframe thead th {\n",
       "        text-align: right;\n",
       "    }\n",
       "</style>\n",
       "<table border=\"1\" class=\"dataframe\">\n",
       "  <thead>\n",
       "    <tr style=\"text-align: right;\">\n",
       "      <th></th>\n",
       "      <th>count</th>\n",
       "      <th>mean</th>\n",
       "      <th>std</th>\n",
       "      <th>min</th>\n",
       "      <th>25%</th>\n",
       "      <th>50%</th>\n",
       "      <th>75%</th>\n",
       "      <th>max</th>\n",
       "    </tr>\n",
       "    <tr>\n",
       "      <th>Element</th>\n",
       "      <th></th>\n",
       "      <th></th>\n",
       "      <th></th>\n",
       "      <th></th>\n",
       "      <th></th>\n",
       "      <th></th>\n",
       "      <th></th>\n",
       "      <th></th>\n",
       "    </tr>\n",
       "  </thead>\n",
       "  <tbody>\n",
       "    <tr>\n",
       "      <th>Transformer.T_2053</th>\n",
       "      <td>37.0</td>\n",
       "      <td>130.610811</td>\n",
       "      <td>22.043754</td>\n",
       "      <td>104.9</td>\n",
       "      <td>109.5</td>\n",
       "      <td>124.8</td>\n",
       "      <td>151.2</td>\n",
       "      <td>178.4</td>\n",
       "    </tr>\n",
       "  </tbody>\n",
       "</table>\n",
       "</div>"
      ],
      "text/plain": [
       "                      count        mean        std    min    25%    50%  \\\n",
       "Element                                                                   \n",
       "Transformer.T_2053     37.0  130.610811  22.043754  104.9  109.5  124.8   \n",
       "\n",
       "                        75%    max  \n",
       "Element                             \n",
       "Transformer.T_2053    151.2  178.4  "
      ]
     },
     "execution_count": 11,
     "metadata": {},
     "output_type": "execute_result"
    }
   ],
   "source": [
    "pd.concat(pd.DataFrame(val) for val in unctrl_2053.open_dss_experiment._overload_dict.values())[\" %Normal\"].groupby(\"Element\").describe()"
   ]
  },
  {
   "cell_type": "markdown",
   "metadata": {
    "id": "RJxtQSWTTUev"
   },
   "source": [
    "Adding an uncontrolled JPL ACN to node 2053 of the feeder causes large under-\n",
    "voltage issues and transformer overlaod (up to 245% overuse).\n",
    "Clearly, if we wish to add such an ACN without installing\n",
    "new electrical infrastructure, we must schedule charging in some way\n",
    "that is reactive to the already-existing demands of the system.\n",
    "\n",
    "### Load flattening\n",
    "\n",
    "One way to respond to the demand of the loads already at node 2053 is to\n",
    "schedule EV charging such that the total load at the node is flattened. We use\n",
    "a model predictive control algorithm with a primary objective of charging all\n",
    "EVs and a secondary objective of flattening the total load on the node. For\n",
    "example, this algorithm will avoid charging EVs when external load at 2053 is\n",
    "high, and will charge EVs more when external load is low, such that the total\n",
    "load is pushed towards 0. Additionally, the MPC framework allows for the sum of\n",
    "external load and EV load to be limited by the transformer capacity of 225,\n",
    "which we enforce to ensure the control parameters are reasonable.\n",
    "Let's see if scheduling charging in this manner\n",
    "decreases the undervoltage issue we observed for uncontrolled charging.\n",
    "\n",
    "For this experiment, we will need more than 288 periods of baseline load\n",
    "data, as the ACN experiment runs for longer. So, we first run the baseline \n",
    "scenario over a longer horizon."
   ]
  },
  {
   "cell_type": "code",
   "execution_count": 12,
   "metadata": {
    "colab": {
     "base_uri": "https://localhost:8080/"
    },
    "id": "FyYzp2ayTUev",
    "outputId": "0dabfc03-9e9f-4aa3-a358-96f8ca1b7fbf"
   },
   "outputs": [
    {
     "name": "stderr",
     "output_type": "stream",
     "text": [
      "100%|██████████| 576/576 [00:43<00:00, 13.27it/s]\n"
     ]
    }
   ],
   "source": [
    "longer_open_dss_experiment_config = deepcopy(open_dss_experiment_config)\n",
    "longer_open_dss_experiment_config[\"horizon\"] *= 2\n",
    "longer_baseline = ACNOpenDSSCompositeExperiment(\n",
    "    longer_open_dss_experiment_config\n",
    ")\n",
    "longer_baseline.run_dss()"
   ]
  },
  {
   "cell_type": "code",
   "execution_count": 13,
   "metadata": {
    "id": "LP3FUQqvTUew"
   },
   "outputs": [],
   "source": [
    "# Set ACN-Sim Experiment Algorithm.\n",
    "acn_load_flattening_configs = deepcopy(acn_base_experiment_configs)\n",
    "for config in acn_load_flattening_configs.values():\n",
    "    config[\"alg_name\"] = \"load_flattening\"\n",
    "    config[\"external_load\"] = longer_baseline.open_dss_experiment.P[\"load_2053\"].to_numpy()\n",
    "\n",
    "# Build composite experiment.\n",
    "load_flattening_2053 = ACNOpenDSSCompositeExperiment(\n",
    "    open_dss_experiment_config, \n",
    "    acn_load_flattening_configs\n",
    ")"
   ]
  },
  {
   "cell_type": "code",
   "execution_count": 14,
   "metadata": {
    "colab": {
     "base_uri": "https://localhost:8080/"
    },
    "id": "qUM7FUj0TUew",
    "outputId": "a9509999-67b2-4a48-80b5-c6e28a23a0b6"
   },
   "outputs": [
    {
     "name": "stderr",
     "output_type": "stream",
     "text": [
      "/Users/sunash/opt/anaconda3/envs/acnportal-experiments-3.8/lib/python3.8/site-packages/acnportal/acnsim/simulator.py:473: UserWarning: Scheduler adacharge.adacharge.AdaptiveSchedulingAlgorithm requires constructor inputs. Setting scheduler to BaseAlgorithm instead.\n",
      "  warnings.warn(\n"
     ]
    }
   ],
   "source": [
    "# Run ACN-Sim Experiment\n",
    "load_flattening_2053.run_acn()\n",
    "\n",
    "# Add EV load to the OpenDSS Experiment \n",
    "load_flattening_2053.add_acn_loads()"
   ]
  },
  {
   "cell_type": "code",
   "execution_count": 15,
   "metadata": {
    "colab": {
     "base_uri": "https://localhost:8080/"
    },
    "id": "FMP0gyQhTUew",
    "outputId": "252ba53f-0c16-42e2-bba3-bb4deeae1dad"
   },
   "outputs": [
    {
     "name": "stderr",
     "output_type": "stream",
     "text": [
      "100%|██████████| 288/288 [00:20<00:00, 13.88it/s]\n"
     ]
    }
   ],
   "source": [
    "# Run OpenDSS Experiment\n",
    "load_flattening_2053.run_dss(detailed_metrics=True)"
   ]
  },
  {
   "cell_type": "code",
   "execution_count": 16,
   "metadata": {
    "colab": {
     "base_uri": "https://localhost:8080/",
     "height": 524
    },
    "id": "Xov_UjDITUex",
    "outputId": "f1236d3f-7256-4dbb-9a54-3a4e577c5cee"
   },
   "outputs": [
    {
     "data": {
      "image/png": "[encoded data removed]",
      "text/plain": [
       "<Figure size 576x576 with 1 Axes>"
      ]
     },
     "metadata": {
      "needs_background": "light"
     },
     "output_type": "display_data"
    }
   ],
   "source": [
    "fig, ax = plt.subplots(figsize=(8, 8), sharex=True)\n",
    "load_flattening_2053.plot_dss_voltages(ax, legend=True, title=\"Load Flattening with Regulation\")"
   ]
  },
  {
   "cell_type": "code",
   "execution_count": 17,
   "metadata": {
    "colab": {
     "base_uri": "https://localhost:8080/"
    },
    "id": "9fVfg6j8TUex",
    "outputId": "7d127b09-779c-4028-86fd-1e81a8669df1"
   },
   "outputs": [
    {
     "data": {
      "text/plain": [
       "Series([], Name:  %Normal, dtype: object)"
      ]
     },
     "execution_count": 17,
     "metadata": {},
     "output_type": "execute_result"
    }
   ],
   "source": [
    "pd.concat(pd.DataFrame(val) for val in load_flattening_2053.open_dss_experiment._overload_dict.values())[\" %Normal\"]"
   ]
  },
  {
   "cell_type": "code",
   "execution_count": 47,
   "metadata": {},
   "outputs": [],
   "source": [
    "event_queue = acnsim.EventQueue.from_json(\"colab_data.json\")\n",
    "event_queue_new = unctrl_2053.acn_experiments[\"2053\"].get_events()"
   ]
  },
  {
   "cell_type": "code",
   "execution_count": 54,
   "metadata": {},
   "outputs": [
    {
     "name": "stdout",
     "output_type": "stream",
     "text": [
      "Key session_id for old event: 1_1_178_823_2019-09-05 03:19:03.949056 for new event: 1_1_178_828_2019-09-05 12:06:01.188971\n",
      "Key arrival for old event: 39 for new event: 97\n",
      "Key session_id for old event: 1_1_178_828_2019-09-05 12:06:01.188971 for new event: 1_1_179_799_2019-09-05 12:38:45.064371\n",
      "Key arrival for old event: 145 for new event: 103\n",
      "Key session_id for old event: 1_1_179_799_2019-09-05 12:38:45.064371 for new event: 1_1_178_823_2019-09-05 12:43:54.023353\n",
      "Key arrival for old event: 151 for new event: 104\n",
      "Key session_id for old event: 1_1_178_823_2019-09-05 12:43:54.023353 for new event: 1_1_193_819_2019-09-05 12:50:06.029538\n",
      "Key arrival for old event: 152 for new event: 106\n",
      "Key session_id for old event: 1_1_193_819_2019-09-05 12:50:06.029538 for new event: 1_1_193_825_2019-09-05 12:59:08.308350\n",
      "Key arrival for old event: 154 for new event: 107\n",
      "Key session_id for old event: 1_1_193_825_2019-09-05 12:59:08.308350 for new event: 1_1_193_820_2019-09-05 13:02:32.604829\n",
      "Key arrival for old event: 155 for new event: 108\n",
      "Key session_id for old event: 1_1_193_820_2019-09-05 13:02:32.604829 for new event: 1_1_178_817_2019-09-05 13:02:52.037376\n",
      "Key arrival for old event: 156 for new event: 108\n",
      "Key session_id for old event: 1_1_178_817_2019-09-05 13:02:52.037376 for new event: 1_1_193_829_2019-09-05 13:04:54.765042\n",
      "Key arrival for old event: 156 for new event: 108\n",
      "Key session_id for old event: 1_1_193_829_2019-09-05 13:04:54.765042 for new event: 1_1_194_821_2019-09-05 13:13:27.334776\n",
      "Key arrival for old event: 156 for new event: 110\n",
      "Key session_id for old event: 1_1_194_821_2019-09-05 13:13:27.334776 for new event: 1_1_193_816_2019-09-05 13:15:27.560589\n",
      "Key arrival for old event: 158 for new event: 111\n",
      "Key session_id for old event: 1_1_193_816_2019-09-05 13:15:27.560589 for new event: 1_1_179_797_2019-09-05 13:18:19.175399\n",
      "Key arrival for old event: 159 for new event: 111\n",
      "Key session_id for old event: 1_1_179_797_2019-09-05 13:18:19.175399 for new event: 1_1_178_824_2019-09-05 13:19:40.041165\n",
      "Key arrival for old event: 159 for new event: 111\n",
      "Key session_id for old event: 1_1_178_824_2019-09-05 13:19:40.041165 for new event: 1_1_194_822_2019-09-05 13:23:42.175929\n",
      "Key arrival for old event: 159 for new event: 112\n",
      "Key session_id for old event: 1_1_194_822_2019-09-05 13:23:42.175929 for new event: 1_1_194_818_2019-09-05 13:23:53.416190\n",
      "Key arrival for old event: 160 for new event: 112\n",
      "Key session_id for old event: 1_1_194_818_2019-09-05 13:23:53.416190 for new event: 1_1_193_827_2019-09-05 13:29:19.906076\n",
      "Key arrival for old event: 160 for new event: 113\n",
      "Key session_id for old event: 1_1_193_827_2019-09-05 13:29:19.906076 for new event: 1_1_179_815_2019-09-05 13:33:45.721067\n",
      "Key arrival for old event: 161 for new event: 114\n",
      "Key session_id for old event: 1_1_179_815_2019-09-05 13:33:45.721067 for new event: 1_1_194_826_2019-09-05 13:43:24.138031\n",
      "Key arrival for old event: 162 for new event: 116\n",
      "Key session_id for old event: 1_1_194_826_2019-09-05 13:43:24.138031 for new event: 1_1_179_783_2019-09-05 13:44:13.655619\n",
      "Key arrival for old event: 164 for new event: 116\n",
      "Key session_id for old event: 1_1_179_783_2019-09-05 13:44:13.655619 for new event: 1_1_179_800_2019-09-05 13:44:49.187084\n",
      "Key arrival for old event: 164 for new event: 116\n",
      "Key session_id for old event: 1_1_179_800_2019-09-05 13:44:49.187084 for new event: 1_1_179_796_2019-09-05 13:45:57.928737\n",
      "Key arrival for old event: 164 for new event: 117\n",
      "Key session_id for old event: 1_1_179_796_2019-09-05 13:45:57.928737 for new event: 1_1_191_782_2019-09-05 13:46:31.506551\n",
      "Key arrival for old event: 165 for new event: 117\n",
      "Key session_id for old event: 1_1_191_782_2019-09-05 13:46:31.506551 for new event: 1_1_179_788_2019-09-05 13:48:05.944271\n",
      "Key arrival for old event: 165 for new event: 117\n",
      "Key session_id for old event: 1_1_179_788_2019-09-05 13:48:05.944271 for new event: 1_1_191_808_2019-09-05 13:48:44.221545\n",
      "Key arrival for old event: 165 for new event: 117\n",
      "Key session_id for old event: 1_1_191_808_2019-09-05 13:48:44.221545 for new event: 1_1_191_802_2019-09-05 13:52:03.726880\n",
      "Key arrival for old event: 165 for new event: 118\n",
      "Key session_id for old event: 1_1_191_802_2019-09-05 13:52:03.726880 for new event: 1_1_179_809_2019-09-05 13:52:39.291453\n",
      "Key arrival for old event: 166 for new event: 118\n",
      "Key session_id for old event: 1_1_179_809_2019-09-05 13:52:39.291453 for new event: 1_1_179_801_2019-09-05 13:53:00.129125\n",
      "Key arrival for old event: 166 for new event: 118\n",
      "Key session_id for old event: 1_1_179_801_2019-09-05 13:53:00.129125 for new event: 1_1_179_790_2019-09-05 13:53:40.002942\n",
      "Key arrival for old event: 166 for new event: 118\n",
      "Key session_id for old event: 1_1_179_790_2019-09-05 13:53:40.002942 for new event: 1_1_179_798_2019-09-05 13:54:35.626902\n",
      "Key arrival for old event: 166 for new event: 118\n",
      "Key session_id for old event: 1_1_179_798_2019-09-05 13:54:35.626902 for new event: 1_1_179_777_2019-09-05 13:55:25.009828\n",
      "Key arrival for old event: 166 for new event: 119\n",
      "Key session_id for old event: 1_1_179_777_2019-09-05 13:55:25.009828 for new event: 1_1_179_810_2019-09-05 13:57:14.679015\n",
      "Key arrival for old event: 167 for new event: 119\n",
      "Key session_id for old event: 1_1_179_810_2019-09-05 13:57:14.679015 for new event: 1_1_179_791_2019-09-05 14:07:50.011887\n",
      "Key arrival for old event: 167 for new event: 121\n",
      "Key session_id for old event: 1_1_179_791_2019-09-05 14:07:50.011887 for new event: 1_1_179_794_2019-09-05 14:10:45.726990\n",
      "Key arrival for old event: 169 for new event: 122\n",
      "Key session_id for old event: 1_1_179_794_2019-09-05 14:10:45.726990 for new event: 1_1_179_787_2019-09-05 14:14:10.208619\n",
      "Key arrival for old event: 170 for new event: 122\n",
      "Key session_id for old event: 1_1_179_787_2019-09-05 14:14:10.208619 for new event: 1_1_191_806_2019-09-05 14:14:18.298399\n",
      "Key arrival for old event: 170 for new event: 122\n",
      "Key session_id for old event: 1_1_191_806_2019-09-05 14:14:18.298399 for new event: 1_1_179_813_2019-09-05 14:15:18.956699\n",
      "Key arrival for old event: 170 for new event: 123\n",
      "Key session_id for old event: 1_1_179_813_2019-09-05 14:15:18.956699 for new event: 1_1_191_793_2019-09-05 14:15:33.527116\n",
      "Key arrival for old event: 171 for new event: 123\n",
      "Key session_id for old event: 1_1_191_793_2019-09-05 14:15:33.527116 for new event: 1_1_179_779_2019-09-05 14:15:58.556008\n",
      "Key arrival for old event: 171 for new event: 123\n",
      "Key session_id for old event: 1_1_179_779_2019-09-05 14:15:58.556008 for new event: 1_1_191_812_2019-09-05 14:19:31.762462\n",
      "Key arrival for old event: 171 for new event: 123\n",
      "Key session_id for old event: 1_1_191_812_2019-09-05 14:19:31.762462 for new event: 1_1_191_778_2019-09-05 14:20:53.975154\n",
      "Key arrival for old event: 171 for new event: 124\n",
      "Key session_id for old event: 1_1_191_778_2019-09-05 14:20:53.975154 for new event: 1_1_191_795_2019-09-05 14:22:20.837986\n",
      "Key arrival for old event: 172 for new event: 124\n",
      "Key session_id for old event: 1_1_191_795_2019-09-05 14:22:20.837986 for new event: 1_1_191_805_2019-09-05 14:24:01.191703\n",
      "Key arrival for old event: 172 for new event: 124\n",
      "Key session_id for old event: 1_1_191_805_2019-09-05 14:24:01.191703 for new event: 1_1_191_807_2019-09-05 14:25:26.406577\n",
      "Key arrival for old event: 172 for new event: 125\n",
      "Key session_id for old event: 1_1_191_807_2019-09-05 14:25:26.406577 for new event: 1_1_191_780_2019-09-05 14:26:10.572889\n",
      "Key arrival for old event: 173 for new event: 125\n",
      "Key session_id for old event: 1_1_191_780_2019-09-05 14:26:10.572889 for new event: 1_1_191_792_2019-09-05 14:27:07.788692\n",
      "Key arrival for old event: 173 for new event: 125\n",
      "Key session_id for old event: 1_1_191_792_2019-09-05 14:27:07.788692 for new event: 1_1_191_785_2019-09-05 14:28:54.539746\n",
      "Key arrival for old event: 173 for new event: 125\n",
      "Key session_id for old event: 1_1_191_785_2019-09-05 14:28:54.539746 for new event: 1_1_191_804_2019-09-05 14:30:04.127502\n",
      "Key arrival for old event: 173 for new event: 126\n",
      "Key session_id for old event: 1_1_191_804_2019-09-05 14:30:04.127502 for new event: 1_1_191_811_2019-09-05 14:30:46.588410\n",
      "Key arrival for old event: 174 for new event: 126\n",
      "Key session_id for old event: 1_1_191_811_2019-09-05 14:30:46.588410 for new event: 1_1_191_803_2019-09-05 14:33:56.554181\n",
      "Key arrival for old event: 174 for new event: 126\n",
      "Key session_id for old event: 1_1_191_803_2019-09-05 14:33:56.554181 for new event: 1_1_191_789_2019-09-05 14:35:46.400310\n",
      "Key arrival for old event: 174 for new event: 127\n",
      "Key session_id for old event: 1_1_191_789_2019-09-05 14:35:46.400310 for new event: 1_1_191_784_2019-09-05 14:36:32.885907\n",
      "Key arrival for old event: 175 for new event: 127\n",
      "Key session_id for old event: 1_1_191_784_2019-09-05 14:36:32.885907 for new event: 1_1_191_786_2019-09-05 14:36:49.468815\n",
      "Key arrival for old event: 175 for new event: 127\n",
      "Key session_id for old event: 1_1_191_786_2019-09-05 14:36:49.468815 for new event: 1_1_193_816_2019-09-05 18:15:07.138460\n",
      "Key arrival for old event: 175 for new event: 171\n",
      "Key session_id for old event: 1_1_193_816_2019-09-05 18:15:07.138460 for new event: 1_1_179_796_2019-09-05 18:16:29.739843\n",
      "Key arrival for old event: 219 for new event: 171\n",
      "Key session_id for old event: 1_1_179_796_2019-09-05 18:16:29.739843 for new event: 1_1_191_802_2019-09-05 18:18:52.958578\n",
      "Key arrival for old event: 219 for new event: 171\n",
      "Key session_id for old event: 1_1_191_802_2019-09-05 18:18:52.958578 for new event: 1_1_193_819_2019-09-05 18:44:30.318223\n",
      "Key arrival for old event: 219 for new event: 176\n",
      "Key session_id for old event: 1_1_193_819_2019-09-05 18:44:30.318223 for new event: 1_1_191_795_2019-09-05 18:56:45.085541\n",
      "Key arrival for old event: 224 for new event: 179\n",
      "Key session_id for old event: 1_1_191_795_2019-09-05 18:56:45.085541 for new event: 1_1_179_779_2019-09-05 19:16:58.990896\n",
      "Key arrival for old event: 227 for new event: 183\n",
      "Key session_id for old event: 1_1_179_779_2019-09-05 19:16:58.990896 for new event: 1_1_179_813_2019-09-05 19:21:10.900032\n",
      "Key arrival for old event: 231 for new event: 184\n",
      "Key session_id for old event: 1_1_179_813_2019-09-05 19:21:10.900032 for new event: 1_1_179_794_2019-09-05 19:42:46.059262\n",
      "Key arrival for old event: 232 for new event: 188\n",
      "Key session_id for old event: 1_1_179_794_2019-09-05 19:42:46.059262 for new event: 1_1_178_824_2019-09-05 19:54:43.311277\n",
      "Key arrival for old event: 236 for new event: 190\n",
      "Key session_id for old event: 1_1_178_824_2019-09-05 19:54:43.311277 for new event: 1_1_194_826_2019-09-05 19:55:51.883103\n",
      "Key arrival for old event: 238 for new event: 191\n",
      "Key session_id for old event: 1_1_194_826_2019-09-05 19:55:51.883103 for new event: 1_1_178_824_2019-09-05 21:03:13.289242\n",
      "Key arrival for old event: 239 for new event: 204\n",
      "Key session_id for old event: 1_1_178_824_2019-09-05 21:03:13.289242 for new event: 1_1_179_799_2019-09-05 21:09:01.705558\n",
      "Key arrival for old event: 252 for new event: 205\n",
      "Key session_id for old event: 1_1_179_799_2019-09-05 21:09:01.705558 for new event: 1_1_191_789_2019-09-05 21:27:11.428495\n",
      "Key arrival for old event: 253 for new event: 209\n",
      "Key session_id for old event: 1_1_191_789_2019-09-05 21:27:11.428495 for new event: 1_1_191_804_2019-09-05 21:49:35.665826\n",
      "Key arrival for old event: 257 for new event: 213\n",
      "Key session_id for old event: 1_1_191_804_2019-09-05 21:49:35.665826 for new event: 1_1_179_791_2019-09-05 22:08:13.546835\n",
      "Key arrival for old event: 261 for new event: 217\n",
      "Key session_id for old event: 1_1_179_791_2019-09-05 22:08:13.546835 for new event: 1_1_193_829_2019-09-05 22:09:11.324199\n",
      "Key arrival for old event: 265 for new event: 217\n",
      "Key session_id for old event: 1_1_193_829_2019-09-05 22:09:11.324199 for new event: 1_1_191_789_2019-09-05 22:09:56.796507\n",
      "Key arrival for old event: 265 for new event: 217\n",
      "Key session_id for old event: 1_1_191_789_2019-09-05 22:09:56.796507 for new event: 1_1_191_803_2019-09-05 22:59:16.346712\n",
      "Key arrival for old event: 265 for new event: 227\n",
      "Key session_id for old event: 1_1_191_803_2019-09-05 22:59:16.346712 for new event: 1_1_193_827_2019-09-05 23:07:57.486873\n",
      "Key arrival for old event: 275 for new event: 229\n",
      "Key session_id for old event: 1_1_193_827_2019-09-05 23:07:57.486873 for new event: 1_1_178_823_2019-09-05 23:27:05.236697\n",
      "Key arrival for old event: 277 for new event: 233\n",
      "Key session_id for old event: 1_1_178_823_2019-09-05 23:27:05.236697 for new event: 1_1_193_816_2019-09-05 23:30:46.257626\n",
      "Key arrival for old event: 281 for new event: 234\n",
      "Key session_id for old event: 1_1_193_816_2019-09-05 23:30:46.257626 for new event: 1_1_178_828_2019-09-05 23:35:15.085553\n",
      "Key arrival for old event: 282 for new event: 235\n",
      "Key session_id for old event: 1_1_178_828_2019-09-05 23:35:15.085553 for new event: 1_1_179_801_2019-09-05 23:49:34.590786\n",
      "Key arrival for old event: 283 for new event: 237\n",
      "Key session_id for old event: 1_1_179_801_2019-09-05 23:49:34.590786 for new event: 1_1_178_823_2019-09-05 23:58:52.570889\n",
      "Key arrival for old event: 285 for new event: 239\n",
      "Key session_id for old event: 1_1_178_823_2019-09-05 23:58:52.570889 for new event: 1_1_178_823_2019-09-06 03:15:52.254604\n",
      "Key arrival for old event: 287 for new event: 279\n"
     ]
    }
   ],
   "source": [
    "for event_old, event_new in zip(event_queue._queue, event_queue_new._queue):\n",
    "    for key in ['session_id', 'arrival']:\n",
    "        print(f\"Key {key} for old event: {getattr(event_old[1].ev, key)} for new event: {getattr(event_new[1].ev, key)}\")"
   ]
  },
  {
   "cell_type": "markdown",
   "metadata": {
    "id": "daYfQQ2tTUex"
   },
   "source": [
    "(The empty series means there were no transformer overloads)\n",
    "\n",
    "We see that the minimum voltage profile still contains a dip later in the day,\n",
    "which is due to the load flattening algorithm increasing the aggregate charging\n",
    "rate to meet the additional demand caused by EV arrivals later in the day. With\n",
    "this algorithm, we don't have the same under voltage issues we had with\n",
    "uncontrolled charging."
   ]
  },
  {
   "cell_type": "markdown",
   "metadata": {
    "id": "ZLVEdNUfTUex"
   },
   "source": [
    "## Solar Data\n",
    "\n",
    "We load solar data taken from NREL's System Advior Model (SAM) \n",
    "(https://sam.nrel.gov/). The data is for a 270 kW DC solar array on Sept 5,\n",
    "2014 in Iowa, using default SAM parameters. 270 kW DC was chosen because it\n",
    "corresponds to just below 225 kW AC at a 1.22 ratio, allowing for use with a\n",
    "225 kVA transformer on bus 2053 of the feeder."
   ]
  },
  {
   "cell_type": "code",
   "execution_count": 28,
   "metadata": {
    "id": "0aNDnO6bTUey"
   },
   "outputs": [],
   "source": [
    "pv_year = 2014\n",
    "pv_data = pd.read_csv(\"data/results_des_moines_autosized_270kWdc.csv\")\n",
    "pv_data[\"Time stamp\"] = [f\"{pv_year} {ts}\" for ts in pv_data[\"Time stamp\"]]\n",
    "pv_data[\"Time stamp\"] = pd.to_datetime(pv_data[\"Time stamp\"])\n",
    "pv_data = pv_data.set_index(\"Time stamp\")\n",
    "# Rescale PV generation to AC capacity, and follow consumer-perspective sign convention (negative for generation)\n",
    "pv_data[\"AC Power | (kW)\"] = -1 * pv_data[\"Array DC power | (kW)\"] / 1.22\n",
    "pv_data = pv_data.resample(\"5T\").ffill()\n",
    "trunc_gen = pv_data.loc[datetime(pv_year, 9, 5):][\"AC Power | (kW)\"].to_numpy()\n",
    "external_load_2053 = longer_baseline.open_dss_experiment.P[\"load_2053\"].to_numpy()\n",
    "external_load_and_gen_2053 = external_load_2053 + trunc_gen[:len(external_load_2053)]\n",
    "solar_gen = trunc_gen[:len(external_load_2053)]"
   ]
  },
  {
   "cell_type": "code",
   "execution_count": 29,
   "metadata": {
    "id": "q8bjuaiOTUey"
   },
   "outputs": [],
   "source": [
    "# Set default ACN-Sim experiment configs.\n",
    "acn_solar_experiment_configs = {\"2053\": {\n",
    "    \"site\": \"jpl\",\n",
    "    \"start\": datetime(2019, 9, 5),\n",
    "    \"end\": datetime(2019, 9, 6),\n",
    "    \"alg_name\": None,\n",
    "    \"tariff_name\": \"sce_tou_ev_4_march_2019\",\n",
    "    \"external_load\": external_load_and_gen_2053,\n",
    "    \"external_load_name\": \"load_gen_2053_20170905\",\n",
    "    \"bus_transformer_cap\": 225,\n",
    "}}"
   ]
  },
  {
   "cell_type": "code",
   "execution_count": 30,
   "metadata": {
    "id": "QxsZ285STUey"
   },
   "outputs": [],
   "source": [
    "# Set ACN-Sim Experiment Algorithm.\n",
    "acn_solar_load_flattening_configs = deepcopy(acn_solar_experiment_configs)\n",
    "for config in acn_solar_load_flattening_configs.values():\n",
    "    config[\"alg_name\"] = \"load_flattening\"\n",
    "\n",
    "# Build composite experiment.\n",
    "solar_load_flattening_2053 = ACNOpenDSSCompositeExperiment(\n",
    "    open_dss_experiment_config, \n",
    "    acn_solar_load_flattening_configs, \n",
    ")\n"
   ]
  },
  {
   "cell_type": "code",
   "execution_count": 31,
   "metadata": {
    "colab": {
     "base_uri": "https://localhost:8080/"
    },
    "collapsed": true,
    "id": "dTU5MGx5TUey",
    "jupyter": {
     "outputs_hidden": true
    },
    "outputId": "c7457af6-e820-431a-ce49-857dd8a6267d"
   },
   "outputs": [
    {
     "name": "stdout",
     "output_type": "stream",
     "text": [
      "ECOS\n",
      "Plugin Event...\n",
      "Unplug Event...\n",
      "Plugin Event...\n",
      "Plugin Event...\n",
      "Plugin Event...\n",
      "Plugin Event...\n",
      "Plugin Event...\n",
      "Plugin Event...\n",
      "Plugin Event...\n",
      "Plugin Event...\n",
      "Plugin Event...\n",
      "Plugin Event...\n",
      "Plugin Event...\n",
      "Plugin Event...\n",
      "Plugin Event...\n",
      "Plugin Event...\n",
      "Plugin Event...\n",
      "Plugin Event...\n",
      "Plugin Event...\n",
      "Plugin Event...\n",
      "Plugin Event...\n",
      "Plugin Event...\n",
      "Plugin Event...\n",
      "Plugin Event...\n",
      "Plugin Event...\n",
      "Plugin Event...\n",
      "Plugin Event...\n",
      "Plugin Event...\n",
      "Plugin Event...\n",
      "Plugin Event...\n",
      "Plugin Event...\n",
      "Plugin Event...\n",
      "Plugin Event...\n",
      "Plugin Event...\n",
      "Plugin Event...\n",
      "Plugin Event...\n",
      "Plugin Event...\n",
      "Plugin Event...\n",
      "Plugin Event...\n",
      "Plugin Event...\n",
      "Plugin Event...\n",
      "Plugin Event...\n",
      "Plugin Event...\n",
      "Plugin Event...\n",
      "Plugin Event...\n",
      "Plugin Event...\n",
      "Plugin Event...\n",
      "Plugin Event...\n",
      "Plugin Event...\n",
      "Plugin Event...\n",
      "Plugin Event...\n",
      "Plugin Event...\n",
      "Plugin Event...\n",
      "Unplug Event...\n",
      "Unplug Event...\n",
      "Unplug Event...\n",
      "Plugin Event...\n",
      "Plugin Event...\n",
      "Plugin Event...\n",
      "Unplug Event...\n",
      "Plugin Event...\n",
      "Unplug Event...\n",
      "Plugin Event...\n",
      "Unplug Event...\n",
      "Unplug Event...\n",
      "Plugin Event...\n",
      "Unplug Event...\n",
      "Plugin Event...\n",
      "Unplug Event...\n",
      "Plugin Event...\n",
      "Unplug Event...\n",
      "Plugin Event...\n",
      "Plugin Event...\n",
      "Unplug Event...\n",
      "Unplug Event...\n",
      "Plugin Event...\n",
      "Plugin Event...\n",
      "Unplug Event...\n",
      "Plugin Event...\n",
      "Unplug Event...\n",
      "Unplug Event...\n",
      "Unplug Event...\n",
      "Plugin Event...\n",
      "Unplug Event...\n",
      "Unplug Event...\n",
      "Plugin Event...\n",
      "Plugin Event...\n",
      "Plugin Event...\n",
      "Unplug Event...\n",
      "Unplug Event...\n",
      "Unplug Event...\n",
      "Unplug Event...\n",
      "Unplug Event...\n",
      "Unplug Event...\n",
      "Unplug Event...\n",
      "Unplug Event...\n",
      "Unplug Event...\n",
      "Plugin Event...\n",
      "Unplug Event...\n",
      "Unplug Event...\n",
      "Plugin Event...\n",
      "Unplug Event...\n",
      "Unplug Event...\n",
      "Unplug Event...\n",
      "Unplug Event...\n",
      "Plugin Event...\n",
      "Plugin Event...\n",
      "Unplug Event...\n",
      "Plugin Event...\n",
      "Unplug Event...\n",
      "Unplug Event...\n",
      "Unplug Event...\n",
      "Unplug Event...\n",
      "Unplug Event...\n",
      "Unplug Event...\n",
      "Unplug Event...\n",
      "Unplug Event...\n",
      "Plugin Event...\n",
      "Unplug Event...\n",
      "Unplug Event...\n",
      "Plugin Event...\n",
      "Unplug Event...\n",
      "Unplug Event...\n",
      "Unplug Event...\n",
      "Unplug Event...\n",
      "Unplug Event...\n",
      "Unplug Event...\n",
      "Unplug Event...\n",
      "Unplug Event...\n",
      "Unplug Event...\n",
      "Unplug Event...\n",
      "Unplug Event...\n",
      "Unplug Event...\n",
      "Unplug Event...\n",
      "Unplug Event...\n",
      "Unplug Event...\n",
      "Unplug Event...\n",
      "Unplug Event...\n",
      "Unplug Event...\n",
      "Unplug Event...\n",
      "Unplug Event...\n",
      "Unplug Event...\n",
      "Unplug Event...\n",
      "Unplug Event...\n",
      "Unplug Event...\n",
      "Unplug Event...\n",
      "Unplug Event...\n",
      "Unplug Event...\n",
      "Unplug Event...\n",
      "Unplug Event...\n",
      "Unplug Event...\n",
      "Unplug Event...\n"
     ]
    },
    {
     "name": "stderr",
     "output_type": "stream",
     "text": [
      "/usr/local/lib/python3.6/dist-packages/acnportal/acnsim/simulator.py:394: UserWarning: Not serializing signals as value typesare not natively JSON serializable.\n",
      "  UserWarning,\n"
     ]
    }
   ],
   "source": [
    "# Run ACN-Sim Experiment\n",
    "solar_load_flattening_2053.run_acn()\n",
    "\n",
    "# Add EV load to the OpenDSS Experiment \n",
    "solar_load_flattening_2053.add_acn_loads()\n",
    "\n",
    "# Add solar load to the OpenDSS Experiment\n",
    "solar_load_flattening_2053.add_general_loads(solar_gen)"
   ]
  },
  {
   "cell_type": "code",
   "execution_count": 32,
   "metadata": {
    "colab": {
     "base_uri": "https://localhost:8080/"
    },
    "id": "If1ILvcSTUez",
    "outputId": "0a825851-db18-44c4-9a01-7d99e51315c0"
   },
   "outputs": [
    {
     "name": "stderr",
     "output_type": "stream",
     "text": [
      "100%|██████████| 288/288 [00:31<00:00,  9.02it/s]\n"
     ]
    }
   ],
   "source": [
    "# Run OpenDSS Experiment\n",
    "solar_load_flattening_2053.run_dss(detailed_metrics=True)"
   ]
  },
  {
   "cell_type": "code",
   "execution_count": 33,
   "metadata": {
    "colab": {
     "base_uri": "https://localhost:8080/",
     "height": 524
    },
    "id": "a8oFhcdITUez",
    "outputId": "3d8227b1-3acc-4bd7-8477-22442705a51c"
   },
   "outputs": [
    {
     "data": {
      "image/png": "[encoded data removed]",
      "text/plain": [
       "<Figure size 576x576 with 1 Axes>"
      ]
     },
     "metadata": {
      "needs_background": "light",
      "tags": []
     },
     "output_type": "display_data"
    }
   ],
   "source": [
    "fig, ax = plt.subplots(figsize=(8, 8), sharex=True)\n",
    "solar_load_flattening_2053.plot_dss_voltages(ax, legend=True, title=\"Load Flattening+Solar with Regulation\")"
   ]
  },
  {
   "cell_type": "code",
   "execution_count": 34,
   "metadata": {
    "colab": {
     "base_uri": "https://localhost:8080/"
    },
    "id": "WCm1F2qpTUez",
    "outputId": "c083b1ff-7930-4861-fda5-da8ac8be715e"
   },
   "outputs": [
    {
     "data": {
      "text/plain": [
       "Series([], Name:  %Normal, dtype: object)"
      ]
     },
     "execution_count": 34,
     "metadata": {
      "tags": []
     },
     "output_type": "execute_result"
    }
   ],
   "source": [
    "pd.concat(pd.DataFrame(val) for val in solar_load_flattening_2053.open_dss_experiment._overload_dict.values())[\" %Normal\"]"
   ]
  },
  {
   "cell_type": "markdown",
   "metadata": {
    "id": "l3EoWC5gTUez"
   },
   "source": [
    "(The empty series means there were no transformer overloads)\n",
    "\n",
    "We see that the minimum and maximum voltage profiles look very similar to the\n",
    "baseline profiles. The interpretation of this is twofold: first, adding the one\n",
    "solar array to the feeder does not cause an over-voltage issue in the grid.\n",
    "Second, load flattening against solar (i.e. charging EVs when solar is more\n",
    "available) eliminates any under-voltage issues from the ACN; moreover, solar\n",
    "and load flattening essentially eliminates any effect of the ACN on the minimal\n",
    "voltage.\n",
    "\n",
    "The plot below shows the under-voltage deviations from all scenarios together.\n",
    "Note that the curves for the baseline and load flattening + solar\n",
    "under-voltages are essentially co-located. With solar, we can make it so that\n",
    "the ACN has no effect on upper and lower voltage bounds of the entire grid."
   ]
  },
  {
   "cell_type": "code",
   "execution_count": 37,
   "metadata": {
    "colab": {
     "base_uri": "https://localhost:8080/",
     "height": 259
    },
    "id": "DpKpYQ2ATUe0",
    "outputId": "cdcf7f9d-c5f9-4c08-bca8-38da7d8de396"
   },
   "outputs": [
    {
     "data": {
      "image/png": "[encoded data removed]",
      "text/plain": [
       "<Figure size 465.84x252 with 1 Axes>"
      ]
     },
     "metadata": {
      "needs_background": "light",
      "tags": []
     },
     "output_type": "display_data"
    }
   ],
   "source": [
    "fig, ax = plt.subplots(sharex=True)\n",
    "style = {\n",
    "    \"linewidth\": 2,\n",
    "    \"alpha\": .85,\n",
    "}\n",
    "baseline_model.open_dss_experiment.voltage_pu.min().plot(**style)\n",
    "unctrl_2053.open_dss_experiment.voltage_pu.min().plot(**style)\n",
    "load_flattening_2053.open_dss_experiment.voltage_pu.min().plot(**style)\n",
    "solar_load_flattening_2053.open_dss_experiment.voltage_pu.min().plot(**style)\n",
    "ax.set_ylabel(\"Minimum Voltage Mag. (pu)\", fontsize=10.5)\n",
    "ax.legend([\"Baseline\", \"Uncontrolled\", \"MPC\", \"MPC w/Solar\"])\n",
    "ax.spines['right'].set_visible(False)\n",
    "ax.spines['top'].set_visible(False)\n",
    "plt.xlim((25076560.0, 25078495.0))\n",
    "ax.axhline(0.95, linestyle=\"--\", color=\"grey\")\n",
    "plt.rc('text', usetex=False)\n",
    "plt.rcParams.update({'font.size': 11})\n",
    "ax.grid(alpha=0.5)\n",
    "ax.grid(alpha=0.5)\n",
    "fig = plt.gcf()\n",
    "fig.set_size_inches(6.47, 3.5)\n",
    "plt.tight_layout()"
   ]
  },
  {
   "cell_type": "markdown",
   "metadata": {
    "id": "Ov___1p2TUe0"
   },
   "source": [
    "Let's check the energy delivered for each scenario with an ACN."
   ]
  },
  {
   "cell_type": "code",
   "execution_count": 36,
   "metadata": {
    "colab": {
     "base_uri": "https://localhost:8080/"
    },
    "id": "q0rA8G7MTUe0",
    "outputId": "15f0d3fc-bcc4-4428-8ef9-52ebd3d21204"
   },
   "outputs": [
    {
     "name": "stdout",
     "output_type": "stream",
     "text": [
      "Energy delivered with Uncontrolled Charging: 1.0\n",
      "Energy delivered with Load Flattening: 0.999073630050463\n",
      "Energy delivered with Load Flattening and Solar: 0.9993695691513583\n",
      "\n"
     ]
    }
   ],
   "source": [
    "unctrl_energy_delivered = acnsim.proportion_of_energy_delivered(\n",
    "    unctrl_2053.acn_experiments[\"2053\"].sim\n",
    ")\n",
    "load_flattening_energy_delivered = acnsim.proportion_of_energy_delivered(\n",
    "    load_flattening_2053.acn_experiments[\"2053\"].sim\n",
    ")\n",
    "solar_load_flattening_energy_delivered = acnsim.proportion_of_energy_delivered(\n",
    "    solar_load_flattening_2053.acn_experiments[\"2053\"].sim\n",
    ")\n",
    "print(\n",
    "    f\"Energy delivered with Uncontrolled Charging: \"\n",
    "    f\"{unctrl_energy_delivered}\\n\"\n",
    "    f\"Energy delivered with Load Flattening: \"\n",
    "    f\"{load_flattening_energy_delivered}\\n\"\n",
    "    f\"Energy delivered with Load Flattening and Solar: \"\n",
    "    f\"{solar_load_flattening_energy_delivered}\\n\"\n",
    ")"
   ]
  },
  {
   "cell_type": "code",
   "execution_count": 36,
   "metadata": {
    "id": "5p0NC7F0TUe0"
   },
   "outputs": [],
   "source": []
  }
 ],
 "metadata": {
  "colab": {
   "collapsed_sections": [],
   "name": "3.2-Iowa-Feeder-with-EV-and-Solar-OpenDSS.ipynb",
   "provenance": [],
   "toc_visible": true
  },
  "kernelspec": {
   "display_name": "Python 3",
   "language": "python",
   "name": "python3"
  },
  "language_info": {
   "codemirror_mode": {
    "name": "ipython",
    "version": 3
   },
   "file_extension": ".py",
   "mimetype": "text/x-python",
   "name": "python",
   "nbconvert_exporter": "python",
   "pygments_lexer": "ipython3",
   "version": "3.8.5"
  },
  "pycharm": {
   "stem_cell": {
    "cell_type": "raw",
    "source": [],
    "metadata": {
     "collapsed": false
    }
   }
  }
 },
 "nbformat": 4,
 "nbformat_minor": 4
}