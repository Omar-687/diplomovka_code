{
 "cells": [
  {
   "cell_type": "markdown",
   "metadata": {
    "colab_type": "text",
    "id": "IhI2uguhv2RV"
   },
   "source": [
    "*If running in Colab run this first to install ACN-Portal.*"
   ]
  },
  {
   "cell_type": "code",
   "metadata": {
    "colab": {},
    "colab_type": "code",
    "id": "jaheloGAKKXU",
    "jupyter": {
     "outputs_hidden": true
    },
    "ExecuteTime": {
     "end_time": "2024-04-07T10:57:14.646961Z",
     "start_time": "2024-04-07T10:57:14.621886Z"
    }
   },
   "source": [
    "import subprocess\n",
    "import sys\n",
    "\n",
    "# if 'google.colab' in str(get_ipython()):\n",
    "#     print('Running on CoLab')\n",
    "#     subprocess.check_call([sys.executable, \"-m\", \"pip\", \"install\", \"acnportal\"])\n",
    "#     subprocess.check_call([sys.executable, \"-m\", \"pip\", \"install\", \"git+https://github.com/caltech-netlab/adacharge\"])"
   ],
   "outputs": [],
   "execution_count": 1
  },
  {
   "cell_type": "markdown",
   "metadata": {
    "colab_type": "text",
    "id": "9UiM4S_79Fwp"
   },
   "source": [
    "# Baseline Algorithm Evaluation\n",
    "In this experiment we compare the performance of the Round Robin, First-Come First-Served, Earliest Deadline First, and Least Laxity First algorithms. To understand how these algorithms cope with constrained infrastructure, we limit the capacity of the transformer feeding the charging network. We then compare what percentage of energy demands each algorithm is able to meet. We also consider the current unbalance caused by each algorithm to help understand why certain algorithms are able to deliver more or less energy at a given infrastrucutre capacity."
   ]
  },
  {
   "cell_type": "code",
   "metadata": {
    "colab": {},
    "colab_type": "code",
    "id": "QZy2CYP4KNED",
    "ExecuteTime": {
     "end_time": "2024-04-07T10:57:20.907217Z",
     "start_time": "2024-04-07T10:57:14.648964Z"
    }
   },
   "source": [
    "from matplotlib import pyplot as plt\n",
    "import matplotlib\n",
    "import matplotlib.dates as mdates\n",
    "from datetime import datetime, timedelta\n",
    "import pytz\n",
    "import numpy as np\n",
    "import pandas as pd\n",
    "from collections import defaultdict\n",
    "from pprint import pprint\n",
    "from copy import deepcopy\n",
    "import json\n",
    "import os\n",
    "import time\n",
    "import gzip\n",
    "import random\n",
    "\n",
    "from acnportal import acnsim\n",
    "from acnportal.acnsim import analysis\n",
    "from acnportal.signals.tariffs import TimeOfUseTariff\n",
    "from acnportal import algorithms\n",
    "import adacharge\n",
    "\n",
    "import importlib\n",
    "importlib.reload(adacharge)"
   ],
   "outputs": [
    {
     "data": {
      "text/plain": [
       "<module 'adacharge' from 'C:\\\\Users\\\\OMI\\\\AppData\\\\Local\\\\Programs\\\\Python\\\\Python310\\\\lib\\\\site-packages\\\\adacharge\\\\__init__.py'>"
      ]
     },
     "execution_count": 2,
     "metadata": {},
     "output_type": "execute_result"
    }
   ],
   "execution_count": 2
  },
  {
   "cell_type": "code",
   "metadata": {
    "ExecuteTime": {
     "end_time": "2024-04-07T10:57:20.938623Z",
     "start_time": "2024-04-07T10:57:20.909460Z"
    }
   },
   "source": [
    "matplotlib.rcParams.update({'font.size': 12})"
   ],
   "outputs": [],
   "execution_count": 3
  },
  {
   "cell_type": "markdown",
   "metadata": {
    "colab_type": "text",
    "id": "3qx32BT2F3AB"
   },
   "source": [
    "## Experiment Parameters\n"
   ]
  },
  {
   "cell_type": "code",
   "metadata": {
    "colab": {},
    "colab_type": "code",
    "id": "PIGTi0JKKXGl",
    "ExecuteTime": {
     "end_time": "2024-04-07T10:57:21.139582Z",
     "start_time": "2024-04-07T10:57:20.942021Z"
    }
   },
   "source": [
    "# Timezone of the ACN we are using.\n",
    "timezone = pytz.timezone('America/Los_Angeles')\n",
    "\n",
    "# Start and End times are used when collecting data.\n",
    "start = timezone.localize(datetime(2019, 3, 1))\n",
    "\n",
    "# Use only one week for quicker results.\n",
    "end = timezone.localize(datetime(2019, 4, 1,))\n",
    "\n",
    "# How long each time discrete time interval in the simulation should be.\n",
    "period = 5  # minutes\n",
    "\n",
    "# Voltage of the network.\n",
    "voltage = 208  # volts\n",
    "\n",
    "# Default maximum charging rate for each EV battery.\n",
    "default_battery_power = 6.6  # kW\n",
    "\n",
    "# Site info\n",
    "site = 'caltech'\n",
    "station_ids = acnsim.sites.caltech_acn().station_ids"
   ],
   "outputs": [],
   "execution_count": 4
  },
  {
   "cell_type": "code",
   "metadata": {
    "ExecuteTime": {
     "end_time": "2024-04-07T10:57:29.247378Z",
     "start_time": "2024-04-07T10:57:21.142814Z"
    }
   },
   "source": [
    "# Get Events Via the API\n",
    "API_KEY = 'DEMO_TOKEN'\n",
    "events = acnsim.acndata_events.generate_events(API_KEY, site, start, end, \n",
    "                                               period, voltage, \n",
    "                                               default_battery_power)"
   ],
   "outputs": [],
   "execution_count": 5
  },
  {
   "cell_type": "code",
   "metadata": {
    "ExecuteTime": {
     "end_time": "2024-04-07T10:57:29.263219Z",
     "start_time": "2024-04-07T10:57:29.249500Z"
    }
   },
   "source": [
    "# Save Events\n",
    "start_iso = start.strftime(\"%Y%m%dT%H%M%S\")\n",
    "end_iso = end.strftime(\"%Y%m%dT%H%M%S\")\n",
    "name = f\"events/{site}_{start_iso}_{end_iso}_{period}m_{voltage}V_{default_battery_power}kW.json.gz\"\n",
    "if not os.path.exists(name):\n",
    "    data = events.to_json()\n",
    "    with gzip.GzipFile(name, 'w') as fout:\n",
    "        fout.write(json.dumps(data).encode('utf-8'))"
   ],
   "outputs": [],
   "execution_count": 6
  },
  {
   "cell_type": "code",
   "metadata": {
    "ExecuteTime": {
     "end_time": "2024-04-07T10:57:29.897317Z",
     "start_time": "2024-04-07T10:57:29.264438Z"
    }
   },
   "source": [
    "# Load Events\n",
    "start_iso = start.strftime(\"%Y%m%dT%H%M%S\")\n",
    "end_iso = end.strftime(\"%Y%m%dT%H%M%S\")\n",
    "name = f\"events/{site}_{start_iso}_{end_iso}_{period}m_{voltage}V_{default_battery_power}kW.json.gz\"\n",
    "if os.path.exists(name):\n",
    "    with gzip.GzipFile(name, 'r') as fin:\n",
    "        data = json.loads(fin.read().decode('utf-8'))\n",
    "        events = acnsim.EventQueue.from_json(data)\n",
    "else:\n",
    "    print(\"No cached events with the given parameters.\")"
   ],
   "outputs": [
    {
     "name": "stderr",
     "output_type": "stream",
     "text": [
      "C:\\Users\\OMI\\AppData\\Local\\Programs\\Python\\Python310\\lib\\site-packages\\acnportal\\acnsim\\base.py:667: UserWarning: Version 0.2.1 of input acnportal object does not match current version 0.3.3.\n",
      "  warnings.warn(\n",
      "C:\\Users\\OMI\\AppData\\Local\\Programs\\Python\\Python310\\lib\\site-packages\\acnportal\\acnsim\\base.py:680: UserWarning: Current version of dependency numpy does not match serialized version. Current: 1.26.4, Serialized: 1.19.1.\n",
      "  warnings.warn(\n",
      "C:\\Users\\OMI\\AppData\\Local\\Programs\\Python\\Python310\\lib\\site-packages\\acnportal\\acnsim\\base.py:680: UserWarning: Current version of dependency pandas does not match serialized version. Current: 2.2.1, Serialized: 1.1.1.\n",
      "  warnings.warn(\n"
     ]
    }
   ],
   "execution_count": 7
  },
  {
   "cell_type": "markdown",
   "metadata": {
    "colab_type": "text",
    "id": "rO1dfvvqqqcn"
   },
   "source": [
    "## Algorithms\n",
    "We consider four algorithms: Round Robin, First-Come First-Served, Earliest Deadline First, and Least Laxity First."
   ]
  },
  {
   "cell_type": "code",
   "metadata": {
    "ExecuteTime": {
     "end_time": "2024-04-07T10:57:29.912468Z",
     "start_time": "2024-04-07T10:57:29.899483Z"
    }
   },
   "source": [
    "def days_remaining_scale_demand_charge(rates, infrastructure, interface,\n",
    "                                       baseline_peak=0, **kwargs):\n",
    "    day_index = interface.current_time // ((60 / interface.period) * 24)\n",
    "    days_in_month = 30\n",
    "    day_index = min(day_index, days_in_month - 1)\n",
    "    scale = 1 / (days_in_month - day_index)\n",
    "    dc = adacharge.demand_charge(rates, infrastructure, interface, baseline_peak, **kwargs)\n",
    "    return scale * dc"
   ],
   "outputs": [],
   "execution_count": 8
  },
  {
   "cell_type": "code",
   "metadata": {
    "colab": {},
    "colab_type": "code",
    "id": "4mmi7SjPHvfo",
    "ExecuteTime": {
     "end_time": "2024-04-07T10:57:29.927976Z",
     "start_time": "2024-04-07T10:57:29.914468Z"
    }
   },
   "source": [
    "sch = {}\n",
    "sch['Unctrl'] = algorithms.UncontrolledCharging()\n",
    "sch['FCFS'] = algorithms.SortedSchedulingAlgo(algorithms.first_come_first_served)\n",
    "sch['LLF'] = algorithms.SortedSchedulingAlgo(algorithms.least_laxity_first)\n",
    "sch['EDF'] = algorithms.SortedSchedulingAlgo(algorithms.earliest_deadline_first)\n",
    "sch['RR'] = algorithms.RoundRobin(algorithms.first_come_first_served)\n",
    "    \n",
    "quick_charge_obj = [adacharge.ObjectiveComponent(adacharge.quick_charge),\n",
    "                    adacharge.ObjectiveComponent(adacharge.equal_share, 1e-12)]\n",
    "sch['MPC_QC'] = adacharge.AdaptiveSchedulingAlgorithm(quick_charge_obj, solver=\"ECOS\")\n",
    "sch['Offline_QC'] = adacharge.AdaptiveChargingAlgorithmOffline(quick_charge_obj, solver=\"ECOS\")\n",
    "\n",
    "cost_min_obj = [\n",
    "    # adacharge.ObjectiveComponent(adacharge.total_energy, 1000),\n",
    "                adacharge.ObjectiveComponent(adacharge.tou_energy_cost),\n",
    "                # adacharge.ObjectiveComponent(days_remaining_scale_demand_charge),\n",
    "                # adacharge.ObjectiveComponent(adacharge.quick_charge, 1e-4),\n",
    "                # adacharge.ObjectiveComponent(adacharge.equal_share, 1e-12)\n",
    "               ]\n",
    "sch['MPC_CM'] = adacharge.AdaptiveSchedulingAlgorithm(cost_min_obj, solver=\"MOSEK\")\n",
    "\n",
    "cost_min_obj_off = [\n",
    "                    # adacharge.ObjectiveComponent(adacharge.total_energy, 1000),\n",
    "                    adacharge.ObjectiveComponent(adacharge.tou_energy_cost),\n",
    "                    # adacharge.ObjectiveComponent(adacharge.demand_charge),\n",
    "                   ]\n",
    "sch['Offline_CM'] = adacharge.AdaptiveChargingAlgorithmOffline(cost_min_obj_off, solver=\"MOSEK\")"
   ],
   "outputs": [],
   "execution_count": 9
  },
  {
   "cell_type": "markdown",
   "metadata": {
    "colab_type": "text",
    "id": "fSa_fwSZq4Og"
   },
   "source": [
    "## Experiment"
   ]
  },
  {
   "cell_type": "markdown",
   "metadata": {},
   "source": [
    "Load results from the data directory. "
   ]
  },
  {
   "cell_type": "code",
   "metadata": {
    "ExecuteTime": {
     "end_time": "2024-04-07T10:57:29.942933Z",
     "start_time": "2024-04-07T10:57:29.930073Z"
    }
   },
   "source": [
    "sims = dict()\n",
    "results_dir = \"results/sims\"\n",
    "if os.path.exists(results_dir):\n",
    "    for filename in os.listdir(results_dir):\n",
    "        try:\n",
    "            split_name = filename.split(\".\")\n",
    "            if \"gz\" == split_name[-1]:\n",
    "                network_type, alg_name, cap = split_name[0].split(\"-\")\n",
    "                path = os.path.join(results_dir, filename)\n",
    "                with gzip.GzipFile(path, 'r') as fin:\n",
    "                    data = json.loads(fin.read().decode('utf-8'))\n",
    "                    sims[network_type, alg_name, int(cap)] = acnsim.Simulator.from_json(data)\n",
    "        except ValueError:\n",
    "            pass"
   ],
   "outputs": [],
   "execution_count": 10
  },
  {
   "cell_type": "markdown",
   "metadata": {},
   "source": [
    "### Run Experiment from Scratch\n",
    "\n",
    "To run the experiment we vary the capacity of the transformer which feeds the Caltech charging network from 5 kW to 150 kW. This allows us to see how each algorithm copes with various levels of infrastructure constraints."
   ]
  },
  {
   "cell_type": "code",
   "metadata": {
    "ExecuteTime": {
     "end_time": "2024-04-07T10:57:29.958828Z",
     "start_time": "2024-04-07T10:57:29.945342Z"
    }
   },
   "source": [
    "sims = dict()"
   ],
   "outputs": [],
   "execution_count": 11
  },
  {
   "cell_type": "code",
   "metadata": {
    "ExecuteTime": {
     "end_time": "2024-04-07T10:57:29.973748Z",
     "start_time": "2024-04-07T10:57:29.959928Z"
    }
   },
   "source": [
    "def run_experiment(network_type, alg_name, cap):            \n",
    "    if network_type == \"single_phase\":\n",
    "        cn = acnsim.sites.simple_acn(station_ids, voltage=voltage, aggregate_cap=cap)\n",
    "    else:\n",
    "        cn = acnsim.sites.caltech_acn(basic_evse=True, voltage=voltage, transformer_cap=cap)\n",
    "    alg = deepcopy(sch[alg_name])\n",
    "    experiment_events = deepcopy(events)\n",
    "    signals = {'tariff': TimeOfUseTariff(\"sce_tou_ev_4_march_2019\")}\n",
    "    sim = acnsim.Simulator(cn, alg, experiment_events, start, period=period, signals=signals, verbose=False)\n",
    "    print(\"Running...\")\n",
    "    start_simulation = time.time()\n",
    "    if alg_name == \"Offline_CM\" or alg_name == \"Offline_QC\":\n",
    "        alg.register_events(experiment_events)\n",
    "        alg.solve()\n",
    "    sim.run()\n",
    "    print(f\"Run time: {time.time() - start_simulation}\")\n",
    "    return sim"
   ],
   "outputs": [],
   "execution_count": 12
  },
  {
   "cell_type": "code",
   "metadata": {
    "colab": {
     "base_uri": "https://localhost:8080/",
     "height": 612
    },
    "colab_type": "code",
    "id": "cER7tAcfKbuW",
    "outputId": "b3ff15bd-c93d-4a6c-ac45-79f772c4095c",
    "ExecuteTime": {
     "end_time": "2024-04-07T11:03:34.813922Z",
     "start_time": "2024-04-07T10:57:29.975973Z"
    }
   },
   "source": [
    "# We expect Unctrl to overload the system, so we will surpress warnings.\n",
    "import warnings\n",
    "warnings.simplefilter(\"ignore\")\n",
    "    \n",
    "capacities = list(range(10, 126, 5))\n",
    "alg_names = [\"Unctrl\", \"FCFS\", \"EDF\", \"LLF\", \"RR\", \"MPC_CM\", \"Offline_CM\"]\n",
    "for network_type in [\"single_phase\", \"three_phase\"]:\n",
    "    for cap in capacities:\n",
    "        for alg_name in alg_names:\n",
    "            config = (network_type, alg_name, cap)\n",
    "            print(config)\n",
    "            if config not in sims:\n",
    "                sims[config] = run_experiment(*config)"
   ],
   "outputs": [
    {
     "name": "stdout",
     "output_type": "stream",
     "text": [
      "('single_phase', 'Unctrl', 10)\n",
      "Running...\n",
      "Run time: 4.138536691665649\n",
      "('single_phase', 'FCFS', 10)\n",
      "Running...\n",
      "Run time: 39.672451972961426\n",
      "('single_phase', 'EDF', 10)\n",
      "Running...\n",
      "Run time: 47.08262324333191\n",
      "('single_phase', 'LLF', 10)\n",
      "Running...\n",
      "Run time: 159.58805203437805\n",
      "('single_phase', 'RR', 10)\n",
      "Running...\n",
      "Run time: 112.94687557220459\n",
      "('single_phase', 'MPC_CM', 10)\n",
      "Running...\n"
     ]
    },
    {
     "ename": "TypeError",
     "evalue": "aggregate_period_energy() missing 1 required positional argument: 'interface'",
     "output_type": "error",
     "traceback": [
      "\u001B[1;31m---------------------------------------------------------------------------\u001B[0m",
      "\u001B[1;31mTypeError\u001B[0m                                 Traceback (most recent call last)",
      "Cell \u001B[1;32mIn[13], line 13\u001B[0m\n\u001B[0;32m     11\u001B[0m \u001B[38;5;28mprint\u001B[39m(config)\n\u001B[0;32m     12\u001B[0m \u001B[38;5;28;01mif\u001B[39;00m config \u001B[38;5;129;01mnot\u001B[39;00m \u001B[38;5;129;01min\u001B[39;00m sims:\n\u001B[1;32m---> 13\u001B[0m     sims[config] \u001B[38;5;241m=\u001B[39m \u001B[43mrun_experiment\u001B[49m\u001B[43m(\u001B[49m\u001B[38;5;241;43m*\u001B[39;49m\u001B[43mconfig\u001B[49m\u001B[43m)\u001B[49m\n",
      "Cell \u001B[1;32mIn[12], line 15\u001B[0m, in \u001B[0;36mrun_experiment\u001B[1;34m(network_type, alg_name, cap)\u001B[0m\n\u001B[0;32m     13\u001B[0m     alg\u001B[38;5;241m.\u001B[39mregister_events(experiment_events)\n\u001B[0;32m     14\u001B[0m     alg\u001B[38;5;241m.\u001B[39msolve()\n\u001B[1;32m---> 15\u001B[0m \u001B[43msim\u001B[49m\u001B[38;5;241;43m.\u001B[39;49m\u001B[43mrun\u001B[49m\u001B[43m(\u001B[49m\u001B[43m)\u001B[49m\n\u001B[0;32m     16\u001B[0m \u001B[38;5;28mprint\u001B[39m(\u001B[38;5;124mf\u001B[39m\u001B[38;5;124m\"\u001B[39m\u001B[38;5;124mRun time: \u001B[39m\u001B[38;5;132;01m{\u001B[39;00mtime\u001B[38;5;241m.\u001B[39mtime()\u001B[38;5;250m \u001B[39m\u001B[38;5;241m-\u001B[39m\u001B[38;5;250m \u001B[39mstart_simulation\u001B[38;5;132;01m}\u001B[39;00m\u001B[38;5;124m\"\u001B[39m)\n\u001B[0;32m     17\u001B[0m \u001B[38;5;28;01mreturn\u001B[39;00m sim\n",
      "File \u001B[1;32m~\\AppData\\Local\\Programs\\Python\\Python310\\lib\\site-packages\\acnportal\\acnsim\\simulator.py:126\u001B[0m, in \u001B[0;36mSimulator.run\u001B[1;34m(self)\u001B[0m\n\u001B[0;32m    116\u001B[0m     \u001B[38;5;28mself\u001B[39m\u001B[38;5;241m.\u001B[39m_process_event(e)\n\u001B[0;32m    117\u001B[0m \u001B[38;5;28;01mif\u001B[39;00m (\n\u001B[0;32m    118\u001B[0m     \u001B[38;5;28mself\u001B[39m\u001B[38;5;241m.\u001B[39m_resolve\n\u001B[0;32m    119\u001B[0m     \u001B[38;5;129;01mor\u001B[39;00m \u001B[38;5;28mself\u001B[39m\u001B[38;5;241m.\u001B[39mmax_recompute \u001B[38;5;129;01mis\u001B[39;00m \u001B[38;5;129;01mnot\u001B[39;00m \u001B[38;5;28;01mNone\u001B[39;00m\n\u001B[1;32m   (...)\u001B[0m\n\u001B[0;32m    124\u001B[0m     )\n\u001B[0;32m    125\u001B[0m ):\n\u001B[1;32m--> 126\u001B[0m     new_schedule \u001B[38;5;241m=\u001B[39m \u001B[38;5;28;43mself\u001B[39;49m\u001B[38;5;241;43m.\u001B[39;49m\u001B[43mscheduler\u001B[49m\u001B[38;5;241;43m.\u001B[39;49m\u001B[43mrun\u001B[49m\u001B[43m(\u001B[49m\u001B[43m)\u001B[49m\n\u001B[0;32m    127\u001B[0m     \u001B[38;5;28mself\u001B[39m\u001B[38;5;241m.\u001B[39m_update_schedules(new_schedule)\n\u001B[0;32m    128\u001B[0m     \u001B[38;5;28;01mif\u001B[39;00m \u001B[38;5;28mself\u001B[39m\u001B[38;5;241m.\u001B[39mschedule_history \u001B[38;5;129;01mis\u001B[39;00m \u001B[38;5;129;01mnot\u001B[39;00m \u001B[38;5;28;01mNone\u001B[39;00m:\n",
      "File \u001B[1;32m~\\AppData\\Local\\Programs\\Python\\Python310\\lib\\site-packages\\acnportal\\algorithms\\base_algorithm.py:104\u001B[0m, in \u001B[0;36mBaseAlgorithm.run\u001B[1;34m(self)\u001B[0m\n\u001B[0;32m    102\u001B[0m active_sessions \u001B[38;5;241m=\u001B[39m \u001B[38;5;28mself\u001B[39m\u001B[38;5;241m.\u001B[39minterface\u001B[38;5;241m.\u001B[39mactive_sessions()\n\u001B[0;32m    103\u001B[0m start_time \u001B[38;5;241m=\u001B[39m time\u001B[38;5;241m.\u001B[39mperf_counter()\n\u001B[1;32m--> 104\u001B[0m schedules \u001B[38;5;241m=\u001B[39m \u001B[38;5;28;43mself\u001B[39;49m\u001B[38;5;241;43m.\u001B[39;49m\u001B[43mschedule\u001B[49m\u001B[43m(\u001B[49m\u001B[43mactive_sessions\u001B[49m\u001B[43m)\u001B[49m\n\u001B[0;32m    105\u001B[0m solve_time \u001B[38;5;241m=\u001B[39m time\u001B[38;5;241m.\u001B[39mperf_counter() \u001B[38;5;241m-\u001B[39m start_time\n\u001B[0;32m    106\u001B[0m \u001B[38;5;28mself\u001B[39m\u001B[38;5;241m.\u001B[39msolve_stats\u001B[38;5;241m.\u001B[39mappend(\n\u001B[0;32m    107\u001B[0m     {\u001B[38;5;124m\"\u001B[39m\u001B[38;5;124msolve_time\u001B[39m\u001B[38;5;124m\"\u001B[39m: solve_time, \u001B[38;5;124m\"\u001B[39m\u001B[38;5;124mactive_sessions\u001B[39m\u001B[38;5;124m\"\u001B[39m: \u001B[38;5;28mlen\u001B[39m(active_sessions)}\n\u001B[0;32m    108\u001B[0m )\n",
      "File \u001B[1;32m~\\AppData\\Local\\Programs\\Python\\Python310\\lib\\site-packages\\adacharge\\adacharge.py:169\u001B[0m, in \u001B[0;36mAdaptiveSchedulingAlgorithm.schedule\u001B[1;34m(self, active_sessions)\u001B[0m\n\u001B[0;32m    164\u001B[0m     optimization_horizon \u001B[38;5;241m=\u001B[39m \u001B[38;5;28mmax\u001B[39m(\n\u001B[0;32m    165\u001B[0m         s\u001B[38;5;241m.\u001B[39marrival_offset \u001B[38;5;241m+\u001B[39m s\u001B[38;5;241m.\u001B[39mremaining_time \u001B[38;5;28;01mfor\u001B[39;00m s \u001B[38;5;129;01min\u001B[39;00m active_sessions\n\u001B[0;32m    166\u001B[0m     )\n\u001B[0;32m    167\u001B[0m     trimmed_peak \u001B[38;5;241m=\u001B[39m \u001B[38;5;28mself\u001B[39m\u001B[38;5;241m.\u001B[39mpeak_limit[t : t \u001B[38;5;241m+\u001B[39m optimization_horizon]\n\u001B[1;32m--> 169\u001B[0m rates_matrix \u001B[38;5;241m=\u001B[39m \u001B[43moptimizer\u001B[49m\u001B[38;5;241;43m.\u001B[39;49m\u001B[43msolve\u001B[49m\u001B[43m(\u001B[49m\n\u001B[0;32m    170\u001B[0m \u001B[43m    \u001B[49m\u001B[43mactive_sessions\u001B[49m\u001B[43m,\u001B[49m\n\u001B[0;32m    171\u001B[0m \u001B[43m    \u001B[49m\u001B[43minfrastructure\u001B[49m\u001B[43m,\u001B[49m\n\u001B[0;32m    172\u001B[0m \u001B[43m    \u001B[49m\u001B[43mpeak_limit\u001B[49m\u001B[38;5;241;43m=\u001B[39;49m\u001B[43mtrimmed_peak\u001B[49m\u001B[43m,\u001B[49m\n\u001B[0;32m    173\u001B[0m \u001B[43m    \u001B[49m\u001B[43mprev_peak\u001B[49m\u001B[38;5;241;43m=\u001B[39;49m\u001B[38;5;28;43mself\u001B[39;49m\u001B[38;5;241;43m.\u001B[39;49m\u001B[43minterface\u001B[49m\u001B[38;5;241;43m.\u001B[39;49m\u001B[43mget_prev_peak\u001B[49m\u001B[43m(\u001B[49m\u001B[43m)\u001B[49m\u001B[43m,\u001B[49m\n\u001B[0;32m    174\u001B[0m \u001B[43m    \u001B[49m\u001B[43mverbose\u001B[49m\u001B[38;5;241;43m=\u001B[39;49m\u001B[38;5;28;43mself\u001B[39;49m\u001B[38;5;241;43m.\u001B[39;49m\u001B[43mverbose\u001B[49m\n\u001B[0;32m    175\u001B[0m \u001B[43m\u001B[49m\u001B[43m)\u001B[49m\n\u001B[0;32m    176\u001B[0m \u001B[38;5;28;01mif\u001B[39;00m \u001B[38;5;28mself\u001B[39m\u001B[38;5;241m.\u001B[39mquantize:\n\u001B[0;32m    177\u001B[0m     \u001B[38;5;28;01mif\u001B[39;00m \u001B[38;5;28mself\u001B[39m\u001B[38;5;241m.\u001B[39mreallocate:\n",
      "File \u001B[1;32m~\\AppData\\Local\\Programs\\Python\\Python310\\lib\\site-packages\\adacharge\\adaptive_charging_optimization.py:316\u001B[0m, in \u001B[0;36mAdaptiveChargingOptimization.solve\u001B[1;34m(self, active_sessions, infrastructure, peak_limit, prev_peak, verbose)\u001B[0m\n\u001B[0;32m    314\u001B[0m \u001B[38;5;28;01mif\u001B[39;00m \u001B[38;5;28mlen\u001B[39m(active_sessions) \u001B[38;5;241m==\u001B[39m \u001B[38;5;241m0\u001B[39m:\n\u001B[0;32m    315\u001B[0m     \u001B[38;5;28;01mreturn\u001B[39;00m np\u001B[38;5;241m.\u001B[39mzeros((infrastructure\u001B[38;5;241m.\u001B[39mnum_stations, \u001B[38;5;241m1\u001B[39m))\n\u001B[1;32m--> 316\u001B[0m problem_dict \u001B[38;5;241m=\u001B[39m \u001B[38;5;28;43mself\u001B[39;49m\u001B[38;5;241;43m.\u001B[39;49m\u001B[43mbuild_problem\u001B[49m\u001B[43m(\u001B[49m\n\u001B[0;32m    317\u001B[0m \u001B[43m    \u001B[49m\u001B[43mactive_sessions\u001B[49m\u001B[43m,\u001B[49m\u001B[43m \u001B[49m\u001B[43minfrastructure\u001B[49m\u001B[43m,\u001B[49m\u001B[43m \u001B[49m\u001B[43mpeak_limit\u001B[49m\u001B[43m,\u001B[49m\u001B[43m \u001B[49m\u001B[43mprev_peak\u001B[49m\n\u001B[0;32m    318\u001B[0m \u001B[43m\u001B[49m\u001B[43m)\u001B[49m\n\u001B[0;32m    319\u001B[0m prob \u001B[38;5;241m=\u001B[39m cp\u001B[38;5;241m.\u001B[39mProblem(\n\u001B[0;32m    320\u001B[0m     problem_dict[\u001B[38;5;124m\"\u001B[39m\u001B[38;5;124mobjective\u001B[39m\u001B[38;5;124m\"\u001B[39m], \u001B[38;5;28mlist\u001B[39m(problem_dict[\u001B[38;5;124m\"\u001B[39m\u001B[38;5;124mconstraints\u001B[39m\u001B[38;5;124m\"\u001B[39m]\u001B[38;5;241m.\u001B[39mvalues())\n\u001B[0;32m    321\u001B[0m )\n\u001B[0;32m    322\u001B[0m prob\u001B[38;5;241m.\u001B[39msolve(solver\u001B[38;5;241m=\u001B[39m\u001B[38;5;28mself\u001B[39m\u001B[38;5;241m.\u001B[39msolver, verbose\u001B[38;5;241m=\u001B[39mverbose)\n",
      "File \u001B[1;32m~\\AppData\\Local\\Programs\\Python\\Python310\\lib\\site-packages\\adacharge\\adaptive_charging_optimization.py:279\u001B[0m, in \u001B[0;36mAdaptiveChargingOptimization.build_problem\u001B[1;34m(self, active_sessions, infrastructure, peak_limit, prev_peak)\u001B[0m\n\u001B[0;32m    275\u001B[0m constraints\u001B[38;5;241m.\u001B[39mupdate(\u001B[38;5;28mself\u001B[39m\u001B[38;5;241m.\u001B[39mpeak_constraint(rates, peak_limit))\n\u001B[0;32m    277\u001B[0m \u001B[38;5;66;03m# Objective Function\u001B[39;00m\n\u001B[0;32m    278\u001B[0m objective \u001B[38;5;241m=\u001B[39m cp\u001B[38;5;241m.\u001B[39mMaximize(\n\u001B[1;32m--> 279\u001B[0m     \u001B[38;5;28;43mself\u001B[39;49m\u001B[38;5;241;43m.\u001B[39;49m\u001B[43mbuild_objective\u001B[49m\u001B[43m(\u001B[49m\u001B[43mrates\u001B[49m\u001B[38;5;241;43m=\u001B[39;49m\u001B[43mrates\u001B[49m\u001B[43m,\u001B[49m\n\u001B[0;32m    280\u001B[0m \u001B[43m                         \u001B[49m\u001B[43mactive_sessions\u001B[49m\u001B[38;5;241;43m=\u001B[39;49m\u001B[43mactive_sessions\u001B[49m\u001B[43m,\u001B[49m\n\u001B[0;32m    281\u001B[0m \u001B[43m                         \u001B[49m\u001B[43minfrastructure\u001B[49m\u001B[38;5;241;43m=\u001B[39;49m\u001B[43minfrastructure\u001B[49m\u001B[43m,\u001B[49m\n\u001B[0;32m    282\u001B[0m \u001B[43m                         \u001B[49m\u001B[43mprev_peak\u001B[49m\u001B[38;5;241;43m=\u001B[39;49m\u001B[43mprev_peak\u001B[49m\u001B[43m)\u001B[49m\n\u001B[0;32m    283\u001B[0m )\n\u001B[0;32m    284\u001B[0m \u001B[38;5;28;01mreturn\u001B[39;00m {\n\u001B[0;32m    285\u001B[0m     \u001B[38;5;124m\"\u001B[39m\u001B[38;5;124mobjective\u001B[39m\u001B[38;5;124m\"\u001B[39m: objective,\n\u001B[0;32m    286\u001B[0m     \u001B[38;5;124m\"\u001B[39m\u001B[38;5;124mconstraints\u001B[39m\u001B[38;5;124m\"\u001B[39m: constraints,\n\u001B[0;32m    287\u001B[0m     \u001B[38;5;124m\"\u001B[39m\u001B[38;5;124mvariables\u001B[39m\u001B[38;5;124m\"\u001B[39m: {\u001B[38;5;124m\"\u001B[39m\u001B[38;5;124mrates\u001B[39m\u001B[38;5;124m\"\u001B[39m: rates},\n\u001B[0;32m    288\u001B[0m }\n",
      "File \u001B[1;32m~\\AppData\\Local\\Programs\\Python\\Python310\\lib\\site-packages\\adacharge\\adaptive_charging_optimization.py:212\u001B[0m, in \u001B[0;36mAdaptiveChargingOptimization.build_objective\u001B[1;34m(self, rates, active_sessions, infrastructure, **kwargs)\u001B[0m\n\u001B[0;32m    210\u001B[0m obj \u001B[38;5;241m=\u001B[39m cp\u001B[38;5;241m.\u001B[39mConstant(\u001B[38;5;241m0\u001B[39m)\n\u001B[0;32m    211\u001B[0m \u001B[38;5;28;01mfor\u001B[39;00m component \u001B[38;5;129;01min\u001B[39;00m \u001B[38;5;28mself\u001B[39m\u001B[38;5;241m.\u001B[39mobjective_configuration:\n\u001B[1;32m--> 212\u001B[0m     obj \u001B[38;5;241m+\u001B[39m\u001B[38;5;241m=\u001B[39m component\u001B[38;5;241m.\u001B[39mcoefficient \u001B[38;5;241m*\u001B[39m component\u001B[38;5;241m.\u001B[39mfunction(\n\u001B[0;32m    213\u001B[0m         rates,\n\u001B[0;32m    214\u001B[0m         active_sessions,\n\u001B[0;32m    215\u001B[0m         infrastructure,\n\u001B[0;32m    216\u001B[0m         \u001B[38;5;28mself\u001B[39m\u001B[38;5;241m.\u001B[39minterface,\n\u001B[0;32m    217\u001B[0m         \u001B[38;5;241m*\u001B[39m\u001B[38;5;241m*\u001B[39m_merge_dicts(kwargs, component\u001B[38;5;241m.\u001B[39mkwargs),\n\u001B[0;32m    218\u001B[0m     )\n\u001B[0;32m    219\u001B[0m \u001B[38;5;28;01mreturn\u001B[39;00m obj\n",
      "File \u001B[1;32m~\\AppData\\Local\\Programs\\Python\\Python310\\lib\\site-packages\\adacharge\\adaptive_charging_optimization.py:384\u001B[0m, in \u001B[0;36mtou_energy_cost\u001B[1;34m(rates, active_sessions, infrastructure, interface, **kwargs)\u001B[0m\n\u001B[0;32m    382\u001B[0m \u001B[38;5;28;01mdef\u001B[39;00m \u001B[38;5;21mtou_energy_cost\u001B[39m(rates, active_sessions, infrastructure, interface, \u001B[38;5;241m*\u001B[39m\u001B[38;5;241m*\u001B[39mkwargs):\n\u001B[0;32m    383\u001B[0m     current_prices \u001B[38;5;241m=\u001B[39m interface\u001B[38;5;241m.\u001B[39mget_prices(rates\u001B[38;5;241m.\u001B[39mshape[\u001B[38;5;241m1\u001B[39m])  \u001B[38;5;66;03m# $/kWh\u001B[39;00m\n\u001B[1;32m--> 384\u001B[0m     \u001B[38;5;28;01mreturn\u001B[39;00m \u001B[38;5;241m-\u001B[39mcurrent_prices \u001B[38;5;241m@\u001B[39m \u001B[43maggregate_period_energy\u001B[49m\u001B[43m(\u001B[49m\u001B[43mrates\u001B[49m\u001B[43m,\u001B[49m\u001B[43m \u001B[49m\u001B[43minfrastructure\u001B[49m\u001B[43m,\u001B[49m\u001B[43m \u001B[49m\u001B[43minterface\u001B[49m\u001B[43m)\u001B[49m\n",
      "\u001B[1;31mTypeError\u001B[0m: aggregate_period_energy() missing 1 required positional argument: 'interface'"
     ]
    }
   ],
   "execution_count": 13
  },
  {
   "cell_type": "code",
   "metadata": {},
   "source": [
    "if not os.path.exists(\"results/sims\"):\n",
    "    os.makedirs(\"results/sims\")\n",
    "    \n",
    "for config, sim in sims.items():\n",
    "    name = \"results/sims/{0}-{1}-{2}.json.gz\".format(*config)\n",
    "    if not os.path.exists(name):\n",
    "        data = sim.to_json()\n",
    "        with gzip.GzipFile(name, 'w') as fout:\n",
    "            fout.write(json.dumps(data).encode('utf-8'))"
   ],
   "outputs": [],
   "execution_count": null
  },
  {
   "cell_type": "markdown",
   "metadata": {
    "colab_type": "text",
    "id": "7UJwNuU2rpwq"
   },
   "source": [
    "## Results\n",
    "We can then analyze the results of the experiment. We consider three metrics. \n",
    "\n",
    "1.   Proportion of total energy requested which is delivered by each algorithm. \n",
    "2.   Maximum infrastructure utilization, defined as the maximum instantaneous power draw over the capacity of the system.\n",
    "3.   Average current unbalance which measures how well each algorithm is able to balance between phases, a key factor in maximally utilizing infrastructure capacity."
   ]
  },
  {
   "cell_type": "code",
   "metadata": {
    "ExecuteTime": {
     "end_time": "2024-04-07T11:03:34.817817Z",
     "start_time": "2024-04-07T11:03:34.817817Z"
    }
   },
   "source": [
    "def calc_metrics(config, sim):\n",
    "    metrics = {\n",
    "        \"Network Type\": config[0],\n",
    "        \"Algorithm\": config[1],\n",
    "        \"Capacity (kW)\": config[2],\n",
    "        \"Energy Delivered (%)\": analysis.proportion_of_energy_delivered(sim) * 100,\n",
    "        \"Max Utilization (%)\": np.max(analysis.aggregate_power(sim)) / config[2] * 100,\n",
    "        \"Peak (kW)\": np.max(analysis.aggregate_power(sim))\n",
    "    }\n",
    "    if config[0] == \"three_phase\":\n",
    "        metrics[\"Current Unbalance\"] = np.nanmean(analysis.current_unbalance(sim, ['Secondary {0}'.format(p) for p in 'ABC'], 'NEMA'))\n",
    "    else:\n",
    "        metrics[\"Current Unbalance\"] = np.nan\n",
    "    return metrics"
   ],
   "outputs": [],
   "execution_count": null
  },
  {
   "cell_type": "code",
   "metadata": {},
   "source": [
    "metrics = pd.DataFrame(calc_metrics(config, sim) for config, sim in sims.items())"
   ],
   "outputs": [],
   "execution_count": null
  },
  {
   "cell_type": "code",
   "metadata": {},
   "source": [
    "metrics.groupby([\"Algorithm\", \"Network Type\"])[\"Energy Delivered (%)\"].describe()"
   ],
   "outputs": [],
   "execution_count": null
  },
  {
   "cell_type": "code",
   "metadata": {},
   "source": [
    "metrics.groupby([\"Algorithm\", \"Network Type\"])[\"Peak (kW)\"].describe()"
   ],
   "outputs": [],
   "execution_count": null
  },
  {
   "cell_type": "code",
   "metadata": {},
   "source": [
    "from matplotlib import cm\n",
    " \n",
    "plt.style.use('default')\n",
    "\n",
    "energy_delivered= metrics.pivot_table(\"Energy Delivered (%)\", \"Capacity (kW)\", [\"Network Type\", \"Algorithm\"])\n",
    "energy_delivered.rename(columns={'RR': 'Round Robin', 'MPC_CM': 'MPC', 'Offline_CM': 'Offline Optimal'}, inplace=True)\n",
    "\n",
    "column_order = ['Round Robin', 'FCFS', 'EDF', 'LLF', 'MPC','Offline Optimal']\n",
    "cap_range = (10, 100)\n",
    "\n",
    "cmap = cm.get_cmap('tab20')\n",
    "li = 0\n",
    "label2color = {'FCFS': cmap(0+li), 'EDF': cmap(2+li), 'LLF': cmap(4+li), 'Round Robin': cmap(6+li), \n",
    "               'Offline Optimal': cmap(8), 'MPC': cmap(9)}\n",
    "\n",
    "style = {\n",
    "    \"color\": [label2color[col] for col in column_order],\n",
    "    \"style\": [\"-\"]*5 + [\"*\"],\n",
    "    \"linewidth\": 2,\n",
    "    \"alpha\": .85,\n",
    "    #\"marker\": [\".\"]*5 + [None],\n",
    "    #\"fillstyle\": \"none\",\n",
    "    \"legend\": False,\n",
    "}\n",
    "\n",
    "plt.rc('text', usetex=False)\n",
    "plt.rcParams.update({'font.size': 11})\n",
    "\n",
    "# fig, ax = plt.subplots(ncols=2, sharex=True, sharey=True)\n",
    "fig, ax = plt.subplots(nrows=2, sharex=True, sharey=True)\n",
    "energy_delivered[\"single_phase\"][column_order].loc[cap_range[0]:cap_range[1]].plot(ax=ax[0], **style)\n",
    "energy_delivered[\"three_phase\"][column_order].loc[cap_range[0]:cap_range[1]].plot(ax=ax[1], **style)\n",
    "ax[0].legend(loc=\"best\")\n",
    "# pm[:105].plot(color=colors, style=styles, linewidth=4, alpha=0.85)\n",
    "\n",
    "ax[0].set_title(\"Single Phase\", fontsize=11)\n",
    "ax[1].set_title(\"Three Phase\", fontsize=11)\n",
    "\n",
    "fig.text(0.5, 0, \"Transformer Capacity (kW)\", ha='center')\n",
    "\n",
    "ax[0].set_xlabel(\"\")\n",
    "ax[1].set_xlabel(\"\")\n",
    "\n",
    "ax[0].set_ylabel(\"Demand Met (%)\")\n",
    "\n",
    "ax[0].grid(alpha=0.5)\n",
    "ax[1].grid(alpha=0.5)\n",
    "fig = plt.gcf()\n",
    "fig.set_size_inches(6, 6)\n",
    "plt.tight_layout()"
   ],
   "outputs": [],
   "execution_count": null
  },
  {
   "cell_type": "markdown",
   "metadata": {
    "colab_type": "text",
    "id": "s1M18vmqg8xW"
   },
   "source": [
    "In this figure we can see that with enough infrastructure capacity, all algorithms are able to meet 100% of demand. Since these requests were taken from real charging data, they are all feasible (meaning with enough capacity we should be able to meet them), so this is to be expected. \n",
    "\n",
    "\n",
    "\n",
    "The most interesting range, however, in when infrastructure is moderately constrained, in this case between 20-75 kW. In this range we see that algorithms which use information about departure times and energy demands (EDF and LLF) preform significantly better than those that do not (FCFS and RR). \n",
    "\n",
    "\n",
    "\n",
    "Another interesting, but less practical range of operation is the highly constrained regime. Here we see that RR outperforms the other algorithms. To see why we consider the infrastructure utilization plot below.\n"
   ]
  },
  {
   "cell_type": "code",
   "metadata": {},
   "source": [
    "utilization = metrics.pivot_table(\"Max Utilization (%)\", \"Capacity (kW)\", [\"Network Type\", \"Algorithm\"])\n",
    "fig, axes = plt.subplots(1,2, figsize=(15, 4), sharey=True)\n",
    "utilization[\"single_phase\"].plot(linewidth=2, alpha=0.75, ax=axes[0])\n",
    "utilization[\"three_phase\"].plot(linewidth=2, alpha=0.75, ax=axes[1])\n",
    "axes[0].set_xlim(10, 150)\n",
    "axes[1].set_xlim(10, 150)\n",
    "\n",
    "axes[0].set_ylim(0, 200)\n",
    "axes[1].set_ylim(0, 200)\n",
    "\n",
    "axes[0].set_ylabel('Max Utilization (%)')\n",
    "axes[0].set_title(\"Single Phase\")\n",
    "axes[1].set_title(\"Three Phase\")\n",
    "\n",
    "plt.tight_layout()"
   ],
   "outputs": [],
   "execution_count": null
  },
  {
   "cell_type": "markdown",
   "metadata": {
    "colab_type": "text",
    "id": "W27KSWfZn540"
   },
   "source": [
    "From this plot we can see that RR does a much better job at utilizing constrained infrastructure capacity (in terms of maximum utilization) than the other algorithms. To see why, we can examine the phase unbalance plot below. \n",
    "\n",
    "*Note that with high enough capacity, the max utilization for all algorithms converges. This is because there is only so much instantaneous demand in the underlying requests.*"
   ]
  },
  {
   "cell_type": "code",
   "metadata": {},
   "source": [
    "current_unbalance = metrics.pivot_table(\"Current Unbalance\", \"Capacity (kW)\", [\"Network Type\", \"Algorithm\"])\n",
    "fig, ax = plt.subplots(1, figsize=(7, 4), sharey=True)\n",
    "current_unbalance[\"three_phase\"].plot(linewidth=2, alpha=0.75, ax=ax)\n",
    "ax.set_xlim(10, 150)\n",
    "ax.set_ylabel(\"Max Current Unbalance\")\n",
    "ax.set_title(\"Three Phase\")\n",
    "plt.tight_layout()"
   ],
   "outputs": [],
   "execution_count": null
  },
  {
   "cell_type": "markdown",
   "metadata": {
    "colab_type": "text",
    "id": "3AXknJQ-pAeJ"
   },
   "source": [
    "Here we see that RR acheive much lower average current unbalance than the other algorithms, esspecailly at low infrastructure capacity. By balancing between phases RR is able to deliver power matching the capacity of the network as seen above. However, the other sorting based algorithms do not do as well balancing between phases, leading them to underutilize infrastructure capacity even when there are EVs present which could charge. \n",
    "\n",
    "*Note that with sufficient infrastructure capacity, all algorithms have the same average current unbalance. This is becasue the unbalance is inheriant in the demands, i.e. more energy was requested on phase A than on phase B or C.*\n",
    "\n",
    "\n",
    "This explains why RR is able to deliver more energy with highly constrained infrastructure. When infrastructure is less constrained, however, RR's shortcomings in not accounting for energy demands and departure times means that some EVs are fully charged before their deadline while others leave unsatisfied. This motivates us to examine algorithms which both balance between phases and account for session information such as the adaptive scheduling algorithm presented [here](https://ieeexplore.ieee.org/document/8587550)."
   ]
  },
  {
   "cell_type": "markdown",
   "metadata": {
    "colab_type": "text",
    "id": "S4He5fCer8KD"
   },
   "source": [
    "## Additional Visualizations"
   ]
  },
  {
   "cell_type": "markdown",
   "metadata": {
    "colab_type": "text",
    "id": "hy47o4ZfuS8T"
   },
   "source": [
    "### Line Currents\n",
    "\n",
    "ACN-Sim also allows us to take a deeper dive into the currents in our simulations. Here we visualize the line currents on the primary and secondary side of the transformer feeding the Caltech ACN for each algorithm. "
   ]
  },
  {
   "cell_type": "code",
   "metadata": {
    "colab": {},
    "colab_type": "code",
    "id": "DMfig5qPT369"
   },
   "source": [
    "def plot_line_currents(sims, names, start, length):\n",
    "  fig, axes = plt.subplots(2, len(sims), sharey='row', sharex=True, figsize=(16, 6))\n",
    "  axes[0,0].set_xlim(start, start+length)\n",
    "  fig.subplots_adjust(wspace=0.07, hspace=0.07)\n",
    "  for i, sim in enumerate(sims):\n",
    "    cc = analysis.constraint_currents(sim)\n",
    "    for line in 'ABC': \n",
    "      axes[0, i].plot(cc['Primary {0}'.format(line)], label='Primary {0}'.format(line), linewidth=2)\n",
    "      axes[1, i].plot(cc['Secondary {0}'.format(line)], label='Secondary {0}'.format(line), linewidth=2)\n",
    "\n",
    "    axes[1, i].axhline(416.67/3, color='gray', linestyle='--')\n",
    "    axes[0, i].axhline(180.5/3, color='gray', linestyle='--')\n",
    "    axes[0, i].set_title(names[i])\n",
    "    \n",
    "  axes[0,-1].legend()\n",
    "  axes[1,-1].legend()\n",
    "  plt.show()\n",
    "  return fig"
   ],
   "outputs": [],
   "execution_count": null
  },
  {
   "cell_type": "code",
   "metadata": {
    "colab": {
     "base_uri": "https://localhost:8080/",
     "height": 489
    },
    "colab_type": "code",
    "id": "0s7bN4FFUAYO",
    "outputId": "0f53aa40-8516-45ee-bf99-36b156e34598"
   },
   "source": [
    "alg_order = [\"Unctrl\", \"FCFS\", \"EDF\", \"LLF\", \"RR\", \"MPC_CM\", \"Offline_CM\"]\n",
    "fig = plot_line_currents([sims[\"three_phase\", alg, 50] for alg in alg_order], alg_order, 84, 180)"
   ],
   "outputs": [],
   "execution_count": null
  },
  {
   "cell_type": "markdown",
   "metadata": {
    "colab_type": "text",
    "id": "UUz5YuCJU1iA"
   },
   "source": [
    "### EV Charging Profile\n",
    "\n",
    "ACN-Sim also allows us to examine the charging rates of a particular EV with each algorithm."
   ]
  },
  {
   "cell_type": "code",
   "metadata": {
    "colab": {},
    "colab_type": "code",
    "id": "4VseYHEwXayl"
   },
   "source": [
    "def plot_ev_charging(sim, ev, ax, label, label_auto_place=False):\n",
    "    evse_index = sim.network.station_ids.index(ev.station_id)\n",
    "    session_len = ev.departure - ev.arrival\n",
    "    x = [sim.start + timedelta(minutes=5 * ev.arrival) + timedelta(minutes=5*i) for i in range(session_len)]\n",
    "    ax.step(x, sim.charging_rates[evse_index][ev.arrival:ev.departure],\n",
    "            label=label, linewidth=2)\n",
    "    if label_auto_place:\n",
    "        ax.legend()\n",
    "    else:\n",
    "        ax.text(0.02, 0.9, label, horizontalalignment='left', verticalalignment='top', transform=ax.transAxes)\n",
    "\n",
    "def plot_profiles(sims, network_type, cap, ev, end=None, label_auto_place=False):\n",
    "    fig, axes = plt.subplots(6, 1, sharey=True, sharex=True, figsize=(6, 6))\n",
    "\n",
    "    x_min = sim.start + timedelta(minutes=5 * ev.arrival)\n",
    "    x_max = end if end is not None else sim.start + timedelta(minutes=5 * ev.departure)\n",
    "    axes[0].set_xlim(x_min, x_max)\n",
    "    axes[-1].xaxis.set_major_formatter(mdates.DateFormatter('%H:%M'))\n",
    "    fig.autofmt_xdate()\n",
    "\n",
    "    axes[0].set_ylim(0, 45)\n",
    "    axes[0].set_yticks([0, 32])\n",
    "    \n",
    "    plt.subplots_adjust(hspace=.2)\n",
    "    fig.text(0.035, 0.55, 'Charging Current (A)', va='center', rotation='vertical')\n",
    "    print(ev.session_id)\n",
    "    for i, alg_name in enumerate([\"RR\", \"FCFS\", \"EDF\", \"LLF\", \"MPC\", \"Offline\"]):\n",
    "        label = alg_name if alg_name != \"Offline\" else \"Offline Optimal\"\n",
    "        plot_ev_charging(sims[network_type, alg_name, cap], ev, axes[i], label=label, label_auto_place=label_auto_place)\n",
    "        axes[i].xaxis.set_major_formatter(mdates.DateFormatter('%H:%M'))\n",
    "        axes[i].spines['right'].set_visible(False)\n",
    "        axes[i].spines['top'].set_visible(False)\n",
    "    return fig"
   ],
   "outputs": [],
   "execution_count": null
  },
  {
   "cell_type": "markdown",
   "metadata": {},
   "source": [
    "Plot charging profiles for session '2_39_78_360_2019-03-05 18:22:15.939445' which highlights the difference between the algorithms. "
   ]
  },
  {
   "cell_type": "code",
   "metadata": {
    "colab": {
     "base_uri": "https://localhost:8080/",
     "height": 489
    },
    "colab_type": "code",
    "id": "bF6gZOD2Uiba",
    "outputId": "99cf9513-f93c-413a-d243-5cc91b75aefc"
   },
   "source": [
    "# ev = sims[network_type, \"RR\", cap].ev_history['2_39_78_360_2019-03-05 18:22:15.939445']\n",
    "# end =  timezone.localize(datetime(2019, 3, 5, 15)\n",
    "ev = sims[network_type, \"RR\", cap].ev_history['2_39_129_17_2019-03-26 16:04:30.975643']\n",
    "end = datetime(2019, 3, 26, 22)\n",
    "# end = None\n",
    "network_type = \"three_phase\"\n",
    "cap = 50\n",
    "fig = plot_profiles(sims, network_type, cap, ev, end)"
   ],
   "outputs": [],
   "execution_count": null
  },
  {
   "cell_type": "code",
   "metadata": {},
   "source": [
    "fig.savefig(f\"figures/profiles_{ev.session_id}.pdf\", dpi=300)\n",
    "fig.savefig(f\"figures/ev_charging_profiles_2.pdf\", dpi=300)"
   ],
   "outputs": [],
   "execution_count": null
  },
  {
   "cell_type": "markdown",
   "metadata": {
    "colab_type": "text",
    "id": "Msge1KCAjY36"
   },
   "source": [
    "Plot a random EV's profile to see how the algorithms compare for different sessions."
   ]
  },
  {
   "cell_type": "code",
   "metadata": {},
   "source": [
    "ev = random.choice(list(sims[network_type, \"RR\", cap].ev_history.values()))\n",
    "network_type = \"three_phase\"\n",
    "cap = 50\n",
    "plot_profiles(sims, network_type, cap, ev, label_auto_place=True)\n",
    "plt.show()"
   ],
   "outputs": [],
   "execution_count": null
  }
 ],
 "metadata": {
  "colab": {
   "collapsed_sections": [],
   "include_colab_link": true,
   "name": "baseline_algorithms_w_constrained_infrastructure.ipynb",
   "provenance": []
  },
  "kernelspec": {
   "display_name": "Python 3",
   "language": "python",
   "name": "python3"
  },
  "language_info": {
   "codemirror_mode": {
    "name": "ipython",
    "version": 3
   },
   "file_extension": ".py",
   "mimetype": "text/x-python",
   "name": "python",
   "nbconvert_exporter": "python",
   "pygments_lexer": "ipython3",
   "version": "3.8.1"
  }
 },
 "nbformat": 4,
 "nbformat_minor": 4
}
