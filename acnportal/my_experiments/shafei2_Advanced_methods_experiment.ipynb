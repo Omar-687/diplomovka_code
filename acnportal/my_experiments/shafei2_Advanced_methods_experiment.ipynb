{
 "cells": [
  {
   "cell_type": "code",
   "outputs": [
    {
     "name": "stdout",
     "output_type": "stream",
     "text": [
      "Requirement already satisfied: acnportal in c:\\users\\omi\\appdata\\local\\programs\\python\\python312\\lib\\site-packages (0.3.3)\n",
      "Requirement already satisfied: numpy in c:\\users\\omi\\appdata\\local\\programs\\python\\python312\\lib\\site-packages (from acnportal) (1.26.0)\n",
      "Requirement already satisfied: pandas in c:\\users\\omi\\appdata\\local\\programs\\python\\python312\\lib\\site-packages (from acnportal) (2.1.3)\n",
      "Requirement already satisfied: matplotlib in c:\\users\\omi\\appdata\\local\\programs\\python\\python312\\lib\\site-packages (from acnportal) (3.8.2)\n",
      "Requirement already satisfied: requests in c:\\users\\omi\\appdata\\local\\programs\\python\\python312\\lib\\site-packages (from acnportal) (2.31.0)\n",
      "Requirement already satisfied: pytz in c:\\users\\omi\\appdata\\local\\programs\\python\\python312\\lib\\site-packages (from acnportal) (2023.3.post1)\n",
      "Requirement already satisfied: typing-extensions in c:\\users\\omi\\appdata\\local\\programs\\python\\python312\\lib\\site-packages (from acnportal) (4.8.0)\n",
      "Requirement already satisfied: scikit-learn in c:\\users\\omi\\appdata\\local\\programs\\python\\python312\\lib\\site-packages (from acnportal) (1.3.2)\n",
      "Requirement already satisfied: contourpy>=1.0.1 in c:\\users\\omi\\appdata\\local\\programs\\python\\python312\\lib\\site-packages (from matplotlib->acnportal) (1.2.0)\n",
      "Requirement already satisfied: cycler>=0.10 in c:\\users\\omi\\appdata\\local\\programs\\python\\python312\\lib\\site-packages (from matplotlib->acnportal) (0.12.1)\n",
      "Requirement already satisfied: fonttools>=4.22.0 in c:\\users\\omi\\appdata\\local\\programs\\python\\python312\\lib\\site-packages (from matplotlib->acnportal) (4.45.1)\n",
      "Requirement already satisfied: kiwisolver>=1.3.1 in c:\\users\\omi\\appdata\\local\\programs\\python\\python312\\lib\\site-packages (from matplotlib->acnportal) (1.4.5)\n",
      "Requirement already satisfied: packaging>=20.0 in c:\\users\\omi\\appdata\\local\\programs\\python\\python312\\lib\\site-packages (from matplotlib->acnportal) (23.2)\n",
      "Requirement already satisfied: pillow>=8 in c:\\users\\omi\\appdata\\local\\programs\\python\\python312\\lib\\site-packages (from matplotlib->acnportal) (10.1.0)\n",
      "Requirement already satisfied: pyparsing>=2.3.1 in c:\\users\\omi\\appdata\\local\\programs\\python\\python312\\lib\\site-packages (from matplotlib->acnportal) (3.1.1)\n",
      "Requirement already satisfied: python-dateutil>=2.7 in c:\\users\\omi\\appdata\\local\\programs\\python\\python312\\lib\\site-packages (from matplotlib->acnportal) (2.8.2)\n",
      "Requirement already satisfied: tzdata>=2022.1 in c:\\users\\omi\\appdata\\local\\programs\\python\\python312\\lib\\site-packages (from pandas->acnportal) (2023.3)\n",
      "Requirement already satisfied: charset-normalizer<4,>=2 in c:\\users\\omi\\appdata\\local\\programs\\python\\python312\\lib\\site-packages (from requests->acnportal) (3.3.2)\n",
      "Requirement already satisfied: idna<4,>=2.5 in c:\\users\\omi\\appdata\\local\\programs\\python\\python312\\lib\\site-packages (from requests->acnportal) (3.4)\n",
      "Requirement already satisfied: urllib3<3,>=1.21.1 in c:\\users\\omi\\appdata\\local\\programs\\python\\python312\\lib\\site-packages (from requests->acnportal) (2.1.0)\n",
      "Requirement already satisfied: certifi>=2017.4.17 in c:\\users\\omi\\appdata\\local\\programs\\python\\python312\\lib\\site-packages (from requests->acnportal) (2023.11.17)\n",
      "Requirement already satisfied: scipy>=1.5.0 in c:\\users\\omi\\appdata\\local\\programs\\python\\python312\\lib\\site-packages (from scikit-learn->acnportal) (1.11.4)\n",
      "Requirement already satisfied: joblib>=1.1.1 in c:\\users\\omi\\appdata\\local\\programs\\python\\python312\\lib\\site-packages (from scikit-learn->acnportal) (1.3.2)\n",
      "Requirement already satisfied: threadpoolctl>=2.0.0 in c:\\users\\omi\\appdata\\local\\programs\\python\\python312\\lib\\site-packages (from scikit-learn->acnportal) (3.2.0)\n",
      "Requirement already satisfied: six>=1.5 in c:\\users\\omi\\appdata\\local\\programs\\python\\python312\\lib\\site-packages (from python-dateutil>=2.7->matplotlib->acnportal) (1.16.0)\n"
     ]
    },
    {
     "name": "stderr",
     "output_type": "stream",
     "text": [
      "\n",
      "[notice] A new release of pip is available: 23.3.1 -> 24.0\n",
      "[notice] To update, run: python.exe -m pip install --upgrade pip\n"
     ]
    }
   ],
   "source": [
    "!pip install acnportal \n",
    "# !pip install Mosek"
   ],
   "metadata": {
    "collapsed": false,
    "ExecuteTime": {
     "end_time": "2024-02-13T12:48:08.894976Z",
     "start_time": "2024-02-13T12:48:05.467143500Z"
    }
   },
   "id": "f6b94c92a067e86e",
   "execution_count": 37
  },
  {
   "cell_type": "markdown",
   "source": [
    "## Imports"
   ],
   "metadata": {
    "collapsed": false
   },
   "id": "e110fde048ab4efd"
  },
  {
   "cell_type": "code",
   "outputs": [],
   "source": [
    "from acnportal.acnsim.events import GaussianMixtureEvents\n",
    "from acnportal import acndata, acnsim\n",
    "import pytz \n",
    "from datetime import datetime\n",
    "import adacharge\n",
    "from adacharge import *\n",
    "from acnportal.acnsim.analysis import (proportion_of_energy_delivered,\n",
    "                                       total_energy_delivered,\n",
    "                                       total_energy_requested,\n",
    "                                       proportion_of_demands_met,\n",
    "                                       energy_cost,\n",
    "                                       )\n",
    "\n",
    "from acnportal.signals.tariffs.tou_tariff import TimeOfUseTariff\n",
    "import pandas\n",
    "# what is demand charge?   demand charge = peak demand * demand charge rate \n",
    "\n",
    "from acnportal.acnsim import Simulator\n",
    "# from acnportal.acnsim import _increase_width\n",
    "\n",
    "\n",
    "from acnportal.acnsim.network import ChargingNetwork\n",
    "from acnportal.contrib.acnsim.network import StochasticNetwork\n",
    "\n",
    "from acnportal import algorithms\n",
    "from copy import deepcopy\n",
    "import pandas as pd \n",
    "import numpy as np \n",
    "import cvxpy\n",
    "from cvxpy import ECOS, MOSEK"
   ],
   "metadata": {
    "collapsed": false,
    "ExecuteTime": {
     "end_time": "2024-02-13T12:48:08.905567400Z",
     "start_time": "2024-02-13T12:48:08.897135100Z"
    }
   },
   "id": "ef210317bf859701",
   "execution_count": 38
  },
  {
   "cell_type": "markdown",
   "source": [
    "## Experimental setup"
   ],
   "metadata": {
    "collapsed": false
   },
   "id": "894403ec6545c2ee"
  },
  {
   "cell_type": "code",
   "outputs": [
    {
     "name": "stdout",
     "output_type": "stream",
     "text": [
      "Difference in days: 2\n",
      "installed solvers:  ['CLARABEL', 'ECOS', 'ECOS_BB', 'MOSEK', 'OSQP', 'SCIPY', 'SCS']\n"
     ]
    }
   ],
   "source": [
    "# Timezone of the ACN we are using.\n",
    "timezone = pytz.timezone('America/Los_Angeles')\n",
    "API_KEY = 'DEMO_TOKEN'\n",
    "\n",
    "# Start and End times are used when collecting data.\n",
    "start = timezone.localize(datetime(2018, 9, 5))\n",
    "end = timezone.localize(datetime(2018, 9, 7))\n",
    "\n",
    "# Calculate the difference\n",
    "difference_in_days = (end - start).days\n",
    "\n",
    "print(\"Difference in days:\", difference_in_days)\n",
    "\n",
    "\n",
    "\n",
    "# How long each time discrete time interval in the simulation should be.\n",
    "period = 5  # minutes\n",
    "\n",
    "# Voltage of the network.\n",
    "voltage = 200  # volts\n",
    "transformer_cap = 50\n",
    "# Default maximum charging rate for each EV battery.\n",
    "default_battery_power = 32 * voltage / 1000 # kW\n",
    "\n",
    "# Identifier of the site where data will be gathered.\n",
    "site = 'caltech'\n",
    "\n",
    "\n",
    "client = acndata.DataClient(API_KEY)\n",
    "\n",
    "SAMPLES_PER_DAY = [100] * difference_in_days\n",
    "\n",
    "print('installed solvers: ',cp.installed_solvers())\n",
    "# default_battery_power = 32 * voltage / 1000  # kW\n",
    "def level_2_network(transformer_cap=200, voltage=208, evse_per_phase=34):\n",
    "    \"\"\" Configurable charging network for level-2 EVSEs connected line to line\n",
    "        at 208 V.\n",
    "\n",
    "    Args:\n",
    "        transformer_cap (float): Capacity of the transformer feeding the network\n",
    "          [kW]\n",
    "        evse_per_phase (int): Number of EVSEs on each phase. Total number of\n",
    "          EVSEs will be 3 * evse_per_phase.\n",
    "\n",
    "    Returns:\n",
    "        ChargingNetwork: Configured ChargingNetwork.\n",
    "    \"\"\"\n",
    "    network = StochasticNetwork(early_departure=True)\n",
    "    voltage = 208\n",
    "    evse_type = 'AeroVironment'\n",
    "\n",
    "    # Define the sets of EVSEs in the Caltech ACN.\n",
    "    AB_ids = ['AB-{0}'.format(i) for i in range(evse_per_phase)]\n",
    "    BC_ids = ['BC-{0}'.format(i) for i in range(evse_per_phase)]\n",
    "    CA_ids = ['CA-{0}'.format(i) for i in range(evse_per_phase)]\n",
    "\n",
    "    # Add Caltech EVSEs\n",
    "    for evse_id in AB_ids:\n",
    "        network.register_evse(acnsim.get_evse_by_type(evse_id, evse_type), voltage, 30)\n",
    "    for evse_id in BC_ids:\n",
    "        network.register_evse(acnsim.get_evse_by_type(evse_id, evse_type), voltage, -90)\n",
    "    for evse_id in CA_ids:\n",
    "        network.register_evse(acnsim.get_evse_by_type(evse_id, evse_type), voltage, 150)\n",
    "\n",
    "    # Add Caltech Constraint Set\n",
    "    AB = acnsim.Current(AB_ids)\n",
    "    BC = acnsim.Current(BC_ids)\n",
    "    CA = acnsim.Current(CA_ids)\n",
    "\n",
    "    # Define intermediate currents\n",
    "    I3a = AB - CA\n",
    "    I3b = BC - AB\n",
    "    I3c = CA - BC\n",
    "    I2a = (1 / 4) * (I3a - I3c)\n",
    "    I2b = (1 / 4) * (I3b - I3a)\n",
    "    I2c = (1 / 4) * (I3c - I3b)\n",
    "\n",
    "    # Build constraint set\n",
    "    primary_side_constr = transformer_cap * 1000 / 3 / 277\n",
    "    secondary_side_constr = transformer_cap * 1000 / 3 / 120\n",
    "    network.add_constraint(I3a, secondary_side_constr, name='Secondary A')\n",
    "    network.add_constraint(I3b, secondary_side_constr, name='Secondary B')\n",
    "    network.add_constraint(I3c, secondary_side_constr, name='Secondary C')\n",
    "    network.add_constraint(I2a, primary_side_constr, name='Primary A')\n",
    "    network.add_constraint(I2b, primary_side_constr, name='Primary B')\n",
    "    network.add_constraint(I2c, primary_side_constr, name='Primary C')\n",
    "\n",
    "    return network\n",
    "\n",
    "\n",
    "\n",
    "# preco offline optimalizacia nejde pre stochasticke problemy? su neidealne modely? alebo zle priradenie nabijaciek?\n",
    "# skusit ci to ide pre stochastic s rovnakym poctom EVSE ako EV a aj rovnakymi indexami\n",
    "# pozriet sa blizsie na tie swapy ci su dobre alebo nie v realnom zivote\n",
    "# skusit este pohladat ze ci oni pouzivaju to pre StochasticNetwork\n",
    "\n",
    "# For this experiment we use the predefined CaltechACN network.\n",
    "cn = acnsim.sites.caltech_acn(basic_evse=True,\n",
    "                              voltage=voltage,\n",
    "                              transformer_cap=transformer_cap,\n",
    "                              # network_type=StochasticNetwork\n",
    "                              )\n",
    "\n",
    "# all_station_ids = [f'station_{i}' for i in range(difference_in_days*100)]\n",
    "# cn = acnsim.sites.simple_acn(station_ids=all_station_ids,\n",
    "#                               voltage=voltage,\n",
    "#                               aggregate_cap=transformer_cap)\n",
    "# cn.early_departure = True\n",
    "\n",
    "# cn = level_2_network(transformer_cap=transformer_cap,\n",
    "#                      voltage=voltage,\n",
    "#                      evse_per_phase=34)\n"
   ],
   "metadata": {
    "collapsed": false,
    "ExecuteTime": {
     "end_time": "2024-02-13T12:48:08.993915100Z",
     "start_time": "2024-02-13T12:48:08.913358Z"
    }
   },
   "id": "aabafe735fb32b4a",
   "execution_count": 39
  },
  {
   "cell_type": "markdown",
   "source": [],
   "metadata": {
    "collapsed": false
   },
   "id": "170796eff6661271"
  },
  {
   "cell_type": "code",
   "outputs": [
    {
     "name": "stdout",
     "output_type": "stream",
     "text": [
      "186\n"
     ]
    }
   ],
   "source": [
    "\n",
    "\n",
    "gmm_events = GaussianMixtureEvents(n_components=20)\n",
    "# # what is n_components? The number of mixture components.\n",
    "sessions = list(client.get_sessions_by_time(site, start, end, timeseries=False))\n",
    "gmm_events.fit(sessions)\n",
    "# events = gmm_events.generate_events(sessions_per_day=SAMPLES_PER_DAY, period=period, voltage=voltage, max_battery_power=default_battery_power)\n",
    "events = acnsim.acndata_events.generate_events(API_KEY, site, start, end, period, voltage, default_battery_power)\n",
    "\n",
    "# gaussian mixture models inherits from stochastic models\n",
    "# arguments of generate events = sessions_per_day:list[int] (number of sessions to sample for each day), period:float, voltage:float,\n",
    "# max_battery_power:float\n",
    "print(len(events))\n",
    "# for ev in events.queue():\n",
    "#     print(ev)\n",
    "\n",
    "\n",
    "\n"
   ],
   "metadata": {
    "collapsed": false,
    "ExecuteTime": {
     "end_time": "2024-02-13T12:48:13.848995400Z",
     "start_time": "2024-02-13T12:48:08.979644500Z"
    }
   },
   "id": "5ee3bbbaa206f041",
   "execution_count": 40
  },
  {
   "cell_type": "code",
   "outputs": [],
   "source": [
    "simulations = []\n",
    "labels = []\n",
    "signals = {'tariff': TimeOfUseTariff('sce_tou_ev_4_march_2019')}\n",
    "# there are like 4-5 tariff schedules, but there are some functions to get schedule\n",
    "\n"
   ],
   "metadata": {
    "collapsed": false,
    "ExecuteTime": {
     "end_time": "2024-02-13T12:48:13.850000800Z",
     "start_time": "2024-02-13T12:48:13.842848100Z"
    }
   },
   "id": "890e3036ff006984",
   "execution_count": 41
  },
  {
   "cell_type": "markdown",
   "source": [
    "## Model Predictive Control"
   ],
   "metadata": {
    "collapsed": false
   },
   "id": "40ad8951c7b99ec"
  },
  {
   "cell_type": "code",
   "outputs": [],
   "source": [
    "quick_charge_obj = [\n",
    "    adacharge.ObjectiveComponent(total_energy),\n",
    "                    adacharge.ObjectiveComponent(adacharge.quick_charge),\n",
    "                    adacharge.ObjectiveComponent(adacharge.equal_share, 1e-12)\n",
    "]\n",
    "mpc = adacharge.AdaptiveSchedulingAlgorithm(quick_charge_obj, solver=\"ECOS\")\n",
    "# mpc = adacharge.AdaptiveSchedulingAlgorithm(quick_charge_obj, solver=\"MOSEK\")\n",
    "# -> optimiser MOSEK not installed fix this problem\n",
    "\n",
    "\n",
    "# look for another solvers that can stop the warning to be shown \n",
    "\n",
    "\n",
    "# mpc_sp_sim, mpc_tp_sim = experiment(mpc)"
   ],
   "metadata": {
    "collapsed": false,
    "ExecuteTime": {
     "end_time": "2024-02-13T12:48:13.864860900Z",
     "start_time": "2024-02-13T12:48:13.850000800Z"
    }
   },
   "id": "37424d63ddf887f3",
   "execution_count": 42
  },
  {
   "cell_type": "code",
   "outputs": [],
   "source": [
    "uncontrolled = algorithms.SortedSchedulingAlgo(algorithms.UncontrolledCharging())\n",
    "simunc = acnsim.Simulator(deepcopy(cn), uncontrolled,deepcopy(events), start, period=period, verbose=False, signals=signals )\n",
    "\n",
    "# labels.append('Uncontrolled charging')\n",
    "# simulations.append(simunc)\n"
   ],
   "metadata": {
    "collapsed": false,
    "ExecuteTime": {
     "end_time": "2024-02-13T12:48:13.904958300Z",
     "start_time": "2024-02-13T12:48:13.860286Z"
    }
   },
   "id": "15a618b641140417",
   "execution_count": 43
  },
  {
   "cell_type": "code",
   "outputs": [],
   "source": [
    "llf = algorithms.SortedSchedulingAlgo(algorithms.least_laxity_first)\n",
    "# station id sa prideluje od 0 do nekonecna \n",
    "simllf = acnsim.Simulator(deepcopy(cn), llf,deepcopy(events), start, period=period, verbose=False, signals=signals )\n",
    "simllf.run()\n",
    "\n",
    "\n",
    "labels.append('LLF with binary search')\n",
    "simulations.append(simllf)\n",
    "\n"
   ],
   "metadata": {
    "collapsed": false,
    "ExecuteTime": {
     "end_time": "2024-02-13T12:48:30.929701400Z",
     "start_time": "2024-02-13T12:48:13.881547700Z"
    }
   },
   "id": "ebdccdec15c4a6c7",
   "execution_count": 44
  },
  {
   "cell_type": "code",
   "outputs": [],
   "source": [
    "# sim1 = acnsim.Simulator(deepcopy(cn), mpc,deepcopy(events), start, period=period, verbose=False, signals=signals )\n",
    "# # print(sim1.get_active_evs())\n",
    "# \n",
    "# print('before',mpc.interface.infrastructure_info()._station_ids_dict )\n",
    "# # sim1.run()\n",
    "# print('after',mpc.interface.infrastructure_info()._station_ids_dict)\n",
    "# \n",
    "# def _increase_width(a, target_width):\n",
    "#     \"\"\" Returns a new 2-D numpy array with target_width number of columns, with the contents\n",
    "#     of a up to the first a.shape[1] columns and 0's thereafter.\n",
    "# \n",
    "#     Args:\n",
    "#         a (numpy.Array): 2-D numpy array to be expanded.\n",
    "#         target_width (int): desired number of columns; must be greater than number of columns in a\n",
    "#     Returns:\n",
    "#         numpy.Array\n",
    "#     \"\"\"\n",
    "#     if target_width <= a.shape[1]:\n",
    "#         return a\n",
    "#     new_matrix = np.zeros((a.shape[0], target_width))\n",
    "#     new_matrix[:, : a.shape[1]] = a\n",
    "#     return new_matrix\n",
    "# \n",
    "# \n",
    "# # TODO prepisat funkciu run a zistit kde je chyba\n",
    "# def run2(sim:acnsim.Simulator):\n",
    "#      if sim.scheduler is None:\n",
    "#         raise TypeError(\"Add a scheduler before attempting to call\" \" run().\")\n",
    "#      \n",
    "#      while not sim.event_queue.empty():\n",
    "#             current_events = sim.event_queue.get_current_events(sim._iteration)\n",
    "#             # print('type  = ',type(current_events))\n",
    "#             # print('current events', current_events)\n",
    "#             # for event_car in current_events:\n",
    "#             #     ...\n",
    "#                 # print(type(event_car))\n",
    "#                 # print('before',event_car.ev.station_id)\n",
    "#             \n",
    "#             \n",
    "#             for e in current_events:\n",
    "#                 sim.event_history.append(e)\n",
    "#                 sim._process_event(e)\n",
    "#                 # print('after: ',e.ev.station_id)\n",
    "#             if (\n",
    "#                 sim._resolve\n",
    "#                 or sim.max_recompute is not None\n",
    "#                 and (\n",
    "#                     sim._last_schedule_update is None\n",
    "#                     or sim._iteration - sim._last_schedule_update\n",
    "#                     >= sim.max_recompute\n",
    "#                 )\n",
    "#             ):\n",
    "#                 new_schedule = sim.scheduler.run()\n",
    "#                 sim._update_schedules(new_schedule)\n",
    "#                 if sim.schedule_history is not None:\n",
    "#                     sim.schedule_history[sim._iteration] = new_schedule\n",
    "#                 sim._last_schedule_update = sim._iteration\n",
    "#                 sim._resolve = False\n",
    "#             if not sim.event_queue.empty():\n",
    "#                 width_increase = sim.event_queue.get_last_timestamp() + 1\n",
    "#             else:\n",
    "#                 width_increase = sim._iteration + 1\n",
    "#             sim.pilot_signals = _increase_width(sim.pilot_signals, width_increase)\n",
    "#             sim.charging_rates = _increase_width(sim.charging_rates, width_increase)\n",
    "#             sim.network.update_pilots(sim.pilot_signals, sim._iteration, sim.period)\n",
    "#             sim._store_actual_charging_rates()\n",
    "#             sim.network.post_charging_update()\n",
    "#             sim._iteration = sim._iteration + 1\n",
    "# run2(sim=sim1)\n",
    "# \n",
    "# stats = mpc.solve_stats\n",
    "# overall_solve_time = 0\n",
    "# all_sessions = 0\n",
    "# for diction in stats:\n",
    "#     overall_solve_time += diction['solve_time']\n",
    "#     # all_sessions += diction['active_sessions']\n",
    "#     \n",
    "# print(overall_solve_time)\n",
    "# print(all_sessions)\n",
    "# events.to_json('anc.json')\n",
    "# \n",
    "# labels.append('MPC with convex optimisation solver')\n",
    "# simulations.append(sim1)\n",
    "# try mosek solver? or is it only with offline optimisation\n"
   ],
   "metadata": {
    "collapsed": false,
    "ExecuteTime": {
     "end_time": "2024-02-13T12:48:30.940209400Z",
     "start_time": "2024-02-13T12:48:30.929701400Z"
    }
   },
   "id": "c290dc4dc56152d2",
   "execution_count": 45
  },
  {
   "cell_type": "code",
   "outputs": [],
   "source": [
    "def configure_sim(\n",
    "    alg, \n",
    "    cap, \n",
    "    start, \n",
    "    events, \n",
    "    basic_evse=True,\n",
    "    estimate_max_rate=False, \n",
    "    uninterrupted_charging=False,\n",
    "    quantized=False,\n",
    "    allow_overcharging=False,\n",
    "    tariff_name=None,\n",
    "    offline=False\n",
    "):\n",
    "    \"\"\" Configure simulation. \"\"\"\n",
    "    # start_time = TIMEZONE.localize(datetime.strptime(start, '%m-%d-%Y'))\n",
    "        \n",
    "    if estimate_max_rate:\n",
    "        alg.max_rate_estimator = algorithms.SimpleRampdown()\n",
    "        alg.estimate_max_rate = True\n",
    "    alg.uninterrupted_charging = uninterrupted_charging\n",
    "    alg.allow_overcharging = allow_overcharging\n",
    "\n",
    "    # Some algorithms support a quantized option\n",
    "    if quantized:\n",
    "        try:\n",
    "            alg.quantize = True\n",
    "        except:\n",
    "            pass\n",
    "        try:\n",
    "            alg.reallocate = True\n",
    "        except:\n",
    "            pass\n",
    "\n",
    "    cn = acnsim.sites.caltech_acn(voltage=voltage,\n",
    "                                  transformer_cap=cap,\n",
    "                                  basic_evse=basic_evse,\n",
    "                                  network_type=StochasticNetwork)\n",
    "    if tariff_name is not None:\n",
    "        signals = {'tariff': TimeOfUseTariff(tariff_name)}\n",
    "    else:\n",
    "        signals = {}\n",
    "    sim = acnsim.Simulator(cn, alg, events, start, signals=signals,\n",
    "                           period=period, verbose=False)\n",
    "    \n",
    "    if offline:\n",
    "        alg.register_events(events)\n",
    "        alg.solve()\n",
    "    \n",
    "    return sim"
   ],
   "metadata": {
    "collapsed": false,
    "ExecuteTime": {
     "end_time": "2024-02-13T12:48:30.949113700Z",
     "start_time": "2024-02-13T12:48:30.943198500Z"
    }
   },
   "id": "ee882bb6fb407832",
   "execution_count": 46
  },
  {
   "cell_type": "code",
   "outputs": [],
   "source": [
    "optimal_obj = [adacharge.ObjectiveComponent(total_energy)]\n",
    "optimal_alg = adacharge.AdaptiveChargingAlgorithmOffline(optimal_obj, solver='ECOS')\n",
    "# events2 = deepcopy(events)\n",
    "# currently not working probably due to stochastically generated data\n",
    "# # optimal_alg.run()\n",
    "# \n",
    "\n",
    "experiment_events = deepcopy(events)\n",
    "sim2 = acnsim.Simulator(deepcopy(cn), optimal_alg,experiment_events, start, period=period, verbose=False, signals=signals )\n",
    "\n",
    "optimal_alg.register_events(experiment_events)\n",
    "optimal_alg.solve()\n",
    "sim2.run()\n",
    "\n",
    "labels.append('Offline MPC')\n",
    "simulations.append(sim2)\n",
    "\n",
    "\n",
    "\n"
   ],
   "metadata": {
    "collapsed": false,
    "ExecuteTime": {
     "end_time": "2024-02-13T12:48:34.565460200Z",
     "start_time": "2024-02-13T12:48:30.949113700Z"
    }
   },
   "id": "5a28450f41b812bc",
   "execution_count": 47
  },
  {
   "cell_type": "code",
   "outputs": [
    {
     "name": "stdout",
     "output_type": "stream",
     "text": [
      "all session ids:  ['2_39_79_383_2018-09-05 07:01:52.123265', '2_39_78_367_2018-09-05 11:54:26.985893', '2_39_79_378_2018-09-05 13:26:05.981247', '2_39_79_380_2018-09-05 13:49:44.986297', '2_39_79_381_2018-09-05 14:00:03.775977', '2_39_95_27_2018-09-05 14:07:58.875615', '2_39_78_366_2018-09-05 14:09:36.103199', '2_39_79_376_2018-09-05 14:27:02.561665', '2_39_138_29_2018-09-05 14:33:26.966732', '2_39_139_28_2018-09-05 14:34:05.345622', '2_39_79_382_2018-09-05 14:34:36.003068', '2_39_79_379_2018-09-05 14:48:31.756291', '2_39_79_377_2018-09-05 14:55:16.057671', '2_39_78_361_2018-09-05 14:57:21.868805', '2_39_88_24_2018-09-05 15:11:45.841374', '2_39_78_364_2018-09-05 15:14:59.966906', '2_39_130_31_2018-09-05 15:26:44.071246', '2_39_78_365_2018-09-05 15:27:14.529170', '2_39_129_17_2018-09-05 15:29:11.364122', '2_39_91_437_2018-09-05 15:30:41.640152', '2_39_128_18_2018-09-05 15:33:49.360725', '2_39_78_363_2018-09-05 15:33:54.732635', '2_39_127_19_2018-09-05 15:38:36.210722', '2_39_89_25_2018-09-05 15:41:27.416339', '2_39_95_444_2018-09-05 15:42:12.819299', '2_39_131_30_2018-09-05 15:42:29.019774', '2_39_88_438_2018-09-05 15:46:28.155431', '2_39_78_360_2018-09-05 15:46:44.822800', '2_39_130_564_2018-09-05 15:49:47.247752', '2_39_92_442_2018-09-05 15:53:35.538290', '2_39_78_362_2018-09-05 15:53:45.512938', '2_39_124_22_2018-09-05 15:57:04.922884', '2_39_90_440_2018-09-05 16:00:29.074755', '2_39_89_439_2018-09-05 16:06:20.851825', '2_39_90_26_2018-09-05 16:11:40.461414', '2_39_126_20_2018-09-05 16:12:08.522033', '2_39_125_21_2018-09-05 16:15:37.062131', '2_39_123_23_2018-09-05 16:16:50.050216', '2_39_123_557_2018-09-05 16:22:11.982916', '2_39_126_560_2018-09-05 16:26:12.674121', '2_39_92_436_2018-09-05 16:26:42.854626', '2_39_125_559_2018-09-05 16:45:40.478740', '2_39_129_563_2018-09-05 16:46:55.499018', '2_39_127_561_2018-09-05 16:49:51.678953', '2_39_138_566_2018-09-05 16:56:56.940845', '2_39_131_565_2018-09-05 17:30:09.241687', '2_39_126_20_2018-09-05 17:40:52.243695', '2_39_82_385_2018-09-05 18:11:09.838845', '2_39_78_366_2018-09-05 18:53:37.264281', '2_39_131_30_2018-09-05 19:19:09.186019', '2_39_88_24_2018-09-05 19:22:47.168351', '2_39_78_363_2018-09-05 20:08:11.940208', '2_39_79_377_2018-09-05 20:25:21.402004', '2_39_78_367_2018-09-05 20:30:19.670041', '2_39_123_23_2018-09-05 20:55:54.029021', '2_39_89_439_2018-09-05 21:09:43.153147', '2_39_89_25_2018-09-05 21:41:34.082904', '2_39_130_564_2018-09-05 21:56:12.314016', '2_39_127_19_2018-09-05 22:57:20.070423', '2_39_138_566_2018-09-05 23:17:37.559501', '2_39_129_17_2018-09-05 23:30:36.738123', '2_39_78_364_2018-09-06 00:17:36.500010', '2_39_128_18_2018-09-06 00:18:23.852079', '2_39_79_379_2018-09-06 00:40:42.299852', '2_39_131_565_2018-09-06 00:55:27.573140', '2_39_131_30_2018-09-06 01:00:17.504157', '2_39_95_27_2018-09-06 01:03:54.928777', '2_39_138_29_2018-09-06 01:07:48.892547', '2_39_130_31_2018-09-06 01:23:05.698141', '2_39_139_28_2018-09-06 01:33:06.189644', '2_39_88_24_2018-09-06 01:38:32.169539', '2_39_128_18_2018-09-06 01:57:24.406666', '2_39_79_381_2018-09-06 02:11:50.412986', '2_39_90_440_2018-09-06 02:33:49.292231', '2_39_131_30_2018-09-06 02:38:20.967515', '2_39_90_26_2018-09-06 02:44:25.290536', '2_39_79_378_2018-09-06 02:44:28.502579', '2_39_123_23_2018-09-06 02:56:36.541434', '2_39_129_17_2018-09-06 02:56:42.682075', '2_39_78_360_2018-09-06 03:01:06.381009', '2_39_124_22_2018-09-06 03:11:08.257897', '2_39_138_29_2018-09-06 03:24:02.525265', '2_39_79_377_2018-09-06 03:27:39.914480', '2_39_79_379_2018-09-06 03:27:57.952694', '2_39_139_28_2018-09-06 05:07:01.355810', '2_39_78_366_2018-09-06 05:09:04.087836', '2_39_78_365_2018-09-06 05:13:04.132354', '2_39_131_30_2018-09-06 05:15:34.985095', '2_39_95_444_2018-09-06 06:51:36.059040', '2_39_78_360_2018-09-06 09:03:41.321274', '2_39_78_367_2018-09-06 11:53:07.250923', '2_39_139_28_2018-09-06 13:06:00.415658', '2_39_79_378_2018-09-06 13:24:18.517910', '2_39_131_30_2018-09-06 13:31:23.438720', '2_39_95_27_2018-09-06 13:39:42.210917', '2_39_79_380_2018-09-06 13:50:55.817192', '2_39_89_25_2018-09-06 13:55:38.792527', '2_39_79_381_2018-09-06 13:57:36.546155', '2_39_78_366_2018-09-06 14:02:19.695468', '2_39_92_442_2018-09-06 14:30:26.254746', '2_39_138_29_2018-09-06 14:32:42.721274', '2_39_79_379_2018-09-06 14:44:23.183649', '2_39_138_566_2018-09-06 14:48:33.417712', '2_39_79_382_2018-09-06 15:00:00.665290', '2_39_79_376_2018-09-06 15:06:19.115870', '2_39_129_17_2018-09-06 15:13:49.600819', '2_39_95_444_2018-09-06 15:14:18.266523', '2_39_78_361_2018-09-06 15:16:16.888742', '2_39_78_364_2018-09-06 15:17:32.113462', '2_39_78_365_2018-09-06 15:22:31.908621', '2_39_131_30_2018-09-06 15:22:47.013024', '2_39_78_360_2018-09-06 15:26:30.186531', '2_39_91_437_2018-09-06 15:28:47.419865', '2_39_125_21_2018-09-06 15:31:28.436208', '2_39_89_25_2018-09-06 15:33:55.767554', '2_39_92_436_2018-09-06 15:33:59.012724', '2_39_78_363_2018-09-06 15:34:07.954586', '2_39_139_28_2018-09-06 15:35:25.466491', '2_39_127_19_2018-09-06 15:46:37.614477', '2_39_130_31_2018-09-06 15:46:47.807538', '2_39_78_362_2018-09-06 15:48:00.997157', '2_39_91_441_2018-09-06 15:49:25.910652', '2_39_123_23_2018-09-06 15:49:58.872341', '2_39_90_440_2018-09-06 16:00:41.130451', '2_39_123_557_2018-09-06 16:02:02.109050', '2_39_90_26_2018-09-06 16:02:16.933018', '2_39_124_22_2018-09-06 16:07:35.480347', '2_39_89_439_2018-09-06 16:08:08.724151', '2_39_126_20_2018-09-06 16:09:44.149430', '2_39_88_24_2018-09-06 16:09:46.023924', '2_39_79_377_2018-09-06 16:17:39.921846', '2_39_88_438_2018-09-06 16:30:24.139658', '2_39_125_559_2018-09-06 16:41:59.861684', '2_39_126_20_2018-09-06 16:47:22.194114', '2_39_139_567_2018-09-06 16:57:25.817295', '2_39_130_564_2018-09-06 17:02:38.078013', '2_39_123_23_2018-09-06 17:52:00.471746', '2_39_92_442_2018-09-06 18:37:31.209251', '2_39_78_366_2018-09-06 18:46:03.724266', '2_39_79_378_2018-09-06 18:48:41.752248', '2_39_128_562_2018-09-06 19:01:38.826799', '2_39_126_20_2018-09-06 19:49:10.263467', '2_39_79_377_2018-09-06 20:23:57.211469', '2_39_92_436_2018-09-06 21:04:56.172640', '2_39_124_558_2018-09-06 21:09:24.249343', '2_39_138_566_2018-09-06 21:29:55.053978', '2_39_126_20_2018-09-06 22:11:22.150819', '2_39_128_18_2018-09-06 22:16:43.728360', '2_39_91_437_2018-09-06 22:28:32.290257', '2_39_126_20_2018-09-06 22:57:48.443076', '2_39_79_380_2018-09-06 23:33:41.356189', '2_39_124_22_2018-09-06 23:33:44.675752', '2_39_92_436_2018-09-06 23:45:54.940758', '2_39_128_18_2018-09-07 00:14:36.104691', '2_39_79_381_2018-09-07 00:16:05.699139', '2_39_78_366_2018-09-07 00:19:15.063331', '2_39_123_23_2018-09-07 00:21:17.428467', '2_39_129_17_2018-09-07 00:22:14.692461', '2_39_79_379_2018-09-07 00:29:50.105186', '2_39_126_20_2018-09-07 00:36:43.384368', '2_39_125_21_2018-09-07 00:37:39.538194', '2_39_78_365_2018-09-07 00:38:12.985775', '2_39_78_362_2018-09-07 01:00:41.471832', '2_39_95_27_2018-09-07 01:25:47.813774', '2_39_139_28_2018-09-07 01:26:21.634026', '2_39_125_21_2018-09-07 01:39:39.666768', '2_39_138_29_2018-09-07 01:41:35.269501', '2_39_127_19_2018-09-07 01:44:50.163762', '2_39_131_30_2018-09-07 01:53:30.058919', '2_39_129_17_2018-09-07 02:13:18.383878', '2_39_89_25_2018-09-07 02:13:48.280573', '2_39_130_31_2018-09-07 02:26:21.885772', '2_39_139_28_2018-09-07 02:27:05.412219', '2_39_139_28_2018-09-07 02:59:55.746406', '2_39_128_18_2018-09-07 03:05:57.463302', '2_39_78_366_2018-09-07 03:24:30.278101', '2_39_78_360_2018-09-07 03:25:30.274758', '2_39_139_28_2018-09-07 03:25:40.238107', '2_39_130_31_2018-09-07 03:28:29.664836', '2_39_90_26_2018-09-07 03:32:02.503109', '2_39_138_29_2018-09-07 04:30:44.069714', '2_39_127_19_2018-09-07 04:37:34.350498', '2_39_78_367_2018-09-07 04:51:23.740010', '2_39_127_19_2018-09-07 05:38:27.383463', '2_39_127_19_2018-09-07 06:29:13.766735', '2_39_139_28_2018-09-07 06:32:07.786204']\n",
      "{'CA-308': 0, 'CA-508': 1, 'CA-303': 2, 'CA-513': 3, 'CA-310': 4, 'CA-506': 5, 'CA-316': 6, 'CA-500': 7, 'CA-318': 8, 'CA-498': 9, 'CA-324': 10, 'CA-325': 11, 'CA-326': 12, 'CA-327': 13, 'CA-489': 14, 'CA-490': 15, 'CA-491': 16, 'CA-492': 17, 'CA-322': 18, 'CA-493': 19, 'CA-496': 20, 'CA-320': 21, 'CA-495': 22, 'CA-321': 23, 'CA-323': 24, 'CA-494': 25, 'CA-304': 26, 'CA-512': 27, 'CA-305': 28, 'CA-511': 29, 'CA-313': 30, 'CA-503': 31, 'CA-311': 32, 'CA-505': 33, 'CA-317': 34, 'CA-499': 35, 'CA-148': 36, 'CA-149': 37, 'CA-212': 38, 'CA-213': 39, 'CA-307': 40, 'CA-509': 41, 'CA-309': 42, 'CA-507': 43, 'CA-306': 44, 'CA-510': 45, 'CA-315': 46, 'CA-501': 47, 'CA-319': 48, 'CA-497': 49, 'CA-312': 50, 'CA-504': 51, 'CA-314': 52, 'CA-502': 53}\n"
     ]
    }
   ],
   "source": [
    "# while not events.empty():\n",
    "#     e = events.get_event()\n",
    "# events_special = events.get_current_events(events.get_last_timestamp())\n",
    "# dictionar = []\n",
    "\n",
    "# print(len(events))\n",
    "# print(events.get_last_timestamp())\n",
    "# for e in experiment_events.queue:\n",
    "#     # print('event: ',e)\n",
    "#     sim2._process_event(e[1])\n",
    "# for e in events_special:\n",
    "#     print('aaa')\n",
    "#     sim2._process_event(e)\n",
    "#     dictionar.append(e.ev.session_id)\n",
    "    \n",
    "# print(dictionar)\n",
    "    \n",
    "# sim = configure_sim(\n",
    "#         cap=transformer_cap,\n",
    "#         alg=deepcopy(optimal_alg),\n",
    "#         start=start,\n",
    "#         events=events,\n",
    "#         basic_evse=True,\n",
    "#         estimate_max_rate=False,\n",
    "#         uninterrupted_charging=False,\n",
    "#         quantized=False,\n",
    "#         tariff_name='sce_tou_ev_4_march_2019',\n",
    "#         offline=True\n",
    "#     )\n",
    "\n",
    "# print(sim2.get_active_evs())\n",
    "# optimal_alg.\n",
    "# optimal_alg.register_events(experiment_events)\n",
    "y = optimal_alg.sessions\n",
    "session_ids = []\n",
    "for i in y:\n",
    "    session_ids.append(i.session_id)\n",
    "print('all session ids: ', session_ids)\n",
    "# \n",
    "# \n",
    "# # print(y)\n",
    "# \n",
    "# \n",
    "x = optimal_alg.interface.infrastructure_info()._station_ids_dict \n",
    "print(x)\n",
    "# \n",
    "# print(x.station_ids)\n",
    "# # # optimal_alg.register_interface(deepcopy(acnsim))\n",
    "# \n",
    "# # station ids: i key-value\n",
    "# print(x._station_ids_dict)\n",
    "# "
   ],
   "metadata": {
    "collapsed": false,
    "ExecuteTime": {
     "end_time": "2024-02-13T12:48:34.576808200Z",
     "start_time": "2024-02-13T12:48:34.567478900Z"
    }
   },
   "id": "20a28c8c184dfb78",
   "execution_count": 48
  },
  {
   "cell_type": "code",
   "outputs": [
    {
     "name": "stdout",
     "output_type": "stream",
     "text": [
      "{'energy delivered': [1336.5523913214283, 1512.799442059543], 'proportion of energy delivered': [0.8097224488369635, 0.9164980563257672], 'total energy delivered': [1336.5523913214283, 1512.799442059543], 'total energy requested': [1650.6302786111112, 1650.6302786111112], 'energy_cost': [190.36295313670257, 220.21777876687716], 'demand_charge': [745.231265625, 729.1284450476732], 'total_cost': [935.5942187617026, 949.3462238145503], '$/kWh': [0.7000056449988431, 0.6275426850515619]}\n"
     ]
    },
    {
     "data": {
      "text/plain": "                        energy delivered  proportion of energy delivered  \\\nLLF with binary search       1336.552391                        0.809722   \nOffline MPC                  1512.799442                        0.916498   \n\n                        total energy delivered  total energy requested  \\\nLLF with binary search             1336.552391             1650.630279   \nOffline MPC                        1512.799442             1650.630279   \n\n                        energy_cost  demand_charge  total_cost     $/kWh  \nLLF with binary search   190.362953     745.231266  935.594219  0.700006  \nOffline MPC              220.217779     729.128445  949.346224  0.627543  ",
      "text/html": "<div>\n<style scoped>\n    .dataframe tbody tr th:only-of-type {\n        vertical-align: middle;\n    }\n\n    .dataframe tbody tr th {\n        vertical-align: top;\n    }\n\n    .dataframe thead th {\n        text-align: right;\n    }\n</style>\n<table border=\"1\" class=\"dataframe\">\n  <thead>\n    <tr style=\"text-align: right;\">\n      <th></th>\n      <th>energy delivered</th>\n      <th>proportion of energy delivered</th>\n      <th>total energy delivered</th>\n      <th>total energy requested</th>\n      <th>energy_cost</th>\n      <th>demand_charge</th>\n      <th>total_cost</th>\n      <th>$/kWh</th>\n    </tr>\n  </thead>\n  <tbody>\n    <tr>\n      <th>LLF with binary search</th>\n      <td>1336.552391</td>\n      <td>0.809722</td>\n      <td>1336.552391</td>\n      <td>1650.630279</td>\n      <td>190.362953</td>\n      <td>745.231266</td>\n      <td>935.594219</td>\n      <td>0.700006</td>\n    </tr>\n    <tr>\n      <th>Offline MPC</th>\n      <td>1512.799442</td>\n      <td>0.916498</td>\n      <td>1512.799442</td>\n      <td>1650.630279</td>\n      <td>220.217779</td>\n      <td>729.128445</td>\n      <td>949.346224</td>\n      <td>0.627543</td>\n    </tr>\n  </tbody>\n</table>\n</div>"
     },
     "execution_count": 49,
     "metadata": {},
     "output_type": "execute_result"
    }
   ],
   "source": [
    "# proportion_llf = proportion_of_energy_delivered(sim=simllf)\n",
    "# proportion_mpc = proportion_of_energy_delivered(sim=sim1)\n",
    "# proportion_unc = total_energy_delivered(sim=simunc)\n",
    "# print(proportion_llf)\n",
    "# print(proportion_mpc)\n",
    "# print(proportion_unc)\n",
    "def get_simulation_stats(cn:StochasticNetwork, sim:acnsim.Simulator):\n",
    "    res = {\n",
    "        \"energy delivered\": sum(ev.energy_delivered for ev in sim.ev_history.values()),\n",
    "        \"proportion of energy delivered\": proportion_of_energy_delivered(sim),\n",
    "        \"total energy delivered\": total_energy_delivered(sim),\n",
    "        \"total energy requested\":total_energy_requested(sim),\n",
    "        \"energy_cost\":energy_cost(sim, tariff=signals[\"tariff\"]),\n",
    "        # \"swaps\": cn.swaps,\n",
    "        # \"never_charged\": cn.never_charged,\n",
    "        \"demand_charge\":acnsim.demand_charge(sim)\n",
    "        }\n",
    "\n",
    "    res['total_cost'] = res['energy_cost'] + res['demand_charge']\n",
    "    if res['energy delivered'] != 0:\n",
    "        res['$/kWh'] = res['total_cost'] / res['energy delivered']\n",
    "    else:\n",
    "        res['$/kWh'] = 0\n",
    "    return res\n",
    "\n",
    "\n",
    "sims_data = {}\n",
    "\n",
    "\n",
    "for simulation in simulations:\n",
    "    simulation_dict = get_simulation_stats(cn=cn,\n",
    "                                           sim=simulation)\n",
    "    for sim_key in simulation_dict.keys():\n",
    "        if sims_data.get(sim_key, None) is None:  \n",
    "            sims_data[sim_key] = [simulation_dict[sim_key]]\n",
    "        elif sims_data.get(sim_key, None) is not None:  \n",
    "            sims_data[sim_key].append(simulation_dict[sim_key])\n",
    "print(sims_data)          \n",
    "        \n",
    "\n",
    "\n",
    "\n",
    "df2 = pd.DataFrame(sims_data, index = labels)\n",
    "df2\n",
    "\n"
   ],
   "metadata": {
    "collapsed": false,
    "ExecuteTime": {
     "end_time": "2024-02-13T12:48:34.622059400Z",
     "start_time": "2024-02-13T12:48:34.577817100Z"
    }
   },
   "id": "76cbf214a6d020b5",
   "execution_count": 49
  },
  {
   "cell_type": "code",
   "outputs": [],
   "source": [
    "# add a graph of proportion of  energy delivered in time \n",
    "# look at how their MPC settings work\n",
    "\n",
    "# stochasticnetwork doesnt seem to work with offline MPC optimisation at all, it always gives bad results\n"
   ],
   "metadata": {
    "collapsed": false,
    "ExecuteTime": {
     "end_time": "2024-02-13T12:48:34.623069500Z",
     "start_time": "2024-02-13T12:48:34.598083800Z"
    }
   },
   "id": "23563945374a3a32",
   "execution_count": 50
  }
 ],
 "metadata": {
  "kernelspec": {
   "display_name": "Python 3 (ipykernel)",
   "language": "python",
   "name": "python3"
  },
  "language_info": {
   "codemirror_mode": {
    "name": "ipython",
    "version": 3
   },
   "file_extension": ".py",
   "mimetype": "text/x-python",
   "name": "python",
   "nbconvert_exporter": "python",
   "pygments_lexer": "ipython3",
   "version": "3.12.0"
  }
 },
 "nbformat": 4,
 "nbformat_minor": 5
}
