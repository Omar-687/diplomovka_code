{
 "cells": [
  {
   "cell_type": "code",
   "execution_count": 20,
   "id": "initial_id",
   "metadata": {
    "collapsed": true,
    "ExecuteTime": {
     "end_time": "2024-03-02T16:07:37.335970Z",
     "start_time": "2024-03-02T16:07:30.586437Z"
    }
   },
   "outputs": [
    {
     "name": "stderr",
     "output_type": "stream",
     "text": [
      "fatal: destination path 'acnportal' already exists and is not an empty directory.\n"
     ]
    },
    {
     "name": "stdout",
     "output_type": "stream",
     "text": [
      "Processing c:\\users\\omi\\documents\\uni\\diplomovka\\github\\code rep\\diplomovka_code\\acnportal\\my_experiments\\python_implementation\\mpc\\acnportal\n",
      "  Preparing metadata (setup.py): started\n",
      "  Preparing metadata (setup.py): finished with status 'done'\n",
      "Requirement already satisfied: numpy in c:\\users\\omi\\appdata\\local\\programs\\python\\python312\\lib\\site-packages (from acnportal==0.3.3) (1.26.0)\n",
      "Requirement already satisfied: pandas in c:\\users\\omi\\appdata\\local\\programs\\python\\python312\\lib\\site-packages (from acnportal==0.3.3) (2.1.3)\n",
      "Requirement already satisfied: matplotlib in c:\\users\\omi\\appdata\\local\\programs\\python\\python312\\lib\\site-packages (from acnportal==0.3.3) (3.8.2)\n",
      "Requirement already satisfied: requests in c:\\users\\omi\\appdata\\local\\programs\\python\\python312\\lib\\site-packages (from acnportal==0.3.3) (2.31.0)\n",
      "Requirement already satisfied: pytz in c:\\users\\omi\\appdata\\local\\programs\\python\\python312\\lib\\site-packages (from acnportal==0.3.3) (2023.3.post1)\n",
      "Requirement already satisfied: typing_extensions in c:\\users\\omi\\appdata\\local\\programs\\python\\python312\\lib\\site-packages (from acnportal==0.3.3) (4.8.0)\n",
      "Requirement already satisfied: scikit-learn in c:\\users\\omi\\appdata\\local\\programs\\python\\python312\\lib\\site-packages (from acnportal==0.3.3) (1.3.2)\n",
      "Requirement already satisfied: contourpy>=1.0.1 in c:\\users\\omi\\appdata\\local\\programs\\python\\python312\\lib\\site-packages (from matplotlib->acnportal==0.3.3) (1.2.0)\n",
      "Requirement already satisfied: cycler>=0.10 in c:\\users\\omi\\appdata\\local\\programs\\python\\python312\\lib\\site-packages (from matplotlib->acnportal==0.3.3) (0.12.1)\n",
      "Requirement already satisfied: fonttools>=4.22.0 in c:\\users\\omi\\appdata\\local\\programs\\python\\python312\\lib\\site-packages (from matplotlib->acnportal==0.3.3) (4.45.1)\n",
      "Requirement already satisfied: kiwisolver>=1.3.1 in c:\\users\\omi\\appdata\\local\\programs\\python\\python312\\lib\\site-packages (from matplotlib->acnportal==0.3.3) (1.4.5)\n",
      "Requirement already satisfied: packaging>=20.0 in c:\\users\\omi\\appdata\\local\\programs\\python\\python312\\lib\\site-packages (from matplotlib->acnportal==0.3.3) (23.2)\n",
      "Requirement already satisfied: pillow>=8 in c:\\users\\omi\\appdata\\local\\programs\\python\\python312\\lib\\site-packages (from matplotlib->acnportal==0.3.3) (10.1.0)\n",
      "Requirement already satisfied: pyparsing>=2.3.1 in c:\\users\\omi\\appdata\\local\\programs\\python\\python312\\lib\\site-packages (from matplotlib->acnportal==0.3.3) (3.1.1)\n",
      "Requirement already satisfied: python-dateutil>=2.7 in c:\\users\\omi\\appdata\\local\\programs\\python\\python312\\lib\\site-packages (from matplotlib->acnportal==0.3.3) (2.8.2)\n",
      "Requirement already satisfied: tzdata>=2022.1 in c:\\users\\omi\\appdata\\local\\programs\\python\\python312\\lib\\site-packages (from pandas->acnportal==0.3.3) (2023.3)\n",
      "Requirement already satisfied: charset-normalizer<4,>=2 in c:\\users\\omi\\appdata\\local\\programs\\python\\python312\\lib\\site-packages (from requests->acnportal==0.3.3) (3.3.2)\n",
      "Requirement already satisfied: idna<4,>=2.5 in c:\\users\\omi\\appdata\\local\\programs\\python\\python312\\lib\\site-packages (from requests->acnportal==0.3.3) (3.4)\n",
      "Requirement already satisfied: urllib3<3,>=1.21.1 in c:\\users\\omi\\appdata\\local\\programs\\python\\python312\\lib\\site-packages (from requests->acnportal==0.3.3) (2.1.0)\n",
      "Requirement already satisfied: certifi>=2017.4.17 in c:\\users\\omi\\appdata\\local\\programs\\python\\python312\\lib\\site-packages (from requests->acnportal==0.3.3) (2023.11.17)\n",
      "Requirement already satisfied: scipy>=1.5.0 in c:\\users\\omi\\appdata\\local\\programs\\python\\python312\\lib\\site-packages (from scikit-learn->acnportal==0.3.3) (1.11.4)\n",
      "Requirement already satisfied: joblib>=1.1.1 in c:\\users\\omi\\appdata\\local\\programs\\python\\python312\\lib\\site-packages (from scikit-learn->acnportal==0.3.3) (1.3.2)\n",
      "Requirement already satisfied: threadpoolctl>=2.0.0 in c:\\users\\omi\\appdata\\local\\programs\\python\\python312\\lib\\site-packages (from scikit-learn->acnportal==0.3.3) (3.2.0)\n",
      "Requirement already satisfied: six>=1.5 in c:\\users\\omi\\appdata\\local\\programs\\python\\python312\\lib\\site-packages (from python-dateutil>=2.7->matplotlib->acnportal==0.3.3) (1.16.0)\n",
      "Building wheels for collected packages: acnportal\n",
      "  Building wheel for acnportal (setup.py): started\n",
      "  Building wheel for acnportal (setup.py): finished with status 'done'\n",
      "  Created wheel for acnportal: filename=acnportal-0.3.3-py3-none-any.whl size=120552 sha256=3e80941c49cd434e231c1bee0839072eee6b696dca8a6ebd370551d93dda5397\n",
      "  Stored in directory: C:\\Users\\OMI\\AppData\\Local\\Temp\\pip-ephem-wheel-cache-sca5dvs2\\wheels\\97\\34\\16\\0275fe18247ebd48f261c6fc979226250361f9c1ebae1946c6\n",
      "Successfully built acnportal\n",
      "Installing collected packages: acnportal\n",
      "  Attempting uninstall: acnportal\n",
      "    Found existing installation: acnportal 0.3.3\n",
      "    Uninstalling acnportal-0.3.3:\n",
      "      Successfully uninstalled acnportal-0.3.3\n",
      "Successfully installed acnportal-0.3.3\n"
     ]
    },
    {
     "name": "stderr",
     "output_type": "stream",
     "text": [
      "\n",
      "[notice] A new release of pip is available: 23.3.1 -> 24.0\n",
      "[notice] To update, run: python.exe -m pip install --upgrade pip\n"
     ]
    }
   ],
   "source": [
    "!git clone https://github.com/zach401/acnportal.git\n",
    "!pip install acnportal/."
   ]
  },
  {
   "cell_type": "code",
   "outputs": [],
   "source": [
    "from datetime import datetime\n",
    "import pytz\n",
    "import matplotlib.pyplot as plt\n",
    "import matplotlib.dates as mdates\n",
    "from copy import deepcopy\n",
    "\n",
    "from acnportal import algorithms\n",
    "from acnportal import acnsim\n",
    "from mpc_sched import *\n",
    "from mpc_optim import *\n"
   ],
   "metadata": {
    "collapsed": false,
    "ExecuteTime": {
     "end_time": "2024-03-02T16:07:37.347660Z",
     "start_time": "2024-03-02T16:07:37.338622Z"
    }
   },
   "id": "ed46ceb748bf42e4",
   "execution_count": 21
  },
  {
   "cell_type": "code",
   "outputs": [],
   "source": [
    "\n",
    "\n",
    "\n",
    "\n",
    "# -- Experiment Parameters ---------------------------------------------------------------------------------------------\n",
    "timezone = pytz.timezone('America/Los_Angeles')\n",
    "start = timezone.localize(datetime(2018, 9, 5))\n",
    "end = timezone.localize(datetime(2018, 9, 6))\n",
    "period = 5  # minute\n",
    "voltage = 220  # volts\n",
    "default_battery_power = 32 * voltage / 1000 # kW\n",
    "site = 'caltech'\n",
    "\n",
    "# -- Network -----------------------------------------------------------------------------------------------------------\n",
    "cn = acnsim.sites.caltech_acn(basic_evse=True, voltage=voltage)\n",
    "\n",
    "# -- Events ------------------------------------------------------------------------------------------------------------\n",
    "API_KEY = 'DEMO_TOKEN'\n",
    "events = acnsim.acndata_events.generate_events(API_KEY, site, start, end, period, voltage, default_battery_power)\n",
    "\n",
    "\n",
    "# -- Scheduling Algorithm ----------------------------------------------------------------------------------------------\n",
    "# sch = EarliestDeadlineFirstAlgo(increment=1)\n",
    "sch2 = algorithms.SortedSchedulingAlgo(algorithms.least_laxity_first)\n",
    "\n",
    "# objectives can be:\n",
    "#  maximise energy\n",
    "#  minimize costs/ maximise profit\n",
    "# charge as quickly as possible\n",
    "# smoothen charging rates\n",
    "obj = Objective()\n",
    "objective = [\n",
    "    obj.maximize_charging_energy(obj),\n",
    "    obj.minimize_customers_chaging_costs(obj),\n",
    "    obj.charge_as_quickly_as_possible(self=obj),\n",
    "    # smoothen_charging_rates\n",
    "]\n",
    "sch_mpc = MyMpcAlgorithm(objective=objective)\n",
    "\n",
    "\n",
    "sim_mpc = acnsim.Simulator(deepcopy(cn), sch2, deepcopy(events),start, period=period, verbose=False)\n",
    "sim_mpc.run()\n",
    "a = 0"
   ],
   "metadata": {
    "collapsed": false,
    "ExecuteTime": {
     "end_time": "2024-03-02T16:07:40.214113Z",
     "start_time": "2024-03-02T16:07:37.350750Z"
    }
   },
   "id": "6defa816b0215036",
   "execution_count": 22
  },
  {
   "cell_type": "code",
   "outputs": [],
   "source": [
    "# For comparison we will also run the builtin earliest deadline first algorithm\n",
    "# sim2 = acnsim.Simulator(deepcopy(cn), sch2, deepcopy(events), start, period=period, verbose=False)\n",
    "# sim2.run()"
   ],
   "metadata": {
    "collapsed": false,
    "ExecuteTime": {
     "end_time": "2024-03-02T16:07:40.221203Z",
     "start_time": "2024-03-02T16:07:40.216136Z"
    }
   },
   "id": "b4008d34915f136f",
   "execution_count": 23
  },
  {
   "cell_type": "code",
   "outputs": [],
   "source": [],
   "metadata": {
    "collapsed": false,
    "ExecuteTime": {
     "end_time": "2024-03-02T16:07:40.226734Z",
     "start_time": "2024-03-02T16:07:40.223226Z"
    }
   },
   "id": "38da220d7b62510c",
   "execution_count": 23
  }
 ],
 "metadata": {
  "kernelspec": {
   "display_name": "Python 3",
   "language": "python",
   "name": "python3"
  },
  "language_info": {
   "codemirror_mode": {
    "name": "ipython",
    "version": 2
   },
   "file_extension": ".py",
   "mimetype": "text/x-python",
   "name": "python",
   "nbconvert_exporter": "python",
   "pygments_lexer": "ipython2",
   "version": "2.7.6"
  }
 },
 "nbformat": 4,
 "nbformat_minor": 5
}
