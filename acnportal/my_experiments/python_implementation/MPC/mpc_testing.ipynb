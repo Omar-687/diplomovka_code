{
 "cells": [
  {
   "cell_type": "code",
   "execution_count": 3,
   "id": "initial_id",
   "metadata": {
    "collapsed": true,
    "ExecuteTime": {
     "end_time": "2024-03-25T15:34:29.516240Z",
     "start_time": "2024-03-25T15:34:24.551081Z"
    }
   },
   "outputs": [
    {
     "name": "stderr",
     "output_type": "stream",
     "text": [
      "fatal: destination path 'acnportal' already exists and is not an empty directory.\n"
     ]
    },
    {
     "name": "stdout",
     "output_type": "stream",
     "text": [
      "Processing c:\\users\\omi\\documents\\uni\\diplomovka\\github\\code rep\\diplomovka_code\\acnportal\\my_experiments\\python_implementation\\mpc\\acnportal\n",
      "Requirement already satisfied: numpy in c:\\users\\omi\\appdata\\local\\programs\\python\\python310\\lib\\site-packages (from acnportal==0.3.3) (1.26.4)\n",
      "Requirement already satisfied: pandas in c:\\users\\omi\\appdata\\local\\programs\\python\\python310\\lib\\site-packages (from acnportal==0.3.3) (2.2.1)\n",
      "Requirement already satisfied: matplotlib in c:\\users\\omi\\appdata\\local\\programs\\python\\python310\\lib\\site-packages (from acnportal==0.3.3) (3.8.3)\n",
      "Requirement already satisfied: requests in c:\\users\\omi\\appdata\\local\\programs\\python\\python310\\lib\\site-packages (from acnportal==0.3.3) (2.31.0)\n",
      "Requirement already satisfied: pytz in c:\\users\\omi\\appdata\\local\\programs\\python\\python310\\lib\\site-packages (from acnportal==0.3.3) (2024.1)\n",
      "Requirement already satisfied: typing_extensions in c:\\users\\omi\\appdata\\local\\programs\\python\\python310\\lib\\site-packages (from acnportal==0.3.3) (4.10.0)\n",
      "Requirement already satisfied: scikit-learn in c:\\users\\omi\\appdata\\local\\programs\\python\\python310\\lib\\site-packages (from acnportal==0.3.3) (1.4.1.post1)\n",
      "Requirement already satisfied: pillow>=8 in c:\\users\\omi\\appdata\\local\\programs\\python\\python310\\lib\\site-packages (from matplotlib->acnportal==0.3.3) (10.2.0)\n",
      "Requirement already satisfied: contourpy>=1.0.1 in c:\\users\\omi\\appdata\\local\\programs\\python\\python310\\lib\\site-packages (from matplotlib->acnportal==0.3.3) (1.2.0)\n",
      "Requirement already satisfied: pyparsing>=2.3.1 in c:\\users\\omi\\appdata\\local\\programs\\python\\python310\\lib\\site-packages (from matplotlib->acnportal==0.3.3) (3.1.2)\n",
      "Requirement already satisfied: cycler>=0.10 in c:\\users\\omi\\appdata\\local\\programs\\python\\python310\\lib\\site-packages (from matplotlib->acnportal==0.3.3) (0.12.1)\n",
      "Requirement already satisfied: packaging>=20.0 in c:\\users\\omi\\appdata\\local\\programs\\python\\python310\\lib\\site-packages (from matplotlib->acnportal==0.3.3) (24.0)\n",
      "Requirement already satisfied: fonttools>=4.22.0 in c:\\users\\omi\\appdata\\local\\programs\\python\\python310\\lib\\site-packages (from matplotlib->acnportal==0.3.3) (4.50.0)\n",
      "Requirement already satisfied: python-dateutil>=2.7 in c:\\users\\omi\\appdata\\local\\programs\\python\\python310\\lib\\site-packages (from matplotlib->acnportal==0.3.3) (2.9.0.post0)\n",
      "Requirement already satisfied: kiwisolver>=1.3.1 in c:\\users\\omi\\appdata\\local\\programs\\python\\python310\\lib\\site-packages (from matplotlib->acnportal==0.3.3) (1.4.5)\n",
      "Requirement already satisfied: six>=1.5 in c:\\users\\omi\\appdata\\local\\programs\\python\\python310\\lib\\site-packages (from python-dateutil>=2.7->matplotlib->acnportal==0.3.3) (1.16.0)\n",
      "Requirement already satisfied: tzdata>=2022.7 in c:\\users\\omi\\appdata\\local\\programs\\python\\python310\\lib\\site-packages (from pandas->acnportal==0.3.3) (2024.1)\n",
      "Requirement already satisfied: charset-normalizer<4,>=2 in c:\\users\\omi\\appdata\\local\\programs\\python\\python310\\lib\\site-packages (from requests->acnportal==0.3.3) (3.3.2)\n",
      "Requirement already satisfied: certifi>=2017.4.17 in c:\\users\\omi\\appdata\\local\\programs\\python\\python310\\lib\\site-packages (from requests->acnportal==0.3.3) (2024.2.2)\n",
      "Requirement already satisfied: idna<4,>=2.5 in c:\\users\\omi\\appdata\\local\\programs\\python\\python310\\lib\\site-packages (from requests->acnportal==0.3.3) (3.6)\n",
      "Requirement already satisfied: urllib3<3,>=1.21.1 in c:\\users\\omi\\appdata\\local\\programs\\python\\python310\\lib\\site-packages (from requests->acnportal==0.3.3) (2.2.1)\n",
      "Requirement already satisfied: threadpoolctl>=2.0.0 in c:\\users\\omi\\appdata\\local\\programs\\python\\python310\\lib\\site-packages (from scikit-learn->acnportal==0.3.3) (3.4.0)\n",
      "Requirement already satisfied: joblib>=1.2.0 in c:\\users\\omi\\appdata\\local\\programs\\python\\python310\\lib\\site-packages (from scikit-learn->acnportal==0.3.3) (1.3.2)\n",
      "Requirement already satisfied: scipy>=1.6.0 in c:\\users\\omi\\appdata\\local\\programs\\python\\python310\\lib\\site-packages (from scikit-learn->acnportal==0.3.3) (1.12.0)\n",
      "Using legacy 'setup.py install' for acnportal, since package 'wheel' is not installed.\n",
      "Installing collected packages: acnportal\n",
      "  Attempting uninstall: acnportal\n",
      "    Found existing installation: acnportal 0.3.3\n",
      "    Uninstalling acnportal-0.3.3:\n",
      "      Successfully uninstalled acnportal-0.3.3\n",
      "    Running setup.py install for acnportal: started\n",
      "    Running setup.py install for acnportal: finished with status 'done'\n",
      "Successfully installed acnportal-0.3.3\n"
     ]
    },
    {
     "name": "stderr",
     "output_type": "stream",
     "text": [
      "  DEPRECATION: A future pip version will change local packages to be built in-place without first copying to a temporary directory. We recommend you use --use-feature=in-tree-build to test your packages with this new behavior before it becomes the default.\n",
      "   pip 21.3 will remove support for this functionality. You can find discussion regarding this at https://github.com/pypa/pip/issues/7555.\n",
      "WARNING: You are using pip version 21.2.3; however, version 24.0 is available.\n",
      "You should consider upgrading via the 'C:\\Users\\OMI\\AppData\\Local\\Programs\\Python\\Python310\\python.exe -m pip install --upgrade pip' command.\n"
     ]
    }
   ],
   "source": [
    "!git clone https://github.com/zach401/acnportal.git\n",
    "!pip install acnportal/."
   ]
  },
  {
   "cell_type": "code",
   "outputs": [
    {
     "ename": "ModuleNotFoundError",
     "evalue": "No module named 'cvxpy'",
     "output_type": "error",
     "traceback": [
      "\u001B[1;31m---------------------------------------------------------------------------\u001B[0m",
      "\u001B[1;31mModuleNotFoundError\u001B[0m                       Traceback (most recent call last)",
      "Cell \u001B[1;32mIn[4], line 9\u001B[0m\n\u001B[0;32m      7\u001B[0m \u001B[38;5;28;01mfrom\u001B[39;00m \u001B[38;5;21;01macnportal\u001B[39;00m \u001B[38;5;28;01mimport\u001B[39;00m algorithms\n\u001B[0;32m      8\u001B[0m \u001B[38;5;28;01mfrom\u001B[39;00m \u001B[38;5;21;01macnportal\u001B[39;00m \u001B[38;5;28;01mimport\u001B[39;00m acnsim\n\u001B[1;32m----> 9\u001B[0m \u001B[38;5;28;01mfrom\u001B[39;00m \u001B[38;5;21;01mmpc_sched\u001B[39;00m \u001B[38;5;28;01mimport\u001B[39;00m \u001B[38;5;241m*\u001B[39m\n\u001B[0;32m     10\u001B[0m \u001B[38;5;28;01mfrom\u001B[39;00m \u001B[38;5;21;01mmpc_optim\u001B[39;00m \u001B[38;5;28;01mimport\u001B[39;00m \u001B[38;5;241m*\u001B[39m\n",
      "File \u001B[1;32m~\\Documents\\uni\\diplomovka\\github\\code rep\\diplomovka_code\\acnportal\\my_experiments\\python_implementation\\MPC\\mpc_sched.py:3\u001B[0m\n\u001B[0;32m      1\u001B[0m \u001B[38;5;28;01mimport\u001B[39;00m \u001B[38;5;21;01mnumpy\u001B[39;00m \u001B[38;5;28;01mas\u001B[39;00m \u001B[38;5;21;01mnp\u001B[39;00m\n\u001B[0;32m      2\u001B[0m \u001B[38;5;28;01mfrom\u001B[39;00m \u001B[38;5;21;01macnportal\u001B[39;00m\u001B[38;5;21;01m.\u001B[39;00m\u001B[38;5;21;01malgorithms\u001B[39;00m \u001B[38;5;28;01mimport\u001B[39;00m BaseAlgorithm\n\u001B[1;32m----> 3\u001B[0m \u001B[38;5;28;01mfrom\u001B[39;00m \u001B[38;5;21;01mmpc_optim\u001B[39;00m \u001B[38;5;28;01mimport\u001B[39;00m  \u001B[38;5;241m*\u001B[39m\n\u001B[0;32m      4\u001B[0m \u001B[38;5;28;01mimport\u001B[39;00m \u001B[38;5;21;01mcvxpy\u001B[39;00m \u001B[38;5;28;01mas\u001B[39;00m \u001B[38;5;21;01mcp\u001B[39;00m\n\u001B[0;32m      5\u001B[0m \u001B[38;5;28;01mimport\u001B[39;00m \u001B[38;5;21;01mnumpy\u001B[39;00m\n",
      "File \u001B[1;32m~\\Documents\\uni\\diplomovka\\github\\code rep\\diplomovka_code\\acnportal\\my_experiments\\python_implementation\\MPC\\mpc_optim.py:3\u001B[0m\n\u001B[0;32m      1\u001B[0m \u001B[38;5;28;01mfrom\u001B[39;00m \u001B[38;5;21;01mtyping\u001B[39;00m \u001B[38;5;28;01mimport\u001B[39;00m List, Union, Optional\n\u001B[1;32m----> 3\u001B[0m \u001B[38;5;28;01mimport\u001B[39;00m \u001B[38;5;21;01madacharge\u001B[39;00m\n\u001B[0;32m      4\u001B[0m \u001B[38;5;28;01mfrom\u001B[39;00m \u001B[38;5;21;01madacharge\u001B[39;00m \u001B[38;5;28;01mimport\u001B[39;00m AdaptiveChargingOptimization\n\u001B[0;32m      5\u001B[0m \u001B[38;5;28;01mimport\u001B[39;00m \u001B[38;5;21;01mnumpy\u001B[39;00m \u001B[38;5;28;01mas\u001B[39;00m \u001B[38;5;21;01mnp\u001B[39;00m\n",
      "File \u001B[1;32m~\\Documents\\uni\\diplomovka\\github\\code rep\\diplomovka_code\\acnportal\\my_experiments\\python_implementation\\MPC\\adacharge\\__init__.py:1\u001B[0m\n\u001B[1;32m----> 1\u001B[0m \u001B[38;5;28;01mfrom\u001B[39;00m \u001B[38;5;21;01m.\u001B[39;00m\u001B[38;5;21;01madacharge\u001B[39;00m \u001B[38;5;28;01mimport\u001B[39;00m \u001B[38;5;241m*\u001B[39m\n\u001B[0;32m      2\u001B[0m \u001B[38;5;28;01mfrom\u001B[39;00m \u001B[38;5;21;01m.\u001B[39;00m\u001B[38;5;21;01mpostprocessing\u001B[39;00m \u001B[38;5;28;01mimport\u001B[39;00m \u001B[38;5;241m*\u001B[39m\n\u001B[0;32m      3\u001B[0m \u001B[38;5;28;01mfrom\u001B[39;00m \u001B[38;5;21;01m.\u001B[39;00m\u001B[38;5;21;01madaptive_charging_optimization\u001B[39;00m \u001B[38;5;28;01mimport\u001B[39;00m \u001B[38;5;241m*\u001B[39m\n",
      "File \u001B[1;32m~\\Documents\\uni\\diplomovka\\github\\code rep\\diplomovka_code\\acnportal\\my_experiments\\python_implementation\\MPC\\adacharge\\adacharge.py:5\u001B[0m\n\u001B[0;32m      2\u001B[0m \u001B[38;5;28;01mfrom\u001B[39;00m \u001B[38;5;21;01mcopy\u001B[39;00m \u001B[38;5;28;01mimport\u001B[39;00m deepcopy\n\u001B[0;32m      3\u001B[0m \u001B[38;5;28;01mimport\u001B[39;00m \u001B[38;5;21;01mwarnings\u001B[39;00m\n\u001B[1;32m----> 5\u001B[0m \u001B[38;5;28;01mfrom\u001B[39;00m \u001B[38;5;21;01m.\u001B[39;00m\u001B[38;5;21;01madaptive_charging_optimization\u001B[39;00m \u001B[38;5;28;01mimport\u001B[39;00m \u001B[38;5;241m*\u001B[39m\n\u001B[0;32m      6\u001B[0m \u001B[38;5;28;01mfrom\u001B[39;00m \u001B[38;5;21;01macnportal\u001B[39;00m\u001B[38;5;21;01m.\u001B[39;00m\u001B[38;5;21;01malgorithms\u001B[39;00m \u001B[38;5;28;01mimport\u001B[39;00m (\n\u001B[0;32m      7\u001B[0m     apply_upper_bound_estimate,\n\u001B[0;32m      8\u001B[0m     apply_minimum_charging_rate,\n\u001B[0;32m      9\u001B[0m     enforce_pilot_limit,\n\u001B[0;32m     10\u001B[0m )\n\u001B[0;32m     11\u001B[0m \u001B[38;5;28;01mfrom\u001B[39;00m \u001B[38;5;21;01m.\u001B[39;00m\u001B[38;5;21;01mpostprocessing\u001B[39;00m \u001B[38;5;28;01mimport\u001B[39;00m (\n\u001B[0;32m     12\u001B[0m     project_into_continuous_feasible_pilots,\n\u001B[0;32m     13\u001B[0m     project_into_discrete_feasible_pilots,\n\u001B[0;32m     14\u001B[0m )\n",
      "File \u001B[1;32m~\\Documents\\uni\\diplomovka\\github\\code rep\\diplomovka_code\\acnportal\\my_experiments\\python_implementation\\MPC\\adacharge\\adaptive_charging_optimization.py:4\u001B[0m\n\u001B[0;32m      2\u001B[0m \u001B[38;5;28;01mfrom\u001B[39;00m \u001B[38;5;21;01mcollections\u001B[39;00m \u001B[38;5;28;01mimport\u001B[39;00m namedtuple\n\u001B[0;32m      3\u001B[0m \u001B[38;5;28;01mimport\u001B[39;00m \u001B[38;5;21;01mnumpy\u001B[39;00m \u001B[38;5;28;01mas\u001B[39;00m \u001B[38;5;21;01mnp\u001B[39;00m\n\u001B[1;32m----> 4\u001B[0m \u001B[38;5;28;01mimport\u001B[39;00m \u001B[38;5;21;01mcvxpy\u001B[39;00m \u001B[38;5;28;01mas\u001B[39;00m \u001B[38;5;21;01mcp\u001B[39;00m\n\u001B[0;32m      5\u001B[0m \u001B[38;5;28;01mfrom\u001B[39;00m \u001B[38;5;21;01macnportal\u001B[39;00m\u001B[38;5;21;01m.\u001B[39;00m\u001B[38;5;21;01macnsim\u001B[39;00m\u001B[38;5;21;01m.\u001B[39;00m\u001B[38;5;21;01minterface\u001B[39;00m \u001B[38;5;28;01mimport\u001B[39;00m Interface, SessionInfo, InfrastructureInfo\n\u001B[0;32m      7\u001B[0m \u001B[38;5;28;01mclass\u001B[39;00m \u001B[38;5;21;01mInfeasibilityException\u001B[39;00m(\u001B[38;5;167;01mException\u001B[39;00m):\n",
      "\u001B[1;31mModuleNotFoundError\u001B[0m: No module named 'cvxpy'"
     ]
    }
   ],
   "source": [
    "from datetime import datetime\n",
    "import pytz\n",
    "import matplotlib.pyplot as plt\n",
    "import matplotlib.dates as mdates\n",
    "from copy import deepcopy\n",
    "\n",
    "from acnportal import algorithms\n",
    "from acnportal import acnsim\n",
    "from mpc_sched import *\n",
    "from mpc_optim import *\n"
   ],
   "metadata": {
    "collapsed": false,
    "ExecuteTime": {
     "end_time": "2024-03-25T15:34:29.656191Z",
     "start_time": "2024-03-25T15:34:29.518614Z"
    }
   },
   "id": "ed46ceb748bf42e4",
   "execution_count": 4
  },
  {
   "cell_type": "code",
   "outputs": [],
   "source": [
    "\n",
    "\n",
    "\n",
    "\n",
    "# -- Experiment Parameters ---------------------------------------------------------------------------------------------\n",
    "timezone = pytz.timezone('America/Los_Angeles')\n",
    "start = timezone.localize(datetime(2018, 9, 5))\n",
    "end = timezone.localize(datetime(2018, 9, 6))\n",
    "period = 5  # minute\n",
    "voltage = 220  # volts\n",
    "default_battery_power = 32 * voltage / 1000 # kW\n",
    "site = 'caltech'\n",
    "\n",
    "# -- Network -----------------------------------------------------------------------------------------------------------\n",
    "cn = acnsim.sites.caltech_acn(basic_evse=True, voltage=voltage)\n",
    "\n",
    "# -- Events ------------------------------------------------------------------------------------------------------------\n",
    "API_KEY = 'DEMO_TOKEN'\n",
    "events = acnsim.acndata_events.generate_events(API_KEY, site, start, end, period, voltage, default_battery_power)\n",
    "\n",
    "\n",
    "# -- Scheduling Algorithm ----------------------------------------------------------------------------------------------\n",
    "# sch = EarliestDeadlineFirstAlgo(increment=1)\n",
    "sch2 = algorithms.SortedSchedulingAlgo(algorithms.least_laxity_first)\n",
    "\n",
    "# objectives can be:\n",
    "#  maximise energy\n",
    "#  minimize costs/ maximise profit\n",
    "# charge as quickly as possible\n",
    "# smoothen charging rates\n",
    "obj = Objective()\n",
    "objective = [\n",
    "    obj.maximize_charging_energy(obj),\n",
    "    obj.minimize_customers_chaging_costs(obj),\n",
    "    obj.charge_as_quickly_as_possible(self=obj),\n",
    "    # smoothen_charging_rates\n",
    "]\n",
    "sch_mpc = MyMpcAlgorithm(objective=objective)\n",
    "\n",
    "\n",
    "sim_mpc = acnsim.Simulator(deepcopy(cn), sch2, deepcopy(events),start, period=period, verbose=False)\n",
    "sim_mpc.run()\n",
    "a = 0"
   ],
   "metadata": {
    "collapsed": false,
    "ExecuteTime": {
     "end_time": "2024-03-25T15:34:29.658643Z",
     "start_time": "2024-03-25T15:34:29.658643Z"
    }
   },
   "id": "6defa816b0215036",
   "execution_count": null
  },
  {
   "cell_type": "code",
   "outputs": [],
   "source": [
    "# For comparison we will also run the builtin earliest deadline first algorithm\n",
    "# sim2 = acnsim.Simulator(deepcopy(cn), sch2, deepcopy(events), start, period=period, verbose=False)\n",
    "# sim2.run()"
   ],
   "metadata": {
    "collapsed": false,
    "ExecuteTime": {
     "end_time": "2024-03-25T15:34:29.660909Z",
     "start_time": "2024-03-25T15:34:29.660772Z"
    }
   },
   "id": "b4008d34915f136f",
   "execution_count": null
  },
  {
   "cell_type": "code",
   "outputs": [],
   "source": [],
   "metadata": {
    "collapsed": false
   },
   "id": "38da220d7b62510c",
   "execution_count": null
  }
 ],
 "metadata": {
  "kernelspec": {
   "display_name": "Python 3",
   "language": "python",
   "name": "python3"
  },
  "language_info": {
   "codemirror_mode": {
    "name": "ipython",
    "version": 2
   },
   "file_extension": ".py",
   "mimetype": "text/x-python",
   "name": "python",
   "nbconvert_exporter": "python",
   "pygments_lexer": "ipython2",
   "version": "2.7.6"
  }
 },
 "nbformat": 4,
 "nbformat_minor": 5
}
